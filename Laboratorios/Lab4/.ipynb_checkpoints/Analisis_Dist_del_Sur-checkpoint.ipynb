{
 "cells": [
  {
   "cell_type": "markdown",
   "metadata": {},
   "source": [
    "# **Librerias**"
   ]
  },
  {
   "cell_type": "code",
   "execution_count": 1,
   "metadata": {},
   "outputs": [],
   "source": [
    "import numpy as np\n",
    "import pandas as pd\n",
    "import matplotlib.pyplot as plt\n",
    "import seaborn as sns\n",
    "from pandasql import sqldf\n",
    "import datetime\n",
    "import io\n",
    "\n",
    "pysqldf = lambda q: sqldf(q, globals())"
   ]
  },
  {
   "cell_type": "markdown",
   "metadata": {},
   "source": [
    "# **Data**"
   ]
  },
  {
   "cell_type": "code",
   "execution_count": 2,
   "metadata": {},
   "outputs": [
    {
     "name": "stdout",
     "output_type": "stream",
     "text": [
      "(2180, 11) \n",
      "\n"
     ]
    },
    {
     "data": {
      "text/html": [
       "<div>\n",
       "<style scoped>\n",
       "    .dataframe tbody tr th:only-of-type {\n",
       "        vertical-align: middle;\n",
       "    }\n",
       "\n",
       "    .dataframe tbody tr th {\n",
       "        vertical-align: top;\n",
       "    }\n",
       "\n",
       "    .dataframe thead th {\n",
       "        text-align: right;\n",
       "    }\n",
       "</style>\n",
       "<table border=\"1\" class=\"dataframe\">\n",
       "  <thead>\n",
       "    <tr style=\"text-align: right;\">\n",
       "      <th></th>\n",
       "      <th>Unnamed: 0</th>\n",
       "      <th>COD_VIAJE</th>\n",
       "      <th>CLIENTE</th>\n",
       "      <th>UBICACION</th>\n",
       "      <th>CANTIDAD</th>\n",
       "      <th>PILOTO</th>\n",
       "      <th>Q</th>\n",
       "      <th>CREDITO</th>\n",
       "      <th>UNIDAD</th>\n",
       "      <th>MES</th>\n",
       "      <th>ANIO</th>\n",
       "    </tr>\n",
       "  </thead>\n",
       "  <tbody>\n",
       "    <tr>\n",
       "      <th>0</th>\n",
       "      <td>1</td>\n",
       "      <td>10000001</td>\n",
       "      <td>EL PINCHE OBELISCO / Despacho a cliente</td>\n",
       "      <td>76002</td>\n",
       "      <td>1200</td>\n",
       "      <td>Fernando Mariano Berrio</td>\n",
       "      <td>300.00</td>\n",
       "      <td>30</td>\n",
       "      <td>Camion Grande</td>\n",
       "      <td>1</td>\n",
       "      <td>2019</td>\n",
       "    </tr>\n",
       "    <tr>\n",
       "      <th>1</th>\n",
       "      <td>2</td>\n",
       "      <td>10000002</td>\n",
       "      <td>TAQUERIA EL CHINITO |||Faltante</td>\n",
       "      <td>76002</td>\n",
       "      <td>1433</td>\n",
       "      <td>Hector Aragones Frutos</td>\n",
       "      <td>358.25</td>\n",
       "      <td>90</td>\n",
       "      <td>Camion Grande</td>\n",
       "      <td>1</td>\n",
       "      <td>2019</td>\n",
       "    </tr>\n",
       "    <tr>\n",
       "      <th>2</th>\n",
       "      <td>3</td>\n",
       "      <td>10000003</td>\n",
       "      <td>TIENDA LA BENDICION / Despacho a cliente</td>\n",
       "      <td>76002</td>\n",
       "      <td>1857</td>\n",
       "      <td>Pedro Alvarez Parejo</td>\n",
       "      <td>464.25</td>\n",
       "      <td>60</td>\n",
       "      <td>Camion Grande</td>\n",
       "      <td>1</td>\n",
       "      <td>2019</td>\n",
       "    </tr>\n",
       "    <tr>\n",
       "      <th>3</th>\n",
       "      <td>4</td>\n",
       "      <td>10000004</td>\n",
       "      <td>TAQUERIA EL CHINITO</td>\n",
       "      <td>76002</td>\n",
       "      <td>339</td>\n",
       "      <td>Angel Valdez Alegria</td>\n",
       "      <td>84.75</td>\n",
       "      <td>30</td>\n",
       "      <td>Panel</td>\n",
       "      <td>1</td>\n",
       "      <td>2019</td>\n",
       "    </tr>\n",
       "    <tr>\n",
       "      <th>4</th>\n",
       "      <td>5</td>\n",
       "      <td>10000005</td>\n",
       "      <td>CHICHARRONERIA EL RICO COLESTEROL |||Faltante</td>\n",
       "      <td>76001</td>\n",
       "      <td>1644</td>\n",
       "      <td>Juan Francisco Portillo Gomez</td>\n",
       "      <td>411.00</td>\n",
       "      <td>30</td>\n",
       "      <td>Camion Grande</td>\n",
       "      <td>1</td>\n",
       "      <td>2019</td>\n",
       "    </tr>\n",
       "  </tbody>\n",
       "</table>\n",
       "</div>"
      ],
      "text/plain": [
       "   Unnamed: 0  COD_VIAJE                                        CLIENTE  \\\n",
       "0           1   10000001        EL PINCHE OBELISCO / Despacho a cliente   \n",
       "1           2   10000002                TAQUERIA EL CHINITO |||Faltante   \n",
       "2           3   10000003       TIENDA LA BENDICION / Despacho a cliente   \n",
       "3           4   10000004                            TAQUERIA EL CHINITO   \n",
       "4           5   10000005  CHICHARRONERIA EL RICO COLESTEROL |||Faltante   \n",
       "\n",
       "   UBICACION  CANTIDAD                         PILOTO       Q  CREDITO  \\\n",
       "0      76002      1200        Fernando Mariano Berrio  300.00       30   \n",
       "1      76002      1433         Hector Aragones Frutos  358.25       90   \n",
       "2      76002      1857           Pedro Alvarez Parejo  464.25       60   \n",
       "3      76002       339           Angel Valdez Alegria   84.75       30   \n",
       "4      76001      1644  Juan Francisco Portillo Gomez  411.00       30   \n",
       "\n",
       "          UNIDAD  MES  ANIO  \n",
       "0  Camion Grande    1  2019  \n",
       "1  Camion Grande    1  2019  \n",
       "2  Camion Grande    1  2019  \n",
       "3          Panel    1  2019  \n",
       "4  Camion Grande    1  2019  "
      ]
     },
     "execution_count": 2,
     "metadata": {},
     "output_type": "execute_result"
    }
   ],
   "source": [
    "dat = pd.read_csv(\"tabla_completa.csv\",encoding=\"latin\")\n",
    "print(dat.shape,\"\\n\")\n",
    "dat.head()"
   ]
  },
  {
   "cell_type": "code",
   "execution_count": 3,
   "metadata": {},
   "outputs": [],
   "source": [
    "dat.drop(columns=[\"Unnamed: 0\"],inplace=True) # ID"
   ]
  },
  {
   "cell_type": "code",
   "execution_count": 4,
   "metadata": {},
   "outputs": [
    {
     "name": "stdout",
     "output_type": "stream",
     "text": [
      "<class 'pandas.core.frame.DataFrame'>\n",
      "RangeIndex: 2180 entries, 0 to 2179\n",
      "Data columns (total 10 columns):\n",
      " #   Column     Non-Null Count  Dtype  \n",
      "---  ------     --------------  -----  \n",
      " 0   COD_VIAJE  2180 non-null   int64  \n",
      " 1   CLIENTE    2180 non-null   object \n",
      " 2   UBICACION  2180 non-null   int64  \n",
      " 3   CANTIDAD   2180 non-null   int64  \n",
      " 4   PILOTO     2180 non-null   object \n",
      " 5   Q          2180 non-null   float64\n",
      " 6   CREDITO    2180 non-null   int64  \n",
      " 7   UNIDAD     2180 non-null   object \n",
      " 8   MES        2180 non-null   int64  \n",
      " 9   ANIO       2180 non-null   int64  \n",
      "dtypes: float64(1), int64(6), object(3)\n",
      "memory usage: 170.4+ KB\n"
     ]
    }
   ],
   "source": [
    "dat.info()"
   ]
  },
  {
   "cell_type": "code",
   "execution_count": 5,
   "metadata": {},
   "outputs": [
    {
     "data": {
      "text/plain": [
       "COD_VIAJE    0\n",
       "CLIENTE      0\n",
       "UBICACION    0\n",
       "CANTIDAD     0\n",
       "PILOTO       0\n",
       "Q            0\n",
       "CREDITO      0\n",
       "UNIDAD       0\n",
       "MES          0\n",
       "ANIO         0\n",
       "dtype: int64"
      ]
     },
     "execution_count": 5,
     "metadata": {},
     "output_type": "execute_result"
    }
   ],
   "source": [
    "dat.isnull().sum()"
   ]
  },
  {
   "cell_type": "markdown",
   "metadata": {},
   "source": [
    "Todas las columnas vienen completas (sin NULLS)"
   ]
  },
  {
   "cell_type": "code",
   "execution_count": 6,
   "metadata": {},
   "outputs": [
    {
     "data": {
      "text/html": [
       "<div>\n",
       "<style scoped>\n",
       "    .dataframe tbody tr th:only-of-type {\n",
       "        vertical-align: middle;\n",
       "    }\n",
       "\n",
       "    .dataframe tbody tr th {\n",
       "        vertical-align: top;\n",
       "    }\n",
       "\n",
       "    .dataframe thead th {\n",
       "        text-align: right;\n",
       "    }\n",
       "</style>\n",
       "<table border=\"1\" class=\"dataframe\">\n",
       "  <thead>\n",
       "    <tr style=\"text-align: right;\">\n",
       "      <th></th>\n",
       "      <th>cod_viaje</th>\n",
       "      <th>cliente</th>\n",
       "      <th>ubicacion</th>\n",
       "      <th>cantidad</th>\n",
       "      <th>piloto</th>\n",
       "      <th>q</th>\n",
       "      <th>credito</th>\n",
       "      <th>unidad</th>\n",
       "      <th>mes</th>\n",
       "      <th>anio</th>\n",
       "    </tr>\n",
       "  </thead>\n",
       "  <tbody>\n",
       "    <tr>\n",
       "      <th>0</th>\n",
       "      <td>10000001</td>\n",
       "      <td>EL PINCHE OBELISCO / Despacho a cliente</td>\n",
       "      <td>76002</td>\n",
       "      <td>1200</td>\n",
       "      <td>Fernando Mariano Berrio</td>\n",
       "      <td>300.00</td>\n",
       "      <td>30</td>\n",
       "      <td>Camion Grande</td>\n",
       "      <td>1</td>\n",
       "      <td>2019</td>\n",
       "    </tr>\n",
       "    <tr>\n",
       "      <th>1</th>\n",
       "      <td>10000002</td>\n",
       "      <td>TAQUERIA EL CHINITO |||Faltante</td>\n",
       "      <td>76002</td>\n",
       "      <td>1433</td>\n",
       "      <td>Hector Aragones Frutos</td>\n",
       "      <td>358.25</td>\n",
       "      <td>90</td>\n",
       "      <td>Camion Grande</td>\n",
       "      <td>1</td>\n",
       "      <td>2019</td>\n",
       "    </tr>\n",
       "    <tr>\n",
       "      <th>2</th>\n",
       "      <td>10000003</td>\n",
       "      <td>TIENDA LA BENDICION / Despacho a cliente</td>\n",
       "      <td>76002</td>\n",
       "      <td>1857</td>\n",
       "      <td>Pedro Alvarez Parejo</td>\n",
       "      <td>464.25</td>\n",
       "      <td>60</td>\n",
       "      <td>Camion Grande</td>\n",
       "      <td>1</td>\n",
       "      <td>2019</td>\n",
       "    </tr>\n",
       "    <tr>\n",
       "      <th>3</th>\n",
       "      <td>10000004</td>\n",
       "      <td>TAQUERIA EL CHINITO</td>\n",
       "      <td>76002</td>\n",
       "      <td>339</td>\n",
       "      <td>Angel Valdez Alegria</td>\n",
       "      <td>84.75</td>\n",
       "      <td>30</td>\n",
       "      <td>Panel</td>\n",
       "      <td>1</td>\n",
       "      <td>2019</td>\n",
       "    </tr>\n",
       "    <tr>\n",
       "      <th>4</th>\n",
       "      <td>10000005</td>\n",
       "      <td>CHICHARRONERIA EL RICO COLESTEROL |||Faltante</td>\n",
       "      <td>76001</td>\n",
       "      <td>1644</td>\n",
       "      <td>Juan Francisco Portillo Gomez</td>\n",
       "      <td>411.00</td>\n",
       "      <td>30</td>\n",
       "      <td>Camion Grande</td>\n",
       "      <td>1</td>\n",
       "      <td>2019</td>\n",
       "    </tr>\n",
       "  </tbody>\n",
       "</table>\n",
       "</div>"
      ],
      "text/plain": [
       "   cod_viaje                                        cliente  ubicacion  \\\n",
       "0   10000001        EL PINCHE OBELISCO / Despacho a cliente      76002   \n",
       "1   10000002                TAQUERIA EL CHINITO |||Faltante      76002   \n",
       "2   10000003       TIENDA LA BENDICION / Despacho a cliente      76002   \n",
       "3   10000004                            TAQUERIA EL CHINITO      76002   \n",
       "4   10000005  CHICHARRONERIA EL RICO COLESTEROL |||Faltante      76001   \n",
       "\n",
       "   cantidad                         piloto       q  credito         unidad  \\\n",
       "0      1200        Fernando Mariano Berrio  300.00       30  Camion Grande   \n",
       "1      1433         Hector Aragones Frutos  358.25       90  Camion Grande   \n",
       "2      1857           Pedro Alvarez Parejo  464.25       60  Camion Grande   \n",
       "3       339           Angel Valdez Alegria   84.75       30          Panel   \n",
       "4      1644  Juan Francisco Portillo Gomez  411.00       30  Camion Grande   \n",
       "\n",
       "   mes  anio  \n",
       "0    1  2019  \n",
       "1    1  2019  \n",
       "2    1  2019  \n",
       "3    1  2019  \n",
       "4    1  2019  "
      ]
     },
     "execution_count": 6,
     "metadata": {},
     "output_type": "execute_result"
    }
   ],
   "source": [
    "dat.columns = [str.strip(str.lower(col)) for col in dat.columns.to_list()] # Columnas en minusc. y sin espacios (left o right)\n",
    "dat.head()"
   ]
  },
  {
   "cell_type": "code",
   "execution_count": 7,
   "metadata": {},
   "outputs": [
    {
     "data": {
      "text/html": [
       "<div>\n",
       "<style scoped>\n",
       "    .dataframe tbody tr th:only-of-type {\n",
       "        vertical-align: middle;\n",
       "    }\n",
       "\n",
       "    .dataframe tbody tr th {\n",
       "        vertical-align: top;\n",
       "    }\n",
       "\n",
       "    .dataframe thead th {\n",
       "        text-align: right;\n",
       "    }\n",
       "</style>\n",
       "<table border=\"1\" class=\"dataframe\">\n",
       "  <thead>\n",
       "    <tr style=\"text-align: right;\">\n",
       "      <th></th>\n",
       "      <th>mes</th>\n",
       "      <th>anio</th>\n",
       "      <th>date</th>\n",
       "      <th>mes_anio</th>\n",
       "    </tr>\n",
       "  </thead>\n",
       "  <tbody>\n",
       "    <tr>\n",
       "      <th>0</th>\n",
       "      <td>1</td>\n",
       "      <td>2019</td>\n",
       "      <td>2019-01-01</td>\n",
       "      <td>01-2019</td>\n",
       "    </tr>\n",
       "    <tr>\n",
       "      <th>1</th>\n",
       "      <td>1</td>\n",
       "      <td>2019</td>\n",
       "      <td>2019-01-01</td>\n",
       "      <td>01-2019</td>\n",
       "    </tr>\n",
       "    <tr>\n",
       "      <th>2</th>\n",
       "      <td>1</td>\n",
       "      <td>2019</td>\n",
       "      <td>2019-01-01</td>\n",
       "      <td>01-2019</td>\n",
       "    </tr>\n",
       "    <tr>\n",
       "      <th>3</th>\n",
       "      <td>1</td>\n",
       "      <td>2019</td>\n",
       "      <td>2019-01-01</td>\n",
       "      <td>01-2019</td>\n",
       "    </tr>\n",
       "    <tr>\n",
       "      <th>4</th>\n",
       "      <td>1</td>\n",
       "      <td>2019</td>\n",
       "      <td>2019-01-01</td>\n",
       "      <td>01-2019</td>\n",
       "    </tr>\n",
       "    <tr>\n",
       "      <th>...</th>\n",
       "      <td>...</td>\n",
       "      <td>...</td>\n",
       "      <td>...</td>\n",
       "      <td>...</td>\n",
       "    </tr>\n",
       "    <tr>\n",
       "      <th>2175</th>\n",
       "      <td>11</td>\n",
       "      <td>2019</td>\n",
       "      <td>2019-11-01</td>\n",
       "      <td>11-2019</td>\n",
       "    </tr>\n",
       "    <tr>\n",
       "      <th>2176</th>\n",
       "      <td>11</td>\n",
       "      <td>2019</td>\n",
       "      <td>2019-11-01</td>\n",
       "      <td>11-2019</td>\n",
       "    </tr>\n",
       "    <tr>\n",
       "      <th>2177</th>\n",
       "      <td>11</td>\n",
       "      <td>2019</td>\n",
       "      <td>2019-11-01</td>\n",
       "      <td>11-2019</td>\n",
       "    </tr>\n",
       "    <tr>\n",
       "      <th>2178</th>\n",
       "      <td>11</td>\n",
       "      <td>2019</td>\n",
       "      <td>2019-11-01</td>\n",
       "      <td>11-2019</td>\n",
       "    </tr>\n",
       "    <tr>\n",
       "      <th>2179</th>\n",
       "      <td>11</td>\n",
       "      <td>2019</td>\n",
       "      <td>2019-11-01</td>\n",
       "      <td>11-2019</td>\n",
       "    </tr>\n",
       "  </tbody>\n",
       "</table>\n",
       "<p>2180 rows × 4 columns</p>\n",
       "</div>"
      ],
      "text/plain": [
       "      mes  anio        date mes_anio\n",
       "0       1  2019  2019-01-01  01-2019\n",
       "1       1  2019  2019-01-01  01-2019\n",
       "2       1  2019  2019-01-01  01-2019\n",
       "3       1  2019  2019-01-01  01-2019\n",
       "4       1  2019  2019-01-01  01-2019\n",
       "...   ...   ...         ...      ...\n",
       "2175   11  2019  2019-11-01  11-2019\n",
       "2176   11  2019  2019-11-01  11-2019\n",
       "2177   11  2019  2019-11-01  11-2019\n",
       "2178   11  2019  2019-11-01  11-2019\n",
       "2179   11  2019  2019-11-01  11-2019\n",
       "\n",
       "[2180 rows x 4 columns]"
      ]
     },
     "execution_count": 7,
     "metadata": {},
     "output_type": "execute_result"
    }
   ],
   "source": [
    "def to_date(df):\n",
    "    date = datetime.date(df[\"anio\"],df[\"mes\"],1)\n",
    "    return date\n",
    "\n",
    "dat[\"date\"] = dat[[\"mes\",\"anio\"]].apply(to_date,axis=1)\n",
    "dat[\"mes_anio\"] = dat[\"date\"].apply(lambda x: x.strftime(\"%m-%Y\"))\n",
    "dat[[\"mes\",\"anio\",\"date\",\"mes_anio\"]]"
   ]
  },
  {
   "cell_type": "code",
   "execution_count": 8,
   "metadata": {},
   "outputs": [],
   "source": [
    "dat[\"cliente_clean\"] = dat.cliente.apply(lambda x: x.split(\"|||\")[0].split(\"/\")[0].strip())"
   ]
  },
  {
   "cell_type": "markdown",
   "metadata": {},
   "source": [
    "Corrigiendo por las devoluciones de El Gallo Negro. Estas son devoluciones. No representan ventas."
   ]
  },
  {
   "cell_type": "code",
   "execution_count": 9,
   "metadata": {},
   "outputs": [],
   "source": [
    "dat[\"q_corregido\"] = (dat.cliente.str.contains(\"DEVOLUCION\")*(-2)*dat.q + dat.q)"
   ]
  },
  {
   "cell_type": "code",
   "execution_count": 10,
   "metadata": {},
   "outputs": [
    {
     "data": {
      "text/html": [
       "<div>\n",
       "<style scoped>\n",
       "    .dataframe tbody tr th:only-of-type {\n",
       "        vertical-align: middle;\n",
       "    }\n",
       "\n",
       "    .dataframe tbody tr th {\n",
       "        vertical-align: top;\n",
       "    }\n",
       "\n",
       "    .dataframe thead th {\n",
       "        text-align: right;\n",
       "    }\n",
       "</style>\n",
       "<table border=\"1\" class=\"dataframe\">\n",
       "  <thead>\n",
       "    <tr style=\"text-align: right;\">\n",
       "      <th></th>\n",
       "      <th>q</th>\n",
       "      <th>credito</th>\n",
       "      <th>date</th>\n",
       "      <th>cobro</th>\n",
       "      <th>cobro_mes_anio</th>\n",
       "    </tr>\n",
       "  </thead>\n",
       "  <tbody>\n",
       "    <tr>\n",
       "      <th>0</th>\n",
       "      <td>300.00</td>\n",
       "      <td>30</td>\n",
       "      <td>2019-01-01</td>\n",
       "      <td>2019-02-01</td>\n",
       "      <td>02-2019</td>\n",
       "    </tr>\n",
       "    <tr>\n",
       "      <th>1</th>\n",
       "      <td>358.25</td>\n",
       "      <td>90</td>\n",
       "      <td>2019-01-01</td>\n",
       "      <td>2019-04-01</td>\n",
       "      <td>04-2019</td>\n",
       "    </tr>\n",
       "    <tr>\n",
       "      <th>2</th>\n",
       "      <td>464.25</td>\n",
       "      <td>60</td>\n",
       "      <td>2019-01-01</td>\n",
       "      <td>2019-03-01</td>\n",
       "      <td>03-2019</td>\n",
       "    </tr>\n",
       "    <tr>\n",
       "      <th>3</th>\n",
       "      <td>84.75</td>\n",
       "      <td>30</td>\n",
       "      <td>2019-01-01</td>\n",
       "      <td>2019-02-01</td>\n",
       "      <td>02-2019</td>\n",
       "    </tr>\n",
       "    <tr>\n",
       "      <th>4</th>\n",
       "      <td>411.00</td>\n",
       "      <td>30</td>\n",
       "      <td>2019-01-01</td>\n",
       "      <td>2019-02-01</td>\n",
       "      <td>02-2019</td>\n",
       "    </tr>\n",
       "    <tr>\n",
       "      <th>...</th>\n",
       "      <td>...</td>\n",
       "      <td>...</td>\n",
       "      <td>...</td>\n",
       "      <td>...</td>\n",
       "      <td>...</td>\n",
       "    </tr>\n",
       "    <tr>\n",
       "      <th>2175</th>\n",
       "      <td>202.00</td>\n",
       "      <td>90</td>\n",
       "      <td>2019-11-01</td>\n",
       "      <td>2020-02-01</td>\n",
       "      <td>02-2020</td>\n",
       "    </tr>\n",
       "    <tr>\n",
       "      <th>2176</th>\n",
       "      <td>248.75</td>\n",
       "      <td>60</td>\n",
       "      <td>2019-11-01</td>\n",
       "      <td>2020-01-01</td>\n",
       "      <td>01-2020</td>\n",
       "    </tr>\n",
       "    <tr>\n",
       "      <th>2177</th>\n",
       "      <td>435.75</td>\n",
       "      <td>90</td>\n",
       "      <td>2019-11-01</td>\n",
       "      <td>2020-02-01</td>\n",
       "      <td>02-2020</td>\n",
       "    </tr>\n",
       "    <tr>\n",
       "      <th>2178</th>\n",
       "      <td>220.75</td>\n",
       "      <td>90</td>\n",
       "      <td>2019-11-01</td>\n",
       "      <td>2020-02-01</td>\n",
       "      <td>02-2020</td>\n",
       "    </tr>\n",
       "    <tr>\n",
       "      <th>2179</th>\n",
       "      <td>265.50</td>\n",
       "      <td>90</td>\n",
       "      <td>2019-11-01</td>\n",
       "      <td>2020-02-01</td>\n",
       "      <td>02-2020</td>\n",
       "    </tr>\n",
       "  </tbody>\n",
       "</table>\n",
       "<p>2180 rows × 5 columns</p>\n",
       "</div>"
      ],
      "text/plain": [
       "           q  credito        date      cobro cobro_mes_anio\n",
       "0     300.00       30  2019-01-01 2019-02-01        02-2019\n",
       "1     358.25       90  2019-01-01 2019-04-01        04-2019\n",
       "2     464.25       60  2019-01-01 2019-03-01        03-2019\n",
       "3      84.75       30  2019-01-01 2019-02-01        02-2019\n",
       "4     411.00       30  2019-01-01 2019-02-01        02-2019\n",
       "...      ...      ...         ...        ...            ...\n",
       "2175  202.00       90  2019-11-01 2020-02-01        02-2020\n",
       "2176  248.75       60  2019-11-01 2020-01-01        01-2020\n",
       "2177  435.75       90  2019-11-01 2020-02-01        02-2020\n",
       "2178  220.75       90  2019-11-01 2020-02-01        02-2020\n",
       "2179  265.50       90  2019-11-01 2020-02-01        02-2020\n",
       "\n",
       "[2180 rows x 5 columns]"
      ]
     },
     "execution_count": 10,
     "metadata": {},
     "output_type": "execute_result"
    }
   ],
   "source": [
    "credito_dict = {\n",
    "    30:pd.offsets.MonthBegin(1),\n",
    "    60:pd.offsets.MonthBegin(2),\n",
    "    90:pd.offsets.MonthBegin(3)\n",
    "}\n",
    "\n",
    "dat[\"credito_dt\"] = dat.credito.apply(lambda x: credito_dict[x])\n",
    "dat[\"cobro\"] =dat[\"date\"]+dat[\"credito_dt\"]\n",
    "dat[\"cobro_mes_anio\"] = dat[\"cobro\"].apply(lambda x: x.strftime(\"%m-%Y\"))\n",
    "dat.drop(columns=\"credito_dt\",inplace=True)\n",
    "dat[[\"q\",\"credito\",\"date\",\"cobro\",\"cobro_mes_anio\"]]"
   ]
  },
  {
   "cell_type": "code",
   "execution_count": 11,
   "metadata": {},
   "outputs": [],
   "source": [
    "# dat.to_csv(\"tabla_completa_clean.csv\",index=False)"
   ]
  },
  {
   "cell_type": "markdown",
   "metadata": {},
   "source": [
    "# **EDA**"
   ]
  },
  {
   "cell_type": "markdown",
   "metadata": {
    "collapsed": "true"
   },
   "source": [
    "## Codigo Viaje"
   ]
  },
  {
   "cell_type": "code",
   "execution_count": 9,
   "metadata": {},
   "outputs": [
    {
     "data": {
      "text/plain": [
       "2180"
      ]
     },
     "execution_count": 9,
     "metadata": {},
     "output_type": "execute_result"
    }
   ],
   "source": [
    "dat.cod_viaje.nunique() # "
   ]
  },
  {
   "cell_type": "markdown",
   "metadata": {},
   "source": [
    "El codigo del viaje es unico"
   ]
  },
  {
   "cell_type": "markdown",
   "metadata": {},
   "source": [
    "## Clientes"
   ]
  },
  {
   "cell_type": "code",
   "execution_count": 34,
   "metadata": {},
   "outputs": [
    {
     "data": {
      "text/plain": [
       "18"
      ]
     },
     "execution_count": 34,
     "metadata": {},
     "output_type": "execute_result"
    }
   ],
   "source": [
    "dat.cliente.nunique()"
   ]
  },
  {
   "cell_type": "markdown",
   "metadata": {},
   "source": [
    "Tengo 18 descripciones de clientes distintas."
   ]
  },
  {
   "cell_type": "code",
   "execution_count": 37,
   "metadata": {},
   "outputs": [
    {
     "data": {
      "text/plain": [
       "['EL PINCHE OBELISCO / Despacho a cliente',\n",
       " 'TAQUERIA EL CHINITO |||Faltante',\n",
       " 'TIENDA LA BENDICION / Despacho a cliente',\n",
       " 'TAQUERIA EL CHINITO',\n",
       " 'CHICHARRONERIA EL RICO COLESTEROL |||Faltante',\n",
       " 'UBIQUO LABS |||FALTANTE',\n",
       " 'EL GALLO NEGRO |||DEVOLUCION',\n",
       " 'EL GALLO NEGRO / Despacho a cliente',\n",
       " 'UNIVERSIDAD FRANCISCO MARROQUIN/Despacho a cliente',\n",
       " 'POLLO PINULITO|||FALTANTE',\n",
       " 'SPORTA, S.A./Despacho a cliente |||Faltante',\n",
       " 'HOSPITAL ROOSEVELT / Despacho a cliente',\n",
       " 'UBIQUO LABS',\n",
       " 'BAR LA OFICINA',\n",
       " 'ABARROTERIA EBENEZER/Despacho a cliente',\n",
       " 'EL PINCHE OBELISCO |||Faltante',\n",
       " 'POLLO PINULITO/Despacho a cliente',\n",
       " 'HOSPITAL LAS AMERICAS']"
      ]
     },
     "execution_count": 37,
     "metadata": {},
     "output_type": "execute_result"
    }
   ],
   "source": [
    "list(dat.cliente.unique())"
   ]
  },
  {
   "cell_type": "markdown",
   "metadata": {},
   "source": [
    "Algunas empresas se repiten pero cambia el motivo (?)"
   ]
  },
  {
   "cell_type": "code",
   "execution_count": 11,
   "metadata": {},
   "outputs": [
    {
     "data": {
      "text/plain": [
       "13"
      ]
     },
     "execution_count": 11,
     "metadata": {},
     "output_type": "execute_result"
    }
   ],
   "source": [
    "dat.cliente_clean.nunique()"
   ]
  },
  {
   "cell_type": "code",
   "execution_count": 14,
   "metadata": {},
   "outputs": [
    {
     "data": {
      "text/plain": [
       "['EL PINCHE OBELISCO',\n",
       " 'TAQUERIA EL CHINITO',\n",
       " 'TIENDA LA BENDICION',\n",
       " 'CHICHARRONERIA EL RICO COLESTEROL',\n",
       " 'UBIQUO LABS',\n",
       " 'EL GALLO NEGRO',\n",
       " 'UNIVERSIDAD FRANCISCO MARROQUIN',\n",
       " 'POLLO PINULITO',\n",
       " 'SPORTA, S.A.',\n",
       " 'HOSPITAL ROOSEVELT',\n",
       " 'BAR LA OFICINA',\n",
       " 'ABARROTERIA EBENEZER',\n",
       " 'HOSPITAL LAS AMERICAS']"
      ]
     },
     "execution_count": 14,
     "metadata": {},
     "output_type": "execute_result"
    }
   ],
   "source": [
    "list(dat.cliente_clean.unique())"
   ]
  },
  {
   "cell_type": "code",
   "execution_count": 54,
   "metadata": {},
   "outputs": [
    {
     "data": {
      "text/html": [
       "<div>\n",
       "<style scoped>\n",
       "    .dataframe tbody tr th:only-of-type {\n",
       "        vertical-align: middle;\n",
       "    }\n",
       "\n",
       "    .dataframe tbody tr th {\n",
       "        vertical-align: top;\n",
       "    }\n",
       "\n",
       "    .dataframe thead th {\n",
       "        text-align: right;\n",
       "    }\n",
       "</style>\n",
       "<table border=\"1\" class=\"dataframe\">\n",
       "  <thead>\n",
       "    <tr style=\"text-align: right;\">\n",
       "      <th></th>\n",
       "      <th>cliente</th>\n",
       "      <th>ventas</th>\n",
       "      <th>porcentaje</th>\n",
       "      <th>porcentaje_accum</th>\n",
       "    </tr>\n",
       "  </thead>\n",
       "  <tbody>\n",
       "    <tr>\n",
       "      <th>4</th>\n",
       "      <td>EL PINCHE OBELISCO</td>\n",
       "      <td>71079.00</td>\n",
       "      <td>13.3</td>\n",
       "      <td>13.3</td>\n",
       "    </tr>\n",
       "    <tr>\n",
       "      <th>9</th>\n",
       "      <td>TAQUERIA EL CHINITO</td>\n",
       "      <td>69135.50</td>\n",
       "      <td>13.0</td>\n",
       "      <td>26.3</td>\n",
       "    </tr>\n",
       "    <tr>\n",
       "      <th>7</th>\n",
       "      <td>POLLO PINULITO</td>\n",
       "      <td>65105.50</td>\n",
       "      <td>12.2</td>\n",
       "      <td>38.5</td>\n",
       "    </tr>\n",
       "    <tr>\n",
       "      <th>11</th>\n",
       "      <td>UBIQUO LABS</td>\n",
       "      <td>64250.75</td>\n",
       "      <td>12.1</td>\n",
       "      <td>50.6</td>\n",
       "    </tr>\n",
       "    <tr>\n",
       "      <th>12</th>\n",
       "      <td>UNIVERSIDAD FRANCISCO MARROQUIN</td>\n",
       "      <td>37889.25</td>\n",
       "      <td>7.1</td>\n",
       "      <td>57.7</td>\n",
       "    </tr>\n",
       "    <tr>\n",
       "      <th>0</th>\n",
       "      <td>ABARROTERIA EBENEZER</td>\n",
       "      <td>37129.00</td>\n",
       "      <td>7.0</td>\n",
       "      <td>64.7</td>\n",
       "    </tr>\n",
       "    <tr>\n",
       "      <th>10</th>\n",
       "      <td>TIENDA LA BENDICION</td>\n",
       "      <td>35338.00</td>\n",
       "      <td>6.6</td>\n",
       "      <td>71.3</td>\n",
       "    </tr>\n",
       "    <tr>\n",
       "      <th>1</th>\n",
       "      <td>BAR LA OFICINA</td>\n",
       "      <td>35163.50</td>\n",
       "      <td>6.6</td>\n",
       "      <td>77.9</td>\n",
       "    </tr>\n",
       "    <tr>\n",
       "      <th>8</th>\n",
       "      <td>SPORTA, S.A.</td>\n",
       "      <td>34984.25</td>\n",
       "      <td>6.6</td>\n",
       "      <td>84.5</td>\n",
       "    </tr>\n",
       "    <tr>\n",
       "      <th>2</th>\n",
       "      <td>CHICHARRONERIA EL RICO COLESTEROL</td>\n",
       "      <td>32456.25</td>\n",
       "      <td>6.1</td>\n",
       "      <td>90.6</td>\n",
       "    </tr>\n",
       "    <tr>\n",
       "      <th>6</th>\n",
       "      <td>HOSPITAL ROOSEVELT</td>\n",
       "      <td>26275.75</td>\n",
       "      <td>4.9</td>\n",
       "      <td>95.5</td>\n",
       "    </tr>\n",
       "    <tr>\n",
       "      <th>5</th>\n",
       "      <td>HOSPITAL LAS AMERICAS</td>\n",
       "      <td>22486.00</td>\n",
       "      <td>4.2</td>\n",
       "      <td>99.7</td>\n",
       "    </tr>\n",
       "    <tr>\n",
       "      <th>3</th>\n",
       "      <td>EL GALLO NEGRO</td>\n",
       "      <td>1414.50</td>\n",
       "      <td>0.3</td>\n",
       "      <td>100.0</td>\n",
       "    </tr>\n",
       "  </tbody>\n",
       "</table>\n",
       "</div>"
      ],
      "text/plain": [
       "                              cliente    ventas  porcentaje  porcentaje_accum\n",
       "4                  EL PINCHE OBELISCO  71079.00        13.3              13.3\n",
       "9                 TAQUERIA EL CHINITO  69135.50        13.0              26.3\n",
       "7                      POLLO PINULITO  65105.50        12.2              38.5\n",
       "11                        UBIQUO LABS  64250.75        12.1              50.6\n",
       "12    UNIVERSIDAD FRANCISCO MARROQUIN  37889.25         7.1              57.7\n",
       "0                ABARROTERIA EBENEZER  37129.00         7.0              64.7\n",
       "10                TIENDA LA BENDICION  35338.00         6.6              71.3\n",
       "1                      BAR LA OFICINA  35163.50         6.6              77.9\n",
       "8                        SPORTA, S.A.  34984.25         6.6              84.5\n",
       "2   CHICHARRONERIA EL RICO COLESTEROL  32456.25         6.1              90.6\n",
       "6                  HOSPITAL ROOSEVELT  26275.75         4.9              95.5\n",
       "5               HOSPITAL LAS AMERICAS  22486.00         4.2              99.7\n",
       "3                      EL GALLO NEGRO   1414.50         0.3             100.0"
      ]
     },
     "execution_count": 54,
     "metadata": {},
     "output_type": "execute_result"
    }
   ],
   "source": [
    "df_mejores_clientes = dat.groupby(\"cliente_clean\",as_index=False).agg({\"q_corregido\":\"sum\"}\n",
    "                                ).sort_values(\"q_corregido\",ascending=False\n",
    "                                ).rename(columns={\"cliente_clean\":\"cliente\",\n",
    "                                                 \"q_corregido\":\"ventas\"})\n",
    "\n",
    "df_mejores_clientes[\"porcentaje\"] = round((df_mejores_clientes[\"ventas\"]/df_mejores_clientes[\"ventas\"].sum())*100,1)\n",
    "df_mejores_clientes[\"porcentaje_accum\"] = df_mejores_clientes.porcentaje.cumsum()\n",
    "df_mejores_clientes"
   ]
  },
  {
   "cell_type": "code",
   "execution_count": 13,
   "metadata": {},
   "outputs": [
    {
     "data": {
      "image/png": "[encoded data removed]",
      "text/plain": [
       "<Figure size 432x288 with 1 Axes>"
      ]
     },
     "metadata": {},
     "output_type": "display_data"
    }
   ],
   "source": [
    "df_mejores_clientes = dat.groupby(\"cliente_clean\",as_index=False).agg({\"q_corregido\":\"sum\"}\n",
    "                                ).sort_values(\"q_corregido\",ascending=False\n",
    "                                ).rename(columns={\"cliente_clean\":\"cliente\",\n",
    "                                                 \"q_corregido\":\"ventas\"})\n",
    "\n",
    "df_mejores_clientes[\"porcentaje\"] = round((df_mejores_clientes[\"ventas\"]/df_mejores_clientes[\"ventas\"].sum())*100,1)\n",
    "df_mejores_clientes[\"porcentaje_accum\"] = df_mejores_clientes.porcentaje.cumsum()\n",
    "df_mejores_clientes = df_mejores_clientes.head()\n",
    "\n",
    "\n",
    "explode = (0.1, 0.05, 0.05, 0.05,0.05) \n",
    "colors = [\"seagreen\",\"lightgray\",\"lightgray\",\"lightgray\",\"lightgray\"]\n",
    "fig1, ax1 = plt.subplots()\n",
    "ax1.pie(df_mejores_clientes[\"porcentaje\"],explode=explode, labels=df_mejores_clientes[\"cliente\"], autopct='%1.1f%%',\n",
    "        shadow=True, startangle=90,colors=colors)\n",
    "ax1.axis('equal')  # Equal aspect ratio ensures that pie is drawn as a circle.\n",
    "\n",
    "plt.show()"
   ]
  },
  {
   "cell_type": "markdown",
   "metadata": {},
   "source": [
    "## Ubicaciones"
   ]
  },
  {
   "cell_type": "code",
   "execution_count": 41,
   "metadata": {},
   "outputs": [
    {
     "data": {
      "text/plain": [
       "2"
      ]
     },
     "execution_count": 41,
     "metadata": {},
     "output_type": "execute_result"
    }
   ],
   "source": [
    "print(dat.ubicacion.nunique()) # \n",
    "print(dat.ubicacion.unique())"
   ]
  },
  {
   "cell_type": "markdown",
   "metadata": {},
   "source": [
    "Solo tengo 2 codigos de ubicaciones. Creo que esas ubicaciones son ubicaciones de las bodegas/sucursales de la distribuidora."
   ]
  },
  {
   "cell_type": "markdown",
   "metadata": {},
   "source": [
    "## Cantidad y Quetzales"
   ]
  },
  {
   "cell_type": "markdown",
   "metadata": {},
   "source": [
    "Asumi que la columna \"q\" estaba en quetzales."
   ]
  },
  {
   "cell_type": "code",
   "execution_count": 53,
   "metadata": {},
   "outputs": [
    {
     "data": {
      "image/png": "[encoded data removed]",
      "text/plain": [
       "<Figure size 432x288 with 1 Axes>"
      ]
     },
     "metadata": {
      "needs_background": "light"
     },
     "output_type": "display_data"
    },
    {
     "name": "stdout",
     "output_type": "stream",
     "text": [
      "media: 1098.8\n",
      "sigma: 525.95\n",
      "min: 200\n",
      "max: 1996\n"
     ]
    }
   ],
   "source": [
    "sns.distplot(dat.cantidad,kde=False)\n",
    "plt.show()\n",
    "\n",
    "print(\"media:\",round(dat.cantidad.mean(),2))\n",
    "print(\"sigma:\",round(dat.cantidad.std(),2))\n",
    "print(\"min:\",round(dat.cantidad.min(),2))\n",
    "print(\"max:\",round(dat.cantidad.max(),2))"
   ]
  },
  {
   "cell_type": "markdown",
   "metadata": {},
   "source": [
    "La cantidad pareciera seguir una distribución un tanto uniforme. El rango va desde 200 hasta casi 2000."
   ]
  },
  {
   "cell_type": "code",
   "execution_count": 78,
   "metadata": {},
   "outputs": [
    {
     "data": {
      "image/png": "[encoded data removed]",
      "text/plain": [
       "<Figure size 432x288 with 1 Axes>"
      ]
     },
     "metadata": {
      "needs_background": "light"
     },
     "output_type": "display_data"
    },
    {
     "name": "stdout",
     "output_type": "stream",
     "text": [
      "media: 274.7\n",
      "sigma: 131.49\n",
      "min: 50.0\n",
      "max: 499.0\n"
     ]
    }
   ],
   "source": [
    "sns.distplot(dat.q,kde=False)\n",
    "plt.show()\n",
    "\n",
    "print(\"media:\",round(dat.q.mean(),2))\n",
    "print(\"sigma:\",round(dat.q.std(),2))\n",
    "print(\"min:\",round(dat.q.min(),2))\n",
    "print(\"max:\",round(dat.q.max(),2))"
   ]
  },
  {
   "cell_type": "markdown",
   "metadata": {},
   "source": [
    "La distribucion de la columna q tambien parece pertenecer a una dist. uniforme. Su rango es desde 50 a 499 (~500)"
   ]
  },
  {
   "cell_type": "code",
   "execution_count": 81,
   "metadata": {},
   "outputs": [
    {
     "name": "stdout",
     "output_type": "stream",
     "text": [
      "1\n"
     ]
    },
    {
     "data": {
      "text/html": [
       "<div>\n",
       "<style scoped>\n",
       "    .dataframe tbody tr th:only-of-type {\n",
       "        vertical-align: middle;\n",
       "    }\n",
       "\n",
       "    .dataframe tbody tr th {\n",
       "        vertical-align: top;\n",
       "    }\n",
       "\n",
       "    .dataframe thead th {\n",
       "        text-align: right;\n",
       "    }\n",
       "</style>\n",
       "<table border=\"1\" class=\"dataframe\">\n",
       "  <thead>\n",
       "    <tr style=\"text-align: right;\">\n",
       "      <th></th>\n",
       "      <th>q</th>\n",
       "      <th>cantidad</th>\n",
       "      <th>precio_unitario</th>\n",
       "    </tr>\n",
       "  </thead>\n",
       "  <tbody>\n",
       "    <tr>\n",
       "      <th>0</th>\n",
       "      <td>300.00</td>\n",
       "      <td>1200</td>\n",
       "      <td>0.25</td>\n",
       "    </tr>\n",
       "    <tr>\n",
       "      <th>1</th>\n",
       "      <td>358.25</td>\n",
       "      <td>1433</td>\n",
       "      <td>0.25</td>\n",
       "    </tr>\n",
       "    <tr>\n",
       "      <th>2</th>\n",
       "      <td>464.25</td>\n",
       "      <td>1857</td>\n",
       "      <td>0.25</td>\n",
       "    </tr>\n",
       "    <tr>\n",
       "      <th>3</th>\n",
       "      <td>84.75</td>\n",
       "      <td>339</td>\n",
       "      <td>0.25</td>\n",
       "    </tr>\n",
       "    <tr>\n",
       "      <th>4</th>\n",
       "      <td>411.00</td>\n",
       "      <td>1644</td>\n",
       "      <td>0.25</td>\n",
       "    </tr>\n",
       "  </tbody>\n",
       "</table>\n",
       "</div>"
      ],
      "text/plain": [
       "        q  cantidad  precio_unitario\n",
       "0  300.00      1200             0.25\n",
       "1  358.25      1433             0.25\n",
       "2  464.25      1857             0.25\n",
       "3   84.75       339             0.25\n",
       "4  411.00      1644             0.25"
      ]
     },
     "execution_count": 81,
     "metadata": {},
     "output_type": "execute_result"
    }
   ],
   "source": [
    "dat[\"precio_unitario\"] = dat[\"q\"]/dat[\"cantidad\"]\n",
    "print(dat.precio_unitario.nunique())\n",
    "dat[[\"q\",\"cantidad\",\"precio_unitario\"]].head()"
   ]
  },
  {
   "cell_type": "markdown",
   "metadata": {},
   "source": [
    "El precio para el producto que se vende es de 25 centavos"
   ]
  },
  {
   "cell_type": "code",
   "execution_count": 101,
   "metadata": {},
   "outputs": [],
   "source": [
    "dat.drop(columns=\"precio_unitario\",inplace=True) # Elimino esta col. no me sirve"
   ]
  },
  {
   "cell_type": "code",
   "execution_count": 26,
   "metadata": {},
   "outputs": [
    {
     "data": {
      "text/html": [
       "<div>\n",
       "<style scoped>\n",
       "    .dataframe tbody tr th:only-of-type {\n",
       "        vertical-align: middle;\n",
       "    }\n",
       "\n",
       "    .dataframe tbody tr th {\n",
       "        vertical-align: top;\n",
       "    }\n",
       "\n",
       "    .dataframe thead th {\n",
       "        text-align: right;\n",
       "    }\n",
       "</style>\n",
       "<table border=\"1\" class=\"dataframe\">\n",
       "  <thead>\n",
       "    <tr style=\"text-align: right;\">\n",
       "      <th></th>\n",
       "      <th>devoluciones</th>\n",
       "    </tr>\n",
       "    <tr>\n",
       "      <th>date</th>\n",
       "      <th></th>\n",
       "    </tr>\n",
       "  </thead>\n",
       "  <tbody>\n",
       "    <tr>\n",
       "      <th>2019-01-01</th>\n",
       "      <td>2072.50</td>\n",
       "    </tr>\n",
       "    <tr>\n",
       "      <th>2019-02-01</th>\n",
       "      <td>2094.25</td>\n",
       "    </tr>\n",
       "    <tr>\n",
       "      <th>2019-03-01</th>\n",
       "      <td>2419.25</td>\n",
       "    </tr>\n",
       "    <tr>\n",
       "      <th>2019-04-01</th>\n",
       "      <td>4485.50</td>\n",
       "    </tr>\n",
       "    <tr>\n",
       "      <th>2019-05-01</th>\n",
       "      <td>4203.00</td>\n",
       "    </tr>\n",
       "    <tr>\n",
       "      <th>2019-06-01</th>\n",
       "      <td>1638.75</td>\n",
       "    </tr>\n",
       "    <tr>\n",
       "      <th>2019-07-01</th>\n",
       "      <td>5387.75</td>\n",
       "    </tr>\n",
       "    <tr>\n",
       "      <th>2019-08-01</th>\n",
       "      <td>2704.75</td>\n",
       "    </tr>\n",
       "    <tr>\n",
       "      <th>2019-09-01</th>\n",
       "      <td>2686.75</td>\n",
       "    </tr>\n",
       "    <tr>\n",
       "      <th>2019-10-01</th>\n",
       "      <td>2215.25</td>\n",
       "    </tr>\n",
       "    <tr>\n",
       "      <th>2019-11-01</th>\n",
       "      <td>3162.75</td>\n",
       "    </tr>\n",
       "  </tbody>\n",
       "</table>\n",
       "</div>"
      ],
      "text/plain": [
       "            devoluciones\n",
       "date                    \n",
       "2019-01-01       2072.50\n",
       "2019-02-01       2094.25\n",
       "2019-03-01       2419.25\n",
       "2019-04-01       4485.50\n",
       "2019-05-01       4203.00\n",
       "2019-06-01       1638.75\n",
       "2019-07-01       5387.75\n",
       "2019-08-01       2704.75\n",
       "2019-09-01       2686.75\n",
       "2019-10-01       2215.25\n",
       "2019-11-01       3162.75"
      ]
     },
     "execution_count": 26,
     "metadata": {},
     "output_type": "execute_result"
    }
   ],
   "source": [
    "df_devoluciones = dat[dat[\"cliente\"]==\"EL GALLO NEGRO |||DEVOLUCION\"].groupby(\"date\").agg({\"q_corregido\":\"sum\"}).rename(columns={\"date\":\"fecha\",\"q_corregido\":\"devoluciones\"})\n",
    "df_devoluciones[\"devoluciones\"] = df_devoluciones[\"devoluciones\"]*-1\n",
    "df_devoluciones"
   ]
  },
  {
   "cell_type": "code",
   "execution_count": 44,
   "metadata": {},
   "outputs": [
    {
     "data": {
      "text/plain": [
       "1414.5"
      ]
     },
     "execution_count": 44,
     "metadata": {},
     "output_type": "execute_result"
    }
   ],
   "source": [
    "# Ventas netas para El Gallo Negro (quitando el efecto de las devoluciones)\n",
    "sum(dat[dat[\"cliente\"]==\"EL GALLO NEGRO / Despacho a cliente\"][\"q_corregido\"]) + sum(dat[dat[\"cliente\"]==\"EL GALLO NEGRO |||DEVOLUCION\"][\"q_corregido\"])"
   ]
  },
  {
   "cell_type": "markdown",
   "metadata": {},
   "source": [
    "Este cliente probablemente no esta satisfecho con nuestras tarifas o con nuestro producto."
   ]
  },
  {
   "cell_type": "code",
   "execution_count": 45,
   "metadata": {},
   "outputs": [
    {
     "data": {
      "text/html": [
       "<div>\n",
       "<style scoped>\n",
       "    .dataframe tbody tr th:only-of-type {\n",
       "        vertical-align: middle;\n",
       "    }\n",
       "\n",
       "    .dataframe tbody tr th {\n",
       "        vertical-align: top;\n",
       "    }\n",
       "\n",
       "    .dataframe thead th {\n",
       "        text-align: right;\n",
       "    }\n",
       "</style>\n",
       "<table border=\"1\" class=\"dataframe\">\n",
       "  <thead>\n",
       "    <tr style=\"text-align: right;\">\n",
       "      <th></th>\n",
       "      <th>q</th>\n",
       "    </tr>\n",
       "    <tr>\n",
       "      <th>piloto</th>\n",
       "      <th></th>\n",
       "    </tr>\n",
       "  </thead>\n",
       "  <tbody>\n",
       "    <tr>\n",
       "      <th>Angel Valdez Alegria</th>\n",
       "      <td>18</td>\n",
       "    </tr>\n",
       "    <tr>\n",
       "      <th>Felipe Villatoro</th>\n",
       "      <td>15</td>\n",
       "    </tr>\n",
       "    <tr>\n",
       "      <th>Fernando Mariano Berrio</th>\n",
       "      <td>11</td>\n",
       "    </tr>\n",
       "    <tr>\n",
       "      <th>Hector Aragones Frutos</th>\n",
       "      <td>17</td>\n",
       "    </tr>\n",
       "    <tr>\n",
       "      <th>Hector Giron</th>\n",
       "      <td>4</td>\n",
       "    </tr>\n",
       "    <tr>\n",
       "      <th>Ismael Rodero Monteagudo</th>\n",
       "      <td>12</td>\n",
       "    </tr>\n",
       "    <tr>\n",
       "      <th>Juan Francisco Portillo Gomez</th>\n",
       "      <td>7</td>\n",
       "    </tr>\n",
       "    <tr>\n",
       "      <th>Luis Jaime Urbano</th>\n",
       "      <td>22</td>\n",
       "    </tr>\n",
       "    <tr>\n",
       "      <th>Pedro Alvarez Parejo</th>\n",
       "      <td>13</td>\n",
       "    </tr>\n",
       "  </tbody>\n",
       "</table>\n",
       "</div>"
      ],
      "text/plain": [
       "                                q\n",
       "piloto                           \n",
       "Angel Valdez Alegria           18\n",
       "Felipe Villatoro               15\n",
       "Fernando Mariano Berrio        11\n",
       "Hector Aragones Frutos         17\n",
       "Hector Giron                    4\n",
       "Ismael Rodero Monteagudo       12\n",
       "Juan Francisco Portillo Gomez   7\n",
       "Luis Jaime Urbano              22\n",
       "Pedro Alvarez Parejo           13"
      ]
     },
     "execution_count": 45,
     "metadata": {},
     "output_type": "execute_result"
    }
   ],
   "source": [
    "dat[dat[\"cliente\"]==\"EL GALLO NEGRO |||DEVOLUCION\"].groupby(\"piloto\").agg({\"q\":\"count\"})"
   ]
  },
  {
   "cell_type": "markdown",
   "metadata": {},
   "source": [
    "## Pilotos"
   ]
  },
  {
   "cell_type": "code",
   "execution_count": 59,
   "metadata": {},
   "outputs": [
    {
     "name": "stdout",
     "output_type": "stream",
     "text": [
      "9 pilotos distintos \n",
      "\n"
     ]
    },
    {
     "data": {
      "text/plain": [
       "['Fernando Mariano Berrio',\n",
       " 'Hector Aragones Frutos',\n",
       " 'Pedro Alvarez Parejo',\n",
       " 'Angel Valdez Alegria',\n",
       " 'Juan Francisco Portillo Gomez',\n",
       " 'Luis Jaime Urbano',\n",
       " 'Ismael Rodero Monteagudo',\n",
       " 'Felipe Villatoro',\n",
       " 'Hector Giron']"
      ]
     },
     "execution_count": 59,
     "metadata": {},
     "output_type": "execute_result"
    }
   ],
   "source": [
    "print(dat.piloto.nunique(),\"pilotos distintos \\n\")\n",
    "list(dat.piloto.unique())"
   ]
  },
  {
   "cell_type": "code",
   "execution_count": 27,
   "metadata": {
    "scrolled": true
   },
   "outputs": [
    {
     "data": {
      "text/html": [
       "<div>\n",
       "<style scoped>\n",
       "    .dataframe tbody tr th:only-of-type {\n",
       "        vertical-align: middle;\n",
       "    }\n",
       "\n",
       "    .dataframe tbody tr th {\n",
       "        vertical-align: top;\n",
       "    }\n",
       "\n",
       "    .dataframe thead th {\n",
       "        text-align: right;\n",
       "    }\n",
       "</style>\n",
       "<table border=\"1\" class=\"dataframe\">\n",
       "  <thead>\n",
       "    <tr style=\"text-align: right;\">\n",
       "      <th></th>\n",
       "      <th></th>\n",
       "      <th>cantidad</th>\n",
       "    </tr>\n",
       "    <tr>\n",
       "      <th>mes</th>\n",
       "      <th>unidad</th>\n",
       "      <th></th>\n",
       "    </tr>\n",
       "  </thead>\n",
       "  <tbody>\n",
       "    <tr>\n",
       "      <th rowspan=\"3\" valign=\"top\">1</th>\n",
       "      <th>Camion Grande</th>\n",
       "      <td>122</td>\n",
       "    </tr>\n",
       "    <tr>\n",
       "      <th>Camion Pequeño</th>\n",
       "      <td>43</td>\n",
       "    </tr>\n",
       "    <tr>\n",
       "      <th>Panel</th>\n",
       "      <td>27</td>\n",
       "    </tr>\n",
       "    <tr>\n",
       "      <th rowspan=\"3\" valign=\"top\">2</th>\n",
       "      <th>Camion Grande</th>\n",
       "      <td>114</td>\n",
       "    </tr>\n",
       "    <tr>\n",
       "      <th>Camion Pequeño</th>\n",
       "      <td>54</td>\n",
       "    </tr>\n",
       "    <tr>\n",
       "      <th>Panel</th>\n",
       "      <td>35</td>\n",
       "    </tr>\n",
       "    <tr>\n",
       "      <th rowspan=\"3\" valign=\"top\">3</th>\n",
       "      <th>Camion Grande</th>\n",
       "      <td>98</td>\n",
       "    </tr>\n",
       "    <tr>\n",
       "      <th>Camion Pequeño</th>\n",
       "      <td>45</td>\n",
       "    </tr>\n",
       "    <tr>\n",
       "      <th>Panel</th>\n",
       "      <td>39</td>\n",
       "    </tr>\n",
       "    <tr>\n",
       "      <th rowspan=\"3\" valign=\"top\">4</th>\n",
       "      <th>Camion Grande</th>\n",
       "      <td>101</td>\n",
       "    </tr>\n",
       "    <tr>\n",
       "      <th>Camion Pequeño</th>\n",
       "      <td>59</td>\n",
       "    </tr>\n",
       "    <tr>\n",
       "      <th>Panel</th>\n",
       "      <td>36</td>\n",
       "    </tr>\n",
       "    <tr>\n",
       "      <th rowspan=\"3\" valign=\"top\">5</th>\n",
       "      <th>Camion Grande</th>\n",
       "      <td>117</td>\n",
       "    </tr>\n",
       "    <tr>\n",
       "      <th>Camion Pequeño</th>\n",
       "      <td>72</td>\n",
       "    </tr>\n",
       "    <tr>\n",
       "      <th>Panel</th>\n",
       "      <td>26</td>\n",
       "    </tr>\n",
       "    <tr>\n",
       "      <th rowspan=\"3\" valign=\"top\">6</th>\n",
       "      <th>Camion Grande</th>\n",
       "      <td>107</td>\n",
       "    </tr>\n",
       "    <tr>\n",
       "      <th>Camion Pequeño</th>\n",
       "      <td>50</td>\n",
       "    </tr>\n",
       "    <tr>\n",
       "      <th>Panel</th>\n",
       "      <td>40</td>\n",
       "    </tr>\n",
       "    <tr>\n",
       "      <th rowspan=\"3\" valign=\"top\">7</th>\n",
       "      <th>Camion Grande</th>\n",
       "      <td>121</td>\n",
       "    </tr>\n",
       "    <tr>\n",
       "      <th>Camion Pequeño</th>\n",
       "      <td>49</td>\n",
       "    </tr>\n",
       "    <tr>\n",
       "      <th>Panel</th>\n",
       "      <td>41</td>\n",
       "    </tr>\n",
       "    <tr>\n",
       "      <th rowspan=\"3\" valign=\"top\">8</th>\n",
       "      <th>Camion Grande</th>\n",
       "      <td>102</td>\n",
       "    </tr>\n",
       "    <tr>\n",
       "      <th>Camion Pequeño</th>\n",
       "      <td>62</td>\n",
       "    </tr>\n",
       "    <tr>\n",
       "      <th>Panel</th>\n",
       "      <td>35</td>\n",
       "    </tr>\n",
       "    <tr>\n",
       "      <th rowspan=\"3\" valign=\"top\">9</th>\n",
       "      <th>Camion Grande</th>\n",
       "      <td>102</td>\n",
       "    </tr>\n",
       "    <tr>\n",
       "      <th>Camion Pequeño</th>\n",
       "      <td>54</td>\n",
       "    </tr>\n",
       "    <tr>\n",
       "      <th>Panel</th>\n",
       "      <td>32</td>\n",
       "    </tr>\n",
       "    <tr>\n",
       "      <th rowspan=\"3\" valign=\"top\">10</th>\n",
       "      <th>Camion Grande</th>\n",
       "      <td>108</td>\n",
       "    </tr>\n",
       "    <tr>\n",
       "      <th>Camion Pequeño</th>\n",
       "      <td>63</td>\n",
       "    </tr>\n",
       "    <tr>\n",
       "      <th>Panel</th>\n",
       "      <td>29</td>\n",
       "    </tr>\n",
       "    <tr>\n",
       "      <th rowspan=\"3\" valign=\"top\">11</th>\n",
       "      <th>Camion Grande</th>\n",
       "      <td>119</td>\n",
       "    </tr>\n",
       "    <tr>\n",
       "      <th>Camion Pequeño</th>\n",
       "      <td>54</td>\n",
       "    </tr>\n",
       "    <tr>\n",
       "      <th>Panel</th>\n",
       "      <td>24</td>\n",
       "    </tr>\n",
       "  </tbody>\n",
       "</table>\n",
       "</div>"
      ],
      "text/plain": [
       "                    cantidad\n",
       "mes unidad                  \n",
       "1   Camion Grande        122\n",
       "    Camion Pequeño        43\n",
       "    Panel                 27\n",
       "2   Camion Grande        114\n",
       "    Camion Pequeño        54\n",
       "    Panel                 35\n",
       "3   Camion Grande         98\n",
       "    Camion Pequeño        45\n",
       "    Panel                 39\n",
       "4   Camion Grande        101\n",
       "    Camion Pequeño        59\n",
       "    Panel                 36\n",
       "5   Camion Grande        117\n",
       "    Camion Pequeño        72\n",
       "    Panel                 26\n",
       "6   Camion Grande        107\n",
       "    Camion Pequeño        50\n",
       "    Panel                 40\n",
       "7   Camion Grande        121\n",
       "    Camion Pequeño        49\n",
       "    Panel                 41\n",
       "8   Camion Grande        102\n",
       "    Camion Pequeño        62\n",
       "    Panel                 35\n",
       "9   Camion Grande        102\n",
       "    Camion Pequeño        54\n",
       "    Panel                 32\n",
       "10  Camion Grande        108\n",
       "    Camion Pequeño        63\n",
       "    Panel                 29\n",
       "11  Camion Grande        119\n",
       "    Camion Pequeño        54\n",
       "    Panel                 24"
      ]
     },
     "execution_count": 27,
     "metadata": {},
     "output_type": "execute_result"
    }
   ],
   "source": [
    "dat.groupby([\"mes\",\"unidad\"]).agg({\"cantidad\":\"count\"})\n",
    "\n",
    "# dat.groupby([\"piloto\",\"cliente\"],as_index=False).agg({\"cantidad\":[\"sum\"],\n",
    "#                                            \"q\":[\"sum\",\"count\"]})"
   ]
  },
  {
   "cell_type": "code",
   "execution_count": 9,
   "metadata": {},
   "outputs": [
    {
     "data": {
      "text/html": [
       "<div>\n",
       "<style scoped>\n",
       "    .dataframe tbody tr th:only-of-type {\n",
       "        vertical-align: middle;\n",
       "    }\n",
       "\n",
       "    .dataframe tbody tr th {\n",
       "        vertical-align: top;\n",
       "    }\n",
       "\n",
       "    .dataframe thead th {\n",
       "        text-align: right;\n",
       "    }\n",
       "</style>\n",
       "<table border=\"1\" class=\"dataframe\">\n",
       "  <thead>\n",
       "    <tr style=\"text-align: right;\">\n",
       "      <th></th>\n",
       "      <th>cant_prom</th>\n",
       "      <th>cant_total</th>\n",
       "      <th>viajes_totales</th>\n",
       "      <th>viajes_por_piloto</th>\n",
       "    </tr>\n",
       "    <tr>\n",
       "      <th>mes</th>\n",
       "      <th></th>\n",
       "      <th></th>\n",
       "      <th></th>\n",
       "      <th></th>\n",
       "    </tr>\n",
       "  </thead>\n",
       "  <tbody>\n",
       "    <tr>\n",
       "      <th>1</th>\n",
       "      <td>1154.510417</td>\n",
       "      <td>221666</td>\n",
       "      <td>192</td>\n",
       "      <td>21.333333</td>\n",
       "    </tr>\n",
       "    <tr>\n",
       "      <th>2</th>\n",
       "      <td>1107.911330</td>\n",
       "      <td>224906</td>\n",
       "      <td>203</td>\n",
       "      <td>22.555556</td>\n",
       "    </tr>\n",
       "    <tr>\n",
       "      <th>3</th>\n",
       "      <td>1065.203297</td>\n",
       "      <td>193867</td>\n",
       "      <td>182</td>\n",
       "      <td>20.222222</td>\n",
       "    </tr>\n",
       "    <tr>\n",
       "      <th>4</th>\n",
       "      <td>1055.255102</td>\n",
       "      <td>206830</td>\n",
       "      <td>196</td>\n",
       "      <td>21.777778</td>\n",
       "    </tr>\n",
       "    <tr>\n",
       "      <th>5</th>\n",
       "      <td>1117.674419</td>\n",
       "      <td>240300</td>\n",
       "      <td>215</td>\n",
       "      <td>23.888889</td>\n",
       "    </tr>\n",
       "    <tr>\n",
       "      <th>6</th>\n",
       "      <td>1061.157360</td>\n",
       "      <td>209048</td>\n",
       "      <td>197</td>\n",
       "      <td>21.888889</td>\n",
       "    </tr>\n",
       "    <tr>\n",
       "      <th>7</th>\n",
       "      <td>1074.554502</td>\n",
       "      <td>226731</td>\n",
       "      <td>211</td>\n",
       "      <td>23.444444</td>\n",
       "    </tr>\n",
       "    <tr>\n",
       "      <th>8</th>\n",
       "      <td>1070.603015</td>\n",
       "      <td>213050</td>\n",
       "      <td>199</td>\n",
       "      <td>22.111111</td>\n",
       "    </tr>\n",
       "    <tr>\n",
       "      <th>9</th>\n",
       "      <td>1096.154255</td>\n",
       "      <td>206077</td>\n",
       "      <td>188</td>\n",
       "      <td>20.888889</td>\n",
       "    </tr>\n",
       "    <tr>\n",
       "      <th>10</th>\n",
       "      <td>1103.590000</td>\n",
       "      <td>220718</td>\n",
       "      <td>200</td>\n",
       "      <td>22.222222</td>\n",
       "    </tr>\n",
       "    <tr>\n",
       "      <th>11</th>\n",
       "      <td>1178.680203</td>\n",
       "      <td>232200</td>\n",
       "      <td>197</td>\n",
       "      <td>21.888889</td>\n",
       "    </tr>\n",
       "  </tbody>\n",
       "</table>\n",
       "</div>"
      ],
      "text/plain": [
       "       cant_prom  cant_total  viajes_totales  viajes_por_piloto\n",
       "mes                                                            \n",
       "1    1154.510417      221666             192          21.333333\n",
       "2    1107.911330      224906             203          22.555556\n",
       "3    1065.203297      193867             182          20.222222\n",
       "4    1055.255102      206830             196          21.777778\n",
       "5    1117.674419      240300             215          23.888889\n",
       "6    1061.157360      209048             197          21.888889\n",
       "7    1074.554502      226731             211          23.444444\n",
       "8    1070.603015      213050             199          22.111111\n",
       "9    1096.154255      206077             188          20.888889\n",
       "10   1103.590000      220718             200          22.222222\n",
       "11   1178.680203      232200             197          21.888889"
      ]
     },
     "execution_count": 9,
     "metadata": {},
     "output_type": "execute_result"
    }
   ],
   "source": [
    "df_cant_mensual = dat.groupby([\"mes\"]).agg({\"cantidad\":[\"mean\",\"sum\",\"count\"]})\n",
    "df_cant_mensual.columns = [\"cant_prom\",\"cant_total\",\"viajes_totales\"]\n",
    "df_cant_mensual[\"viajes_por_piloto\"] = df_cant_mensual[\"viajes_totales\"]/dat[\"piloto\"].nunique()\n",
    "df_cant_mensual"
   ]
  },
  {
   "cell_type": "code",
   "execution_count": 34,
   "metadata": {},
   "outputs": [
    {
     "name": "stdout",
     "output_type": "stream",
     "text": [
      "Prom. de Viajes (Mensuales) por Piloto: 22\n"
     ]
    }
   ],
   "source": [
    "print(\"Prom. de Viajes (Mensuales) por Piloto:\",int(dat.groupby([\"mes\",\"piloto\"],as_index=False\n",
    "                                                               ).agg({\"cantidad\":\"count\"}\n",
    "                                                                    ).groupby(\"mes\"\n",
    "                                                               ).agg({\"cantidad\":\"mean\"}\n",
    "                                                               ).cantidad.mean()))"
   ]
  },
  {
   "cell_type": "code",
   "execution_count": 35,
   "metadata": {},
   "outputs": [
    {
     "data": {
      "text/plain": [
       "19.8"
      ]
     },
     "execution_count": 35,
     "metadata": {},
     "output_type": "execute_result"
    }
   ],
   "source": [
    "22*9/10"
   ]
  },
  {
   "cell_type": "markdown",
   "metadata": {},
   "source": [
    "Actualmente el promedio de viajes mensuales es de 22 por piloto, con lo que existen algunos pilotos que tendran que hacer más de un viaje al día. Si se contratara un piloto adicional el promedio bajaria a ~20 aprox. con lo cual cada piloto tendría apoximadamente 1 viaje por día (asumiendo que trabajan 5 días a la semana). En general no es de alta prioridad contratar más personal porque la demanda aun no es tan grande actualmente."
   ]
  },
  {
   "cell_type": "markdown",
   "metadata": {
    "collapsed": "true"
   },
   "source": [
    "### Mejores pilotos (Cant. de Viajes)"
   ]
  },
  {
   "cell_type": "code",
   "execution_count": 12,
   "metadata": {},
   "outputs": [
    {
     "data": {
      "text/html": [
       "<div>\n",
       "<style scoped>\n",
       "    .dataframe tbody tr th:only-of-type {\n",
       "        vertical-align: middle;\n",
       "    }\n",
       "\n",
       "    .dataframe tbody tr th {\n",
       "        vertical-align: top;\n",
       "    }\n",
       "\n",
       "    .dataframe thead th {\n",
       "        text-align: right;\n",
       "    }\n",
       "</style>\n",
       "<table border=\"1\" class=\"dataframe\">\n",
       "  <thead>\n",
       "    <tr style=\"text-align: right;\">\n",
       "      <th></th>\n",
       "      <th>piloto</th>\n",
       "      <th>viajes_totales</th>\n",
       "    </tr>\n",
       "  </thead>\n",
       "  <tbody>\n",
       "    <tr>\n",
       "      <th>2</th>\n",
       "      <td>Fernando Mariano Berrio</td>\n",
       "      <td>267</td>\n",
       "    </tr>\n",
       "    <tr>\n",
       "      <th>8</th>\n",
       "      <td>Pedro Alvarez Parejo</td>\n",
       "      <td>253</td>\n",
       "    </tr>\n",
       "    <tr>\n",
       "      <th>3</th>\n",
       "      <td>Hector Aragones Frutos</td>\n",
       "      <td>248</td>\n",
       "    </tr>\n",
       "    <tr>\n",
       "      <th>1</th>\n",
       "      <td>Felipe Villatoro</td>\n",
       "      <td>247</td>\n",
       "    </tr>\n",
       "    <tr>\n",
       "      <th>7</th>\n",
       "      <td>Luis Jaime Urbano</td>\n",
       "      <td>246</td>\n",
       "    </tr>\n",
       "    <tr>\n",
       "      <th>5</th>\n",
       "      <td>Ismael Rodero Monteagudo</td>\n",
       "      <td>244</td>\n",
       "    </tr>\n",
       "    <tr>\n",
       "      <th>0</th>\n",
       "      <td>Angel Valdez Alegria</td>\n",
       "      <td>235</td>\n",
       "    </tr>\n",
       "    <tr>\n",
       "      <th>4</th>\n",
       "      <td>Hector Giron</td>\n",
       "      <td>228</td>\n",
       "    </tr>\n",
       "    <tr>\n",
       "      <th>6</th>\n",
       "      <td>Juan Francisco Portillo Gomez</td>\n",
       "      <td>212</td>\n",
       "    </tr>\n",
       "  </tbody>\n",
       "</table>\n",
       "</div>"
      ],
      "text/plain": [
       "                          piloto  viajes_totales\n",
       "2        Fernando Mariano Berrio             267\n",
       "8           Pedro Alvarez Parejo             253\n",
       "3         Hector Aragones Frutos             248\n",
       "1               Felipe Villatoro             247\n",
       "7              Luis Jaime Urbano             246\n",
       "5       Ismael Rodero Monteagudo             244\n",
       "0           Angel Valdez Alegria             235\n",
       "4                   Hector Giron             228\n",
       "6  Juan Francisco Portillo Gomez             212"
      ]
     },
     "execution_count": 12,
     "metadata": {},
     "output_type": "execute_result"
    }
   ],
   "source": [
    "df_pilotos = dat.groupby(\"piloto\",as_index=False).agg({\"cantidad\":\"count\"}).rename(columns={\"cantidad\":\"viajes_totales\"})\n",
    "# df_pilotos.columns = [\"piloto\",\"cantidad_total\",\"quetzales_totales\",\"viajes_totales\"]\n",
    "# df_pilotos.sort_values(\"viajes_totales\")\n",
    "df_pilotos.sort_values(\"viajes_totales\",ascending=False)"
   ]
  },
  {
   "cell_type": "code",
   "execution_count": 154,
   "metadata": {},
   "outputs": [
    {
     "data": {
      "image/png": "[encoded data removed]",
      "text/plain": [
       "<Figure size 1368x576 with 1 Axes>"
      ]
     },
     "metadata": {
      "needs_background": "light"
     },
     "output_type": "display_data"
    }
   ],
   "source": [
    "plt.figure(figsize=(19,8))\n",
    "plt.ylabel(\"ventas totales\",fontsize=18)\n",
    "plt.xlabel(\"\",fontsize=15)\n",
    "plt.xticks(rotation=20,fontsize=15)\n",
    "plt.yticks(fontsize=12)\n",
    "\n",
    "plt.bar(df_pilotos.sort_values(\"viajes_totales\",ascending=False)[\"piloto\"],\n",
    "        df_pilotos.sort_values(\"viajes_totales\",ascending=False)[\"viajes_totales\"],\n",
    "        alpha=0.45,color=\"green\") #color = [\"green\",\"green\",\"green\",\"gray\",\"gray\",\"gray\",\"gray\",\"gray\",\"gray\"]\n",
    "\n",
    "plt.show()"
   ]
  },
  {
   "cell_type": "code",
   "execution_count": 37,
   "metadata": {
    "scrolled": true
   },
   "outputs": [
    {
     "data": {
      "text/html": [
       "<div>\n",
       "<style scoped>\n",
       "    .dataframe tbody tr th:only-of-type {\n",
       "        vertical-align: middle;\n",
       "    }\n",
       "\n",
       "    .dataframe tbody tr th {\n",
       "        vertical-align: top;\n",
       "    }\n",
       "\n",
       "    .dataframe thead tr th {\n",
       "        text-align: left;\n",
       "    }\n",
       "</style>\n",
       "<table border=\"1\" class=\"dataframe\">\n",
       "  <thead>\n",
       "    <tr>\n",
       "      <th></th>\n",
       "      <th>piloto</th>\n",
       "      <th>unidad</th>\n",
       "      <th>cantidad</th>\n",
       "      <th colspan=\"2\" halign=\"left\">q</th>\n",
       "    </tr>\n",
       "    <tr>\n",
       "      <th></th>\n",
       "      <th></th>\n",
       "      <th></th>\n",
       "      <th>sum</th>\n",
       "      <th>sum</th>\n",
       "      <th>count</th>\n",
       "    </tr>\n",
       "  </thead>\n",
       "  <tbody>\n",
       "    <tr>\n",
       "      <th>0</th>\n",
       "      <td>Angel Valdez Alegria</td>\n",
       "      <td>Camion Grande</td>\n",
       "      <td>198048</td>\n",
       "      <td>49512.00</td>\n",
       "      <td>135</td>\n",
       "    </tr>\n",
       "    <tr>\n",
       "      <th>1</th>\n",
       "      <td>Angel Valdez Alegria</td>\n",
       "      <td>Camion Pequeño</td>\n",
       "      <td>47056</td>\n",
       "      <td>11764.00</td>\n",
       "      <td>64</td>\n",
       "    </tr>\n",
       "    <tr>\n",
       "      <th>2</th>\n",
       "      <td>Angel Valdez Alegria</td>\n",
       "      <td>Panel</td>\n",
       "      <td>12126</td>\n",
       "      <td>3031.50</td>\n",
       "      <td>36</td>\n",
       "    </tr>\n",
       "    <tr>\n",
       "      <th>3</th>\n",
       "      <td>Felipe Villatoro</td>\n",
       "      <td>Camion Grande</td>\n",
       "      <td>185833</td>\n",
       "      <td>46458.25</td>\n",
       "      <td>126</td>\n",
       "    </tr>\n",
       "    <tr>\n",
       "      <th>4</th>\n",
       "      <td>Felipe Villatoro</td>\n",
       "      <td>Camion Pequeño</td>\n",
       "      <td>57060</td>\n",
       "      <td>14265.00</td>\n",
       "      <td>78</td>\n",
       "    </tr>\n",
       "    <tr>\n",
       "      <th>5</th>\n",
       "      <td>Felipe Villatoro</td>\n",
       "      <td>Panel</td>\n",
       "      <td>15613</td>\n",
       "      <td>3903.25</td>\n",
       "      <td>43</td>\n",
       "    </tr>\n",
       "    <tr>\n",
       "      <th>6</th>\n",
       "      <td>Fernando Mariano Berrio</td>\n",
       "      <td>Camion Grande</td>\n",
       "      <td>240118</td>\n",
       "      <td>60029.50</td>\n",
       "      <td>157</td>\n",
       "    </tr>\n",
       "    <tr>\n",
       "      <th>7</th>\n",
       "      <td>Fernando Mariano Berrio</td>\n",
       "      <td>Camion Pequeño</td>\n",
       "      <td>56354</td>\n",
       "      <td>14088.50</td>\n",
       "      <td>75</td>\n",
       "    </tr>\n",
       "    <tr>\n",
       "      <th>8</th>\n",
       "      <td>Fernando Mariano Berrio</td>\n",
       "      <td>Panel</td>\n",
       "      <td>11917</td>\n",
       "      <td>2979.25</td>\n",
       "      <td>35</td>\n",
       "    </tr>\n",
       "    <tr>\n",
       "      <th>9</th>\n",
       "      <td>Hector Aragones Frutos</td>\n",
       "      <td>Camion Grande</td>\n",
       "      <td>198703</td>\n",
       "      <td>49675.75</td>\n",
       "      <td>132</td>\n",
       "    </tr>\n",
       "    <tr>\n",
       "      <th>10</th>\n",
       "      <td>Hector Aragones Frutos</td>\n",
       "      <td>Camion Pequeño</td>\n",
       "      <td>52613</td>\n",
       "      <td>13153.25</td>\n",
       "      <td>70</td>\n",
       "    </tr>\n",
       "    <tr>\n",
       "      <th>11</th>\n",
       "      <td>Hector Aragones Frutos</td>\n",
       "      <td>Panel</td>\n",
       "      <td>15265</td>\n",
       "      <td>3816.25</td>\n",
       "      <td>46</td>\n",
       "    </tr>\n",
       "    <tr>\n",
       "      <th>12</th>\n",
       "      <td>Hector Giron</td>\n",
       "      <td>Camion Grande</td>\n",
       "      <td>186473</td>\n",
       "      <td>46618.25</td>\n",
       "      <td>123</td>\n",
       "    </tr>\n",
       "    <tr>\n",
       "      <th>13</th>\n",
       "      <td>Hector Giron</td>\n",
       "      <td>Camion Pequeño</td>\n",
       "      <td>55101</td>\n",
       "      <td>13775.25</td>\n",
       "      <td>73</td>\n",
       "    </tr>\n",
       "    <tr>\n",
       "      <th>14</th>\n",
       "      <td>Hector Giron</td>\n",
       "      <td>Panel</td>\n",
       "      <td>10247</td>\n",
       "      <td>2561.75</td>\n",
       "      <td>32</td>\n",
       "    </tr>\n",
       "    <tr>\n",
       "      <th>15</th>\n",
       "      <td>Ismael Rodero Monteagudo</td>\n",
       "      <td>Camion Grande</td>\n",
       "      <td>228340</td>\n",
       "      <td>57085.00</td>\n",
       "      <td>149</td>\n",
       "    </tr>\n",
       "    <tr>\n",
       "      <th>16</th>\n",
       "      <td>Ismael Rodero Monteagudo</td>\n",
       "      <td>Camion Pequeño</td>\n",
       "      <td>41827</td>\n",
       "      <td>10456.75</td>\n",
       "      <td>54</td>\n",
       "    </tr>\n",
       "    <tr>\n",
       "      <th>17</th>\n",
       "      <td>Ismael Rodero Monteagudo</td>\n",
       "      <td>Panel</td>\n",
       "      <td>13579</td>\n",
       "      <td>3394.75</td>\n",
       "      <td>41</td>\n",
       "    </tr>\n",
       "    <tr>\n",
       "      <th>18</th>\n",
       "      <td>Juan Francisco Portillo Gomez</td>\n",
       "      <td>Camion Grande</td>\n",
       "      <td>178060</td>\n",
       "      <td>44515.00</td>\n",
       "      <td>119</td>\n",
       "    </tr>\n",
       "    <tr>\n",
       "      <th>19</th>\n",
       "      <td>Juan Francisco Portillo Gomez</td>\n",
       "      <td>Camion Pequeño</td>\n",
       "      <td>43269</td>\n",
       "      <td>10817.25</td>\n",
       "      <td>58</td>\n",
       "    </tr>\n",
       "    <tr>\n",
       "      <th>20</th>\n",
       "      <td>Juan Francisco Portillo Gomez</td>\n",
       "      <td>Panel</td>\n",
       "      <td>12060</td>\n",
       "      <td>3015.00</td>\n",
       "      <td>35</td>\n",
       "    </tr>\n",
       "    <tr>\n",
       "      <th>21</th>\n",
       "      <td>Luis Jaime Urbano</td>\n",
       "      <td>Camion Grande</td>\n",
       "      <td>202958</td>\n",
       "      <td>50739.50</td>\n",
       "      <td>136</td>\n",
       "    </tr>\n",
       "    <tr>\n",
       "      <th>22</th>\n",
       "      <td>Luis Jaime Urbano</td>\n",
       "      <td>Camion Pequeño</td>\n",
       "      <td>46101</td>\n",
       "      <td>11525.25</td>\n",
       "      <td>64</td>\n",
       "    </tr>\n",
       "    <tr>\n",
       "      <th>23</th>\n",
       "      <td>Luis Jaime Urbano</td>\n",
       "      <td>Panel</td>\n",
       "      <td>14910</td>\n",
       "      <td>3727.50</td>\n",
       "      <td>46</td>\n",
       "    </tr>\n",
       "    <tr>\n",
       "      <th>24</th>\n",
       "      <td>Pedro Alvarez Parejo</td>\n",
       "      <td>Camion Grande</td>\n",
       "      <td>203333</td>\n",
       "      <td>50833.25</td>\n",
       "      <td>134</td>\n",
       "    </tr>\n",
       "    <tr>\n",
       "      <th>25</th>\n",
       "      <td>Pedro Alvarez Parejo</td>\n",
       "      <td>Camion Pequeño</td>\n",
       "      <td>51880</td>\n",
       "      <td>12970.00</td>\n",
       "      <td>69</td>\n",
       "    </tr>\n",
       "    <tr>\n",
       "      <th>26</th>\n",
       "      <td>Pedro Alvarez Parejo</td>\n",
       "      <td>Panel</td>\n",
       "      <td>16549</td>\n",
       "      <td>4137.25</td>\n",
       "      <td>50</td>\n",
       "    </tr>\n",
       "  </tbody>\n",
       "</table>\n",
       "</div>"
      ],
      "text/plain": [
       "                           piloto          unidad cantidad         q      \n",
       "                                                       sum       sum count\n",
       "0            Angel Valdez Alegria   Camion Grande   198048  49512.00   135\n",
       "1            Angel Valdez Alegria  Camion Pequeño    47056  11764.00    64\n",
       "2            Angel Valdez Alegria           Panel    12126   3031.50    36\n",
       "3                Felipe Villatoro   Camion Grande   185833  46458.25   126\n",
       "4                Felipe Villatoro  Camion Pequeño    57060  14265.00    78\n",
       "5                Felipe Villatoro           Panel    15613   3903.25    43\n",
       "6         Fernando Mariano Berrio   Camion Grande   240118  60029.50   157\n",
       "7         Fernando Mariano Berrio  Camion Pequeño    56354  14088.50    75\n",
       "8         Fernando Mariano Berrio           Panel    11917   2979.25    35\n",
       "9          Hector Aragones Frutos   Camion Grande   198703  49675.75   132\n",
       "10         Hector Aragones Frutos  Camion Pequeño    52613  13153.25    70\n",
       "11         Hector Aragones Frutos           Panel    15265   3816.25    46\n",
       "12                   Hector Giron   Camion Grande   186473  46618.25   123\n",
       "13                   Hector Giron  Camion Pequeño    55101  13775.25    73\n",
       "14                   Hector Giron           Panel    10247   2561.75    32\n",
       "15       Ismael Rodero Monteagudo   Camion Grande   228340  57085.00   149\n",
       "16       Ismael Rodero Monteagudo  Camion Pequeño    41827  10456.75    54\n",
       "17       Ismael Rodero Monteagudo           Panel    13579   3394.75    41\n",
       "18  Juan Francisco Portillo Gomez   Camion Grande   178060  44515.00   119\n",
       "19  Juan Francisco Portillo Gomez  Camion Pequeño    43269  10817.25    58\n",
       "20  Juan Francisco Portillo Gomez           Panel    12060   3015.00    35\n",
       "21              Luis Jaime Urbano   Camion Grande   202958  50739.50   136\n",
       "22              Luis Jaime Urbano  Camion Pequeño    46101  11525.25    64\n",
       "23              Luis Jaime Urbano           Panel    14910   3727.50    46\n",
       "24           Pedro Alvarez Parejo   Camion Grande   203333  50833.25   134\n",
       "25           Pedro Alvarez Parejo  Camion Pequeño    51880  12970.00    69\n",
       "26           Pedro Alvarez Parejo           Panel    16549   4137.25    50"
      ]
     },
     "execution_count": 37,
     "metadata": {},
     "output_type": "execute_result"
    }
   ],
   "source": [
    "dat.groupby([\"piloto\",\"unidad\"],as_index=False).agg({\"cantidad\":[\"sum\"],\n",
    "                                           \"q\":[\"sum\",\"count\"]})"
   ]
  },
  {
   "cell_type": "markdown",
   "metadata": {},
   "source": [
    "## Creditos"
   ]
  },
  {
   "cell_type": "code",
   "execution_count": 86,
   "metadata": {},
   "outputs": [
    {
     "name": "stdout",
     "output_type": "stream",
     "text": [
      "3\n",
      "[30 90 60]\n"
     ]
    }
   ],
   "source": [
    "print(dat.credito.nunique())\n",
    "print(dat.credito.unique())"
   ]
  },
  {
   "cell_type": "markdown",
   "metadata": {},
   "source": [
    "A mis clientes les ofrezco 30,60 y 90 días de credito."
   ]
  },
  {
   "cell_type": "code",
   "execution_count": 36,
   "metadata": {},
   "outputs": [
    {
     "data": {
      "text/plain": [
       "30    771\n",
       "60    748\n",
       "90    661\n",
       "Name: credito, dtype: int64"
      ]
     },
     "execution_count": 36,
     "metadata": {},
     "output_type": "execute_result"
    }
   ],
   "source": [
    "dat.credito.value_counts()"
   ]
  },
  {
   "cell_type": "markdown",
   "metadata": {},
   "source": [
    "## Transporte"
   ]
  },
  {
   "cell_type": "code",
   "execution_count": 10,
   "metadata": {},
   "outputs": [
    {
     "data": {
      "text/plain": [
       "array(['Camion Grande', 'Panel', 'Camion Pequeño'], dtype=object)"
      ]
     },
     "execution_count": 10,
     "metadata": {},
     "output_type": "execute_result"
    }
   ],
   "source": [
    "dat.unidad.unique()"
   ]
  },
  {
   "cell_type": "markdown",
   "metadata": {},
   "source": [
    "Ofrezco 3 tipos de transportes para mis pedidos: Camiones (grandes y pequeños) y paneles."
   ]
  },
  {
   "cell_type": "code",
   "execution_count": 31,
   "metadata": {},
   "outputs": [
    {
     "data": {
      "text/html": [
       "<div>\n",
       "<style scoped>\n",
       "    .dataframe tbody tr th:only-of-type {\n",
       "        vertical-align: middle;\n",
       "    }\n",
       "\n",
       "    .dataframe tbody tr th {\n",
       "        vertical-align: top;\n",
       "    }\n",
       "\n",
       "    .dataframe thead th {\n",
       "        text-align: right;\n",
       "    }\n",
       "</style>\n",
       "<table border=\"1\" class=\"dataframe\">\n",
       "  <thead>\n",
       "    <tr style=\"text-align: right;\">\n",
       "      <th></th>\n",
       "      <th>unidad</th>\n",
       "    </tr>\n",
       "  </thead>\n",
       "  <tbody>\n",
       "    <tr>\n",
       "      <th>Camion Grande</th>\n",
       "      <td>1211</td>\n",
       "    </tr>\n",
       "    <tr>\n",
       "      <th>Camion Pequeño</th>\n",
       "      <td>605</td>\n",
       "    </tr>\n",
       "    <tr>\n",
       "      <th>Panel</th>\n",
       "      <td>364</td>\n",
       "    </tr>\n",
       "  </tbody>\n",
       "</table>\n",
       "</div>"
      ],
      "text/plain": [
       "                unidad\n",
       "Camion Grande     1211\n",
       "Camion Pequeño     605\n",
       "Panel              364"
      ]
     },
     "execution_count": 31,
     "metadata": {},
     "output_type": "execute_result"
    }
   ],
   "source": [
    "dat.unidad.value_counts().to_frame()"
   ]
  },
  {
   "cell_type": "markdown",
   "metadata": {},
   "source": [
    "La mayoria de los viajes se hacen en camion grande."
   ]
  },
  {
   "cell_type": "code",
   "execution_count": 16,
   "metadata": {},
   "outputs": [
    {
     "data": {
      "text/html": [
       "<div>\n",
       "<style scoped>\n",
       "    .dataframe tbody tr th:only-of-type {\n",
       "        vertical-align: middle;\n",
       "    }\n",
       "\n",
       "    .dataframe tbody tr th {\n",
       "        vertical-align: top;\n",
       "    }\n",
       "\n",
       "    .dataframe thead th {\n",
       "        text-align: right;\n",
       "    }\n",
       "</style>\n",
       "<table border=\"1\" class=\"dataframe\">\n",
       "  <thead>\n",
       "    <tr style=\"text-align: right;\">\n",
       "      <th></th>\n",
       "      <th>unidad</th>\n",
       "      <th>cantidad</th>\n",
       "    </tr>\n",
       "  </thead>\n",
       "  <tbody>\n",
       "    <tr>\n",
       "      <th>0</th>\n",
       "      <td>Camion Grande</td>\n",
       "      <td>1504</td>\n",
       "    </tr>\n",
       "    <tr>\n",
       "      <th>1</th>\n",
       "      <td>Camion Pequeño</td>\n",
       "      <td>745</td>\n",
       "    </tr>\n",
       "    <tr>\n",
       "      <th>2</th>\n",
       "      <td>Panel</td>\n",
       "      <td>335</td>\n",
       "    </tr>\n",
       "  </tbody>\n",
       "</table>\n",
       "</div>"
      ],
      "text/plain": [
       "           unidad  cantidad\n",
       "0   Camion Grande      1504\n",
       "1  Camion Pequeño       745\n",
       "2           Panel       335"
      ]
     },
     "execution_count": 16,
     "metadata": {},
     "output_type": "execute_result"
    }
   ],
   "source": [
    "df_prom_trans = dat.groupby(\"unidad\",as_index=False).agg({\"cantidad\":\"mean\"})\n",
    "df_prom_trans[\"cantidad\"] = df_prom_trans[\"cantidad\"].astype(\"int\")\n",
    "df_prom_trans"
   ]
  },
  {
   "cell_type": "code",
   "execution_count": 21,
   "metadata": {},
   "outputs": [
    {
     "data": {
      "text/html": [
       "<div>\n",
       "<style scoped>\n",
       "    .dataframe tbody tr th:only-of-type {\n",
       "        vertical-align: middle;\n",
       "    }\n",
       "\n",
       "    .dataframe tbody tr th {\n",
       "        vertical-align: top;\n",
       "    }\n",
       "\n",
       "    .dataframe thead th {\n",
       "        text-align: right;\n",
       "    }\n",
       "</style>\n",
       "<table border=\"1\" class=\"dataframe\">\n",
       "  <thead>\n",
       "    <tr style=\"text-align: right;\">\n",
       "      <th></th>\n",
       "      <th>cantidad</th>\n",
       "    </tr>\n",
       "    <tr>\n",
       "      <th>unidad</th>\n",
       "      <th></th>\n",
       "    </tr>\n",
       "  </thead>\n",
       "  <tbody>\n",
       "    <tr>\n",
       "      <th>Camion Grande</th>\n",
       "      <td>165624.181818</td>\n",
       "    </tr>\n",
       "    <tr>\n",
       "      <th>Camion Pequeño</th>\n",
       "      <td>41023.727273</td>\n",
       "    </tr>\n",
       "    <tr>\n",
       "      <th>Panel</th>\n",
       "      <td>11115.090909</td>\n",
       "    </tr>\n",
       "  </tbody>\n",
       "</table>\n",
       "</div>"
      ],
      "text/plain": [
       "                     cantidad\n",
       "unidad                       \n",
       "Camion Grande   165624.181818\n",
       "Camion Pequeño   41023.727273\n",
       "Panel            11115.090909"
      ]
     },
     "execution_count": 21,
     "metadata": {},
     "output_type": "execute_result"
    }
   ],
   "source": [
    "dat.groupby([\"mes\",\"unidad\"]).agg({\"cantidad\":\"sum\"}).groupby(\"unidad\").agg({\"cantidad\":\"mean\"})"
   ]
  },
  {
   "cell_type": "code",
   "execution_count": 22,
   "metadata": {},
   "outputs": [
    {
     "data": {
      "text/html": [
       "<div>\n",
       "<style scoped>\n",
       "    .dataframe tbody tr th:only-of-type {\n",
       "        vertical-align: middle;\n",
       "    }\n",
       "\n",
       "    .dataframe tbody tr th {\n",
       "        vertical-align: top;\n",
       "    }\n",
       "\n",
       "    .dataframe thead th {\n",
       "        text-align: right;\n",
       "    }\n",
       "</style>\n",
       "<table border=\"1\" class=\"dataframe\">\n",
       "  <thead>\n",
       "    <tr style=\"text-align: right;\">\n",
       "      <th></th>\n",
       "      <th>cantidad</th>\n",
       "    </tr>\n",
       "    <tr>\n",
       "      <th>unidad</th>\n",
       "      <th></th>\n",
       "    </tr>\n",
       "  </thead>\n",
       "  <tbody>\n",
       "    <tr>\n",
       "      <th>Camion Grande</th>\n",
       "      <td>1504.431049</td>\n",
       "    </tr>\n",
       "    <tr>\n",
       "      <th>Camion Pequeño</th>\n",
       "      <td>745.885950</td>\n",
       "    </tr>\n",
       "    <tr>\n",
       "      <th>Panel</th>\n",
       "      <td>335.895604</td>\n",
       "    </tr>\n",
       "  </tbody>\n",
       "</table>\n",
       "</div>"
      ],
      "text/plain": [
       "                   cantidad\n",
       "unidad                     \n",
       "Camion Grande   1504.431049\n",
       "Camion Pequeño   745.885950\n",
       "Panel            335.895604"
      ]
     },
     "execution_count": 22,
     "metadata": {},
     "output_type": "execute_result"
    }
   ],
   "source": [
    "dat.groupby(\"unidad\").agg({\"cantidad\":\"mean\"})"
   ]
  },
  {
   "cell_type": "code",
   "execution_count": 12,
   "metadata": {
    "scrolled": true
   },
   "outputs": [
    {
     "data": {
      "text/html": [
       "<div>\n",
       "<style scoped>\n",
       "    .dataframe tbody tr th:only-of-type {\n",
       "        vertical-align: middle;\n",
       "    }\n",
       "\n",
       "    .dataframe tbody tr th {\n",
       "        vertical-align: top;\n",
       "    }\n",
       "\n",
       "    .dataframe thead tr th {\n",
       "        text-align: left;\n",
       "    }\n",
       "\n",
       "    .dataframe thead tr:last-of-type th {\n",
       "        text-align: right;\n",
       "    }\n",
       "</style>\n",
       "<table border=\"1\" class=\"dataframe\">\n",
       "  <thead>\n",
       "    <tr>\n",
       "      <th></th>\n",
       "      <th></th>\n",
       "      <th colspan=\"3\" halign=\"left\">cantidad</th>\n",
       "    </tr>\n",
       "    <tr>\n",
       "      <th></th>\n",
       "      <th></th>\n",
       "      <th>mean</th>\n",
       "      <th>sum</th>\n",
       "      <th>count</th>\n",
       "    </tr>\n",
       "    <tr>\n",
       "      <th>mes</th>\n",
       "      <th>unidad</th>\n",
       "      <th></th>\n",
       "      <th></th>\n",
       "      <th></th>\n",
       "    </tr>\n",
       "  </thead>\n",
       "  <tbody>\n",
       "    <tr>\n",
       "      <th rowspan=\"3\" valign=\"top\">1</th>\n",
       "      <th>Camion Grande</th>\n",
       "      <td>1482.180328</td>\n",
       "      <td>180826</td>\n",
       "      <td>122</td>\n",
       "    </tr>\n",
       "    <tr>\n",
       "      <th>Camion Pequeño</th>\n",
       "      <td>741.860465</td>\n",
       "      <td>31900</td>\n",
       "      <td>43</td>\n",
       "    </tr>\n",
       "    <tr>\n",
       "      <th>Panel</th>\n",
       "      <td>331.111111</td>\n",
       "      <td>8940</td>\n",
       "      <td>27</td>\n",
       "    </tr>\n",
       "    <tr>\n",
       "      <th rowspan=\"3\" valign=\"top\">2</th>\n",
       "      <th>Camion Grande</th>\n",
       "      <td>1516.543860</td>\n",
       "      <td>172886</td>\n",
       "      <td>114</td>\n",
       "    </tr>\n",
       "    <tr>\n",
       "      <th>Camion Pequeño</th>\n",
       "      <td>755.481481</td>\n",
       "      <td>40796</td>\n",
       "      <td>54</td>\n",
       "    </tr>\n",
       "    <tr>\n",
       "      <th>Panel</th>\n",
       "      <td>320.685714</td>\n",
       "      <td>11224</td>\n",
       "      <td>35</td>\n",
       "    </tr>\n",
       "    <tr>\n",
       "      <th rowspan=\"3\" valign=\"top\">3</th>\n",
       "      <th>Camion Grande</th>\n",
       "      <td>1487.877551</td>\n",
       "      <td>145812</td>\n",
       "      <td>98</td>\n",
       "    </tr>\n",
       "    <tr>\n",
       "      <th>Camion Pequeño</th>\n",
       "      <td>746.866667</td>\n",
       "      <td>33609</td>\n",
       "      <td>45</td>\n",
       "    </tr>\n",
       "    <tr>\n",
       "      <th>Panel</th>\n",
       "      <td>370.410256</td>\n",
       "      <td>14446</td>\n",
       "      <td>39</td>\n",
       "    </tr>\n",
       "    <tr>\n",
       "      <th rowspan=\"3\" valign=\"top\">4</th>\n",
       "      <th>Camion Grande</th>\n",
       "      <td>1494.683168</td>\n",
       "      <td>150963</td>\n",
       "      <td>101</td>\n",
       "    </tr>\n",
       "    <tr>\n",
       "      <th>Camion Pequeño</th>\n",
       "      <td>751.881356</td>\n",
       "      <td>44361</td>\n",
       "      <td>59</td>\n",
       "    </tr>\n",
       "    <tr>\n",
       "      <th>Panel</th>\n",
       "      <td>319.611111</td>\n",
       "      <td>11506</td>\n",
       "      <td>36</td>\n",
       "    </tr>\n",
       "    <tr>\n",
       "      <th rowspan=\"3\" valign=\"top\">5</th>\n",
       "      <th>Camion Grande</th>\n",
       "      <td>1519.230769</td>\n",
       "      <td>177750</td>\n",
       "      <td>117</td>\n",
       "    </tr>\n",
       "    <tr>\n",
       "      <th>Camion Pequeño</th>\n",
       "      <td>750.027778</td>\n",
       "      <td>54002</td>\n",
       "      <td>72</td>\n",
       "    </tr>\n",
       "    <tr>\n",
       "      <th>Panel</th>\n",
       "      <td>328.769231</td>\n",
       "      <td>8548</td>\n",
       "      <td>26</td>\n",
       "    </tr>\n",
       "    <tr>\n",
       "      <th rowspan=\"3\" valign=\"top\">6</th>\n",
       "      <th>Camion Grande</th>\n",
       "      <td>1488.112150</td>\n",
       "      <td>159228</td>\n",
       "      <td>107</td>\n",
       "    </tr>\n",
       "    <tr>\n",
       "      <th>Camion Pequeño</th>\n",
       "      <td>732.940000</td>\n",
       "      <td>36647</td>\n",
       "      <td>50</td>\n",
       "    </tr>\n",
       "    <tr>\n",
       "      <th>Panel</th>\n",
       "      <td>329.325000</td>\n",
       "      <td>13173</td>\n",
       "      <td>40</td>\n",
       "    </tr>\n",
       "    <tr>\n",
       "      <th rowspan=\"3\" valign=\"top\">7</th>\n",
       "      <th>Camion Grande</th>\n",
       "      <td>1467.644628</td>\n",
       "      <td>177585</td>\n",
       "      <td>121</td>\n",
       "    </tr>\n",
       "    <tr>\n",
       "      <th>Camion Pequeño</th>\n",
       "      <td>721.795918</td>\n",
       "      <td>35368</td>\n",
       "      <td>49</td>\n",
       "    </tr>\n",
       "    <tr>\n",
       "      <th>Panel</th>\n",
       "      <td>336.048780</td>\n",
       "      <td>13778</td>\n",
       "      <td>41</td>\n",
       "    </tr>\n",
       "    <tr>\n",
       "      <th rowspan=\"3\" valign=\"top\">8</th>\n",
       "      <th>Camion Grande</th>\n",
       "      <td>1538.352941</td>\n",
       "      <td>156912</td>\n",
       "      <td>102</td>\n",
       "    </tr>\n",
       "    <tr>\n",
       "      <th>Camion Pequeño</th>\n",
       "      <td>715.741935</td>\n",
       "      <td>44376</td>\n",
       "      <td>62</td>\n",
       "    </tr>\n",
       "    <tr>\n",
       "      <th>Panel</th>\n",
       "      <td>336.057143</td>\n",
       "      <td>11762</td>\n",
       "      <td>35</td>\n",
       "    </tr>\n",
       "    <tr>\n",
       "      <th rowspan=\"3\" valign=\"top\">9</th>\n",
       "      <th>Camion Grande</th>\n",
       "      <td>1523.578431</td>\n",
       "      <td>155405</td>\n",
       "      <td>102</td>\n",
       "    </tr>\n",
       "    <tr>\n",
       "      <th>Camion Pequeño</th>\n",
       "      <td>734.981481</td>\n",
       "      <td>39689</td>\n",
       "      <td>54</td>\n",
       "    </tr>\n",
       "    <tr>\n",
       "      <th>Panel</th>\n",
       "      <td>343.218750</td>\n",
       "      <td>10983</td>\n",
       "      <td>32</td>\n",
       "    </tr>\n",
       "    <tr>\n",
       "      <th rowspan=\"3\" valign=\"top\">10</th>\n",
       "      <th>Camion Grande</th>\n",
       "      <td>1502.305556</td>\n",
       "      <td>162249</td>\n",
       "      <td>108</td>\n",
       "    </tr>\n",
       "    <tr>\n",
       "      <th>Camion Pequeño</th>\n",
       "      <td>767.047619</td>\n",
       "      <td>48324</td>\n",
       "      <td>63</td>\n",
       "    </tr>\n",
       "    <tr>\n",
       "      <th>Panel</th>\n",
       "      <td>349.827586</td>\n",
       "      <td>10145</td>\n",
       "      <td>29</td>\n",
       "    </tr>\n",
       "    <tr>\n",
       "      <th rowspan=\"3\" valign=\"top\">11</th>\n",
       "      <th>Camion Grande</th>\n",
       "      <td>1531.512605</td>\n",
       "      <td>182250</td>\n",
       "      <td>119</td>\n",
       "    </tr>\n",
       "    <tr>\n",
       "      <th>Camion Pequeño</th>\n",
       "      <td>781.277778</td>\n",
       "      <td>42189</td>\n",
       "      <td>54</td>\n",
       "    </tr>\n",
       "    <tr>\n",
       "      <th>Panel</th>\n",
       "      <td>323.375000</td>\n",
       "      <td>7761</td>\n",
       "      <td>24</td>\n",
       "    </tr>\n",
       "  </tbody>\n",
       "</table>\n",
       "</div>"
      ],
      "text/plain": [
       "                       cantidad              \n",
       "                           mean     sum count\n",
       "mes unidad                                   \n",
       "1   Camion Grande   1482.180328  180826   122\n",
       "    Camion Pequeño   741.860465   31900    43\n",
       "    Panel            331.111111    8940    27\n",
       "2   Camion Grande   1516.543860  172886   114\n",
       "    Camion Pequeño   755.481481   40796    54\n",
       "    Panel            320.685714   11224    35\n",
       "3   Camion Grande   1487.877551  145812    98\n",
       "    Camion Pequeño   746.866667   33609    45\n",
       "    Panel            370.410256   14446    39\n",
       "4   Camion Grande   1494.683168  150963   101\n",
       "    Camion Pequeño   751.881356   44361    59\n",
       "    Panel            319.611111   11506    36\n",
       "5   Camion Grande   1519.230769  177750   117\n",
       "    Camion Pequeño   750.027778   54002    72\n",
       "    Panel            328.769231    8548    26\n",
       "6   Camion Grande   1488.112150  159228   107\n",
       "    Camion Pequeño   732.940000   36647    50\n",
       "    Panel            329.325000   13173    40\n",
       "7   Camion Grande   1467.644628  177585   121\n",
       "    Camion Pequeño   721.795918   35368    49\n",
       "    Panel            336.048780   13778    41\n",
       "8   Camion Grande   1538.352941  156912   102\n",
       "    Camion Pequeño   715.741935   44376    62\n",
       "    Panel            336.057143   11762    35\n",
       "9   Camion Grande   1523.578431  155405   102\n",
       "    Camion Pequeño   734.981481   39689    54\n",
       "    Panel            343.218750   10983    32\n",
       "10  Camion Grande   1502.305556  162249   108\n",
       "    Camion Pequeño   767.047619   48324    63\n",
       "    Panel            349.827586   10145    29\n",
       "11  Camion Grande   1531.512605  182250   119\n",
       "    Camion Pequeño   781.277778   42189    54\n",
       "    Panel            323.375000    7761    24"
      ]
     },
     "execution_count": 12,
     "metadata": {},
     "output_type": "execute_result"
    }
   ],
   "source": [
    "dat.groupby([\"mes\",\"unidad\"]).agg({\"cantidad\":[\"mean\",\"sum\",\"count\"]})"
   ]
  },
  {
   "cell_type": "markdown",
   "metadata": {},
   "source": [
    "## Temporalidad"
   ]
  },
  {
   "cell_type": "code",
   "execution_count": 23,
   "metadata": {},
   "outputs": [
    {
     "name": "stdout",
     "output_type": "stream",
     "text": [
      "meses: [ 1  2  3  4  5  6  7  8  9 10 11]\n",
      "años: [2019]\n"
     ]
    }
   ],
   "source": [
    "print(\"meses:\",dat.mes.unique())\n",
    "print(\"años:\",dat.anio.unique())"
   ]
  },
  {
   "cell_type": "markdown",
   "metadata": {},
   "source": [
    "Tengo información de casi todo el 2019 con excepcion de Diciembre."
   ]
  },
  {
   "cell_type": "code",
   "execution_count": 45,
   "metadata": {},
   "outputs": [],
   "source": [
    "html = dat.credito.value_counts().to_frame().to_html(justify=\"center\",col_space = 25)\n",
    "html = html.replace('class=\"dataframe\"', 'class=\"dataframe\" align=\"center\"').replace(\"<td>\",'<td align=\"center\">')\n",
    "\n",
    "with io.open(\"prueba.html\", 'w', encoding='latin') as f:\n",
    "    f.write(html)"
   ]
  },
  {
   "cell_type": "code",
   "execution_count": 101,
   "metadata": {},
   "outputs": [
    {
     "data": {
      "image/png": "[encoded data removed]",
      "text/plain": [
       "<Figure size 1080x432 with 1 Axes>"
      ]
     },
     "metadata": {
      "needs_background": "light"
     },
     "output_type": "display_data"
    }
   ],
   "source": [
    "df_ts_count = dat.groupby([\"mes_anio\"],as_index=False).q.count().sort_values([\"mes_anio\"])\n",
    "\n",
    "plt.figure(figsize=(15,6))\n",
    "plt.plot(df_ts_count[\"mes_anio\"],df_ts_count[\"q\"],linewidth=2,color=\"green\",marker=\"o\")\n",
    "plt.xticks(rotation=45,fontsize=12)\n",
    "plt.yticks(fontsize=12)\n",
    "plt.title(\"Cantidad de Viajes Mensuales\",fontsize=20)\n",
    "plt.ylabel(\"# de Viajes\",fontsize=16)\n",
    "plt.show()"
   ]
  },
  {
   "cell_type": "code",
   "execution_count": 38,
   "metadata": {},
   "outputs": [
    {
     "data": {
      "image/png": "[encoded data removed]",
      "text/plain": [
       "<Figure size 1080x432 with 1 Axes>"
      ]
     },
     "metadata": {
      "needs_background": "light"
     },
     "output_type": "display_data"
    }
   ],
   "source": [
    "df_ts_sum = dat[~dat[\"cliente\"].str.contains(\"DEVOLUCION\")].groupby([\"mes_anio\"],as_index=False).q.sum().sort_values([\"mes_anio\"])\n",
    "\n",
    "plt.figure(figsize=(15,6))\n",
    "plt.plot(df_ts_sum[\"mes_anio\"],df_ts_sum[\"q\"],linewidth=2,color=\"green\",marker=\"o\")\n",
    "plt.xticks(rotation=45,fontsize=12)\n",
    "plt.yticks(fontsize=12)\n",
    "plt.title(\"Ventas Mensuales\",fontsize=20)\n",
    "plt.ylabel(\"Quetzales\",fontsize=16)\n",
    "plt.show()"
   ]
  },
  {
   "cell_type": "code",
   "execution_count": null,
   "metadata": {},
   "outputs": [],
   "source": [
    "#### NOTAS\n",
    "\n",
    "# Faltante | faltaba de otro pedido\n",
    "# Devolucion ya no lo querian"
   ]
  },
  {
   "cell_type": "markdown",
   "metadata": {},
   "source": [
    "## Flujo de Caja"
   ]
  },
  {
   "cell_type": "code",
   "execution_count": 91,
   "metadata": {},
   "outputs": [
    {
     "data": {
      "text/html": [
       "<div>\n",
       "<style scoped>\n",
       "    .dataframe tbody tr th:only-of-type {\n",
       "        vertical-align: middle;\n",
       "    }\n",
       "\n",
       "    .dataframe tbody tr th {\n",
       "        vertical-align: top;\n",
       "    }\n",
       "\n",
       "    .dataframe thead th {\n",
       "        text-align: right;\n",
       "    }\n",
       "</style>\n",
       "<table border=\"1\" class=\"dataframe\">\n",
       "  <thead>\n",
       "    <tr style=\"text-align: right;\">\n",
       "      <th></th>\n",
       "      <th>cobro</th>\n",
       "      <th>cobro_mes_anio</th>\n",
       "      <th>q_corregido</th>\n",
       "    </tr>\n",
       "  </thead>\n",
       "  <tbody>\n",
       "    <tr>\n",
       "      <th>0</th>\n",
       "      <td>2019-02-01</td>\n",
       "      <td>02-2019</td>\n",
       "      <td>20248.50</td>\n",
       "    </tr>\n",
       "    <tr>\n",
       "      <th>1</th>\n",
       "      <td>2019-03-01</td>\n",
       "      <td>03-2019</td>\n",
       "      <td>31625.50</td>\n",
       "    </tr>\n",
       "    <tr>\n",
       "      <th>2</th>\n",
       "      <td>2019-04-01</td>\n",
       "      <td>04-2019</td>\n",
       "      <td>51978.25</td>\n",
       "    </tr>\n",
       "    <tr>\n",
       "      <th>3</th>\n",
       "      <td>2019-05-01</td>\n",
       "      <td>05-2019</td>\n",
       "      <td>44365.75</td>\n",
       "    </tr>\n",
       "    <tr>\n",
       "      <th>4</th>\n",
       "      <td>2019-06-01</td>\n",
       "      <td>06-2019</td>\n",
       "      <td>47038.75</td>\n",
       "    </tr>\n",
       "    <tr>\n",
       "      <th>5</th>\n",
       "      <td>2019-07-01</td>\n",
       "      <td>07-2019</td>\n",
       "      <td>48332.50</td>\n",
       "    </tr>\n",
       "    <tr>\n",
       "      <th>6</th>\n",
       "      <td>2019-08-01</td>\n",
       "      <td>08-2019</td>\n",
       "      <td>48651.25</td>\n",
       "    </tr>\n",
       "    <tr>\n",
       "      <th>7</th>\n",
       "      <td>2019-09-01</td>\n",
       "      <td>09-2019</td>\n",
       "      <td>49683.00</td>\n",
       "    </tr>\n",
       "    <tr>\n",
       "      <th>8</th>\n",
       "      <td>2019-10-01</td>\n",
       "      <td>10-2019</td>\n",
       "      <td>46844.50</td>\n",
       "    </tr>\n",
       "    <tr>\n",
       "      <th>9</th>\n",
       "      <td>2019-11-01</td>\n",
       "      <td>11-2019</td>\n",
       "      <td>44708.50</td>\n",
       "    </tr>\n",
       "    <tr>\n",
       "      <th>10</th>\n",
       "      <td>2019-12-01</td>\n",
       "      <td>12-2019</td>\n",
       "      <td>51823.25</td>\n",
       "    </tr>\n",
       "    <tr>\n",
       "      <th>11</th>\n",
       "      <td>2020-01-01</td>\n",
       "      <td>01-2020</td>\n",
       "      <td>31340.50</td>\n",
       "    </tr>\n",
       "    <tr>\n",
       "      <th>12</th>\n",
       "      <td>2020-02-01</td>\n",
       "      <td>02-2020</td>\n",
       "      <td>16067.00</td>\n",
       "    </tr>\n",
       "  </tbody>\n",
       "</table>\n",
       "</div>"
      ],
      "text/plain": [
       "        cobro cobro_mes_anio  q_corregido\n",
       "0  2019-02-01        02-2019     20248.50\n",
       "1  2019-03-01        03-2019     31625.50\n",
       "2  2019-04-01        04-2019     51978.25\n",
       "3  2019-05-01        05-2019     44365.75\n",
       "4  2019-06-01        06-2019     47038.75\n",
       "5  2019-07-01        07-2019     48332.50\n",
       "6  2019-08-01        08-2019     48651.25\n",
       "7  2019-09-01        09-2019     49683.00\n",
       "8  2019-10-01        10-2019     46844.50\n",
       "9  2019-11-01        11-2019     44708.50\n",
       "10 2019-12-01        12-2019     51823.25\n",
       "11 2020-01-01        01-2020     31340.50\n",
       "12 2020-02-01        02-2020     16067.00"
      ]
     },
     "execution_count": 91,
     "metadata": {},
     "output_type": "execute_result"
    }
   ],
   "source": [
    "dat.groupby([\"cobro\",\"cobro_mes_anio\"],as_index=False).q_corregido.sum().sort_values(\"cobro\")"
   ]
  },
  {
   "cell_type": "code",
   "execution_count": 12,
   "metadata": {},
   "outputs": [
    {
     "data": {
      "image/png": "[encoded data removed]",
      "text/plain": [
       "<Figure size 1080x432 with 1 Axes>"
      ]
     },
     "metadata": {
      "needs_background": "light"
     },
     "output_type": "display_data"
    }
   ],
   "source": [
    "df_liquidez = dat.groupby([\"cobro\",\"cobro_mes_anio\"],as_index=False).q_corregido.sum().sort_values(\"cobro\")\n",
    "\n",
    "plt.figure(figsize=(15,6))\n",
    "plt.bar(df_liquidez[\"cobro_mes_anio\"],df_liquidez[\"q_corregido\"],linewidth=2,color=\"teal\",alpha=0.65)\n",
    "plt.xticks(rotation=45,fontsize=12)\n",
    "plt.yticks(fontsize=12)\n",
    "plt.title(\"Cobros Mensuales\",fontsize=20)\n",
    "plt.ylabel(\"Quetzales\",fontsize=16)\n",
    "plt.show()"
   ]
  }
 ],
 "metadata": {
  "kernelspec": {
   "display_name": "Python 3",
   "language": "python",
   "name": "python3"
  },
  "language_info": {
   "codemirror_mode": {
    "name": "ipython",
    "version": 3
   },
   "file_extension": ".py",
   "mimetype": "text/x-python",
   "name": "python",
   "nbconvert_exporter": "python",
   "pygments_lexer": "ipython3",
   "version": "3.8.1"
  }
 },
 "nbformat": 4,
 "nbformat_minor": 4
}
