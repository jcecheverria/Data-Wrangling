{
 "cells": [
  {
   "cell_type": "code",
   "execution_count": 1,
   "metadata": {},
   "outputs": [],
   "source": [
    "import re"
   ]
  },
  {
   "cell_type": "markdown",
   "metadata": {},
   "source": [
    "## **Inciso 1**"
   ]
  },
  {
   "cell_type": "code",
   "execution_count": 351,
   "metadata": {},
   "outputs": [],
   "source": [
    "def placas_gt():\n",
    "    placa = input(\"Ingrese su placa:\")\n",
    "    val = \"Placa inválida.\"\n",
    "    \n",
    "    # Detecta todo tipo de placa\n",
    "    placas_pattern = re.compile(\"^([PMCDOAU]|TC|MI|CC|CD|TRC)[0-9]{3}[A-Z]{3}$\")\n",
    "    if placas_pattern.match(placa):\n",
    "        tipo = placas_pattern.match(placa).group(1)\n",
    "        if tipo==\"P\":\n",
    "            val = \"Placa particular.\"\n",
    "        else:\n",
    "            val = \"Otro tipo de placa.\"\n",
    "    return val"
   ]
  },
  {
   "cell_type": "markdown",
   "metadata": {},
   "source": [
    "**Pruebas**"
   ]
  },
  {
   "cell_type": "code",
   "execution_count": 352,
   "metadata": {},
   "outputs": [
    {
     "name": "stdin",
     "output_type": "stream",
     "text": [
      "Ingrese su placa: P824GFW\n"
     ]
    },
    {
     "data": {
      "text/plain": [
       "'Placa particular.'"
      ]
     },
     "execution_count": 352,
     "metadata": {},
     "output_type": "execute_result"
    }
   ],
   "source": [
    "placas_gt()"
   ]
  },
  {
   "cell_type": "code",
   "execution_count": 354,
   "metadata": {},
   "outputs": [
    {
     "name": "stdin",
     "output_type": "stream",
     "text": [
      "Ingrese su placa: M824GFW\n"
     ]
    },
    {
     "data": {
      "text/plain": [
       "'Otro tipo de placa.'"
      ]
     },
     "execution_count": 354,
     "metadata": {},
     "output_type": "execute_result"
    }
   ],
   "source": [
    "placas_gt()"
   ]
  },
  {
   "cell_type": "code",
   "execution_count": 353,
   "metadata": {},
   "outputs": [
    {
     "name": "stdin",
     "output_type": "stream",
     "text": [
      "Ingrese su placa: P12gfw\n"
     ]
    },
    {
     "data": {
      "text/plain": [
       "'Placa inválida.'"
      ]
     },
     "execution_count": 353,
     "metadata": {},
     "output_type": "execute_result"
    }
   ],
   "source": [
    "placas_gt()"
   ]
  },
  {
   "cell_type": "markdown",
   "metadata": {},
   "source": [
    "## **Inciso 2**"
   ]
  },
  {
   "cell_type": "code",
   "execution_count": 109,
   "metadata": {},
   "outputs": [],
   "source": [
    "def tipo_archivo():\n",
    "    archivo = input(\"Ingrese su tipo de archivo\")\n",
    "    archivo = archivo.lower()\n",
    "    val = \"Archivo inválido\"\n",
    "    \n",
    "    archivo_pattern = re.compile(\"\\.[a-z]+$\")\n",
    "    if archivo_pattern.search(archivo):\n",
    "        ext = archivo_pattern.search(archivo).group()\n",
    "        if ext == \".jpg\":\n",
    "            val = \"Tipo de archivo JPG\"\n",
    "        elif ext == \".pdf\":\n",
    "            val = \"Tipo de archivo PDF\"\n",
    "        else:\n",
    "            val = \"Otro tipo de archivo\"\n",
    "    return val"
   ]
  },
  {
   "cell_type": "markdown",
   "metadata": {},
   "source": [
    "**Pruebas:**"
   ]
  },
  {
   "cell_type": "code",
   "execution_count": 111,
   "metadata": {},
   "outputs": [
    {
     "name": "stdin",
     "output_type": "stream",
     "text": [
      "Ingrese su tipo de archivo prueba2.PDF\n"
     ]
    },
    {
     "data": {
      "text/plain": [
       "'Tipo de archivo PDF'"
      ]
     },
     "execution_count": 111,
     "metadata": {},
     "output_type": "execute_result"
    }
   ],
   "source": [
    "tipo_archivo()"
   ]
  },
  {
   "cell_type": "code",
   "execution_count": 112,
   "metadata": {},
   "outputs": [
    {
     "name": "stdin",
     "output_type": "stream",
     "text": [
      "Ingrese su tipo de archivo respuestas_del_examen.jpg\n"
     ]
    },
    {
     "data": {
      "text/plain": [
       "'Tipo de archivo JPG'"
      ]
     },
     "execution_count": 112,
     "metadata": {},
     "output_type": "execute_result"
    }
   ],
   "source": [
    "tipo_archivo()"
   ]
  },
  {
   "cell_type": "code",
   "execution_count": 113,
   "metadata": {},
   "outputs": [
    {
     "name": "stdin",
     "output_type": "stream",
     "text": [
      "Ingrese su tipo de archivo Ejemplo1.pdf\n"
     ]
    },
    {
     "data": {
      "text/plain": [
       "'Tipo de archivo PDF'"
      ]
     },
     "execution_count": 113,
     "metadata": {},
     "output_type": "execute_result"
    }
   ],
   "source": [
    "tipo_archivo()"
   ]
  },
  {
   "cell_type": "code",
   "execution_count": 114,
   "metadata": {},
   "outputs": [
    {
     "name": "stdin",
     "output_type": "stream",
     "text": [
      "Ingrese su tipo de archivo amor.JPG\n"
     ]
    },
    {
     "data": {
      "text/plain": [
       "'Tipo de archivo JPG'"
      ]
     },
     "execution_count": 114,
     "metadata": {},
     "output_type": "execute_result"
    }
   ],
   "source": [
    "tipo_archivo()"
   ]
  },
  {
   "cell_type": "code",
   "execution_count": 126,
   "metadata": {},
   "outputs": [
    {
     "name": "stdin",
     "output_type": "stream",
     "text": [
      "Ingrese su tipo de archivo configm.yml\n"
     ]
    },
    {
     "data": {
      "text/plain": [
       "'Otro tipo de archivo'"
      ]
     },
     "execution_count": 126,
     "metadata": {},
     "output_type": "execute_result"
    }
   ],
   "source": [
    "tipo_archivo()"
   ]
  },
  {
   "cell_type": "markdown",
   "metadata": {},
   "source": [
    "## **Inciso 3**"
   ]
  },
  {
   "cell_type": "code",
   "execution_count": 122,
   "metadata": {},
   "outputs": [],
   "source": [
    "def password_check():\n",
    "    password = input(\"Ingrese su contraseña:\")\n",
    "    status = \"Invalid password. Password must have at least 8 characters, at least an uppercase character and at least a special character.\"\n",
    "    if len(password)>=8:\n",
    "        if re.search(\"[A-Z]\",password):\n",
    "            special_pattern = re.compile(\"\\W\") #[@|0|?|¿|/|\\-|!|\\||\\°|\\\"|\\#|'|%|$|\\(|\\)|=|&|¡|+|*|~|\\[|\\]|^|{|}|`|¨|_|\\.|\\:|,|;|<|>|\\\\]\n",
    "            if special_pattern.search(password):\n",
    "                status = \"Valid password.\"\n",
    "    return status"
   ]
  },
  {
   "cell_type": "code",
   "execution_count": 121,
   "metadata": {},
   "outputs": [
    {
     "data": {
      "text/plain": [
       "<re.Match object; span=(1, 2), match='\\\\'>"
      ]
     },
     "execution_count": 121,
     "metadata": {},
     "output_type": "execute_result"
    }
   ],
   "source": [
    "special_pattern = re.compile(\"\\W\")\n",
    "special_pattern.search(r\"C\\\\ontraseña\")"
   ]
  },
  {
   "cell_type": "markdown",
   "metadata": {},
   "source": [
    "**Prueba:**"
   ]
  },
  {
   "cell_type": "code",
   "execution_count": 125,
   "metadata": {},
   "outputs": [
    {
     "name": "stdin",
     "output_type": "stream",
     "text": [
      "Ingrese su contraseña: Contraseña%\n"
     ]
    },
    {
     "data": {
      "text/plain": [
       "'Valid password.'"
      ]
     },
     "execution_count": 125,
     "metadata": {},
     "output_type": "execute_result"
    }
   ],
   "source": [
    "password_check()"
   ]
  },
  {
   "cell_type": "markdown",
   "metadata": {},
   "source": [
    "## **Inciso 4**"
   ]
  },
  {
   "cell_type": "code",
   "execution_count": 622,
   "metadata": {},
   "outputs": [],
   "source": [
    "def carnet():\n",
    "    carnet = input(\"Ingrese su número de carnet:\")\n",
    "    val = \"Carnet invalido.\"\n",
    "    pattern_carnet = re.compile(\"(0[1-9]|1[\\d]|2[\\d]|30)00(111\\d|11[2-9]\\d|1[2-9]\\d\\d|[2-7]\\d\\d\\d|8970|89[0-6]\\d|8[0-8]\\d\\d)$\")\n",
    "    \n",
    "    if pattern_carnet.match(carnet):\n",
    "        val = \"Carnet valido.\"\n",
    "    return val"
   ]
  },
  {
   "cell_type": "markdown",
   "metadata": {},
   "source": [
    "**Pruebas:**"
   ]
  },
  {
   "cell_type": "code",
   "execution_count": 587,
   "metadata": {},
   "outputs": [
    {
     "name": "stdin",
     "output_type": "stream",
     "text": [
      "Ingrese su número de carnet: 19002324\n"
     ]
    },
    {
     "data": {
      "text/plain": [
       "'Carnet valido.'"
      ]
     },
     "execution_count": 587,
     "metadata": {},
     "output_type": "execute_result"
    }
   ],
   "source": [
    "carnet()"
   ]
  },
  {
   "cell_type": "code",
   "execution_count": 585,
   "metadata": {},
   "outputs": [
    {
     "name": "stdin",
     "output_type": "stream",
     "text": [
      "Ingrese su número de carnet: 00002324\n"
     ]
    },
    {
     "data": {
      "text/plain": [
       "'Carnet invalido.'"
      ]
     },
     "execution_count": 585,
     "metadata": {},
     "output_type": "execute_result"
    }
   ],
   "source": [
    "carnet()"
   ]
  },
  {
   "cell_type": "markdown",
   "metadata": {},
   "source": [
    "## **Inciso 5**"
   ]
  },
  {
   "cell_type": "code",
   "execution_count": 156,
   "metadata": {},
   "outputs": [],
   "source": [
    "def lineas_palabras(multiline_string):\n",
    "    pattern_linea = re.compile(\"\\n\")\n",
    "    first_line = pattern_linea.split(multiline_string)[0]\n",
    "    \n",
    "    if ((\",\" in first_line)|(\" \" in first_line)):\n",
    "        pattern_words = re.compile(\"[,| ]\") # ([a-zA-z]+[,| ]|[,| ][a-zA-z]+)\n",
    "        words = pattern_words.split(first_line)\n",
    "        final_words = words\n",
    "        if \"\" in final_words:\n",
    "            final_words = []\n",
    "            for word in words:\n",
    "                if word!=\"\":\n",
    "                    final_words.append(word)\n",
    "        palabras_primera_linea = [word.strip() for word in final_words]\n",
    "    else:\n",
    "        palabras_primera_linea = [first_line]\n",
    "    \n",
    "    print(\"Palabras detectadas:\")\n",
    "    return palabras_primera_linea"
   ]
  },
  {
   "cell_type": "markdown",
   "metadata": {},
   "source": [
    "**Prueba**"
   ]
  },
  {
   "cell_type": "code",
   "execution_count": 157,
   "metadata": {},
   "outputs": [
    {
     "name": "stdout",
     "output_type": "stream",
     "text": [
      "Palabras detectadas:\n"
     ]
    },
    {
     "data": {
      "text/plain": [
       "['pit', 'spot', 'spate', 'slap', 'two', 'respite']"
      ]
     },
     "execution_count": 157,
     "metadata": {},
     "output_type": "execute_result"
    }
   ],
   "source": [
    "char = \"\"\"pit, spot, spate, slap two, respite\n",
    "pt,Pot,peat,part\n",
    "\"\"\"\n",
    "lineas_palabras(char)"
   ]
  },
  {
   "cell_type": "code",
   "execution_count": 158,
   "metadata": {},
   "outputs": [
    {
     "name": "stdout",
     "output_type": "stream",
     "text": [
      "Palabras detectadas:\n"
     ]
    },
    {
     "data": {
      "text/plain": [
       "['spot', 'respite']"
      ]
     },
     "execution_count": 158,
     "metadata": {},
     "output_type": "execute_result"
    }
   ],
   "source": [
    "char = \"spot,respite\"\n",
    "lineas_palabras(char)"
   ]
  },
  {
   "cell_type": "code",
   "execution_count": 160,
   "metadata": {},
   "outputs": [
    {
     "name": "stdout",
     "output_type": "stream",
     "text": [
      "Palabras detectadas:\n"
     ]
    },
    {
     "data": {
      "text/plain": [
       "['spot', 'respite']"
      ]
     },
     "execution_count": 160,
     "metadata": {},
     "output_type": "execute_result"
    }
   ],
   "source": [
    "char = \"spot respite\"\n",
    "lineas_palabras(char)"
   ]
  },
  {
   "cell_type": "code",
   "execution_count": 159,
   "metadata": {},
   "outputs": [
    {
     "name": "stdout",
     "output_type": "stream",
     "text": [
      "Palabras detectadas:\n"
     ]
    },
    {
     "data": {
      "text/plain": [
       "['respite']"
      ]
     },
     "execution_count": 159,
     "metadata": {},
     "output_type": "execute_result"
    }
   ],
   "source": [
    "char = \"respite\"\n",
    "lineas_palabras(char)"
   ]
  },
  {
   "cell_type": "markdown",
   "metadata": {},
   "source": [
    "## **Inciso 6**"
   ]
  },
  {
   "cell_type": "code",
   "execution_count": 309,
   "metadata": {},
   "outputs": [],
   "source": [
    "def telefono_gt():\n",
    "    tel = input(\"Ingrese su telefono:\")\n",
    "    val = \"Telefono invalido.\"\n",
    "    \n",
    "    patron_tel = re.compile(\"^\\+{0,1}(502|502-|502 ){0,1}[4562]{1}\\d{3}[ |-]{0,1}\\d{4}$\")\n",
    "    if patron_tel.match(tel):\n",
    "        val = \"Telefono valido.\"\n",
    "    return val"
   ]
  },
  {
   "cell_type": "markdown",
   "metadata": {},
   "source": [
    "**Prueba**"
   ]
  },
  {
   "cell_type": "code",
   "execution_count": 321,
   "metadata": {},
   "outputs": [
    {
     "name": "stdin",
     "output_type": "stream",
     "text": [
      "Ingrese su telefono: +50254821151\n"
     ]
    },
    {
     "data": {
      "text/plain": [
       "'Telefono valido.'"
      ]
     },
     "execution_count": 321,
     "metadata": {},
     "output_type": "execute_result"
    }
   ],
   "source": [
    "telefono_gt()"
   ]
  },
  {
   "cell_type": "code",
   "execution_count": 322,
   "metadata": {},
   "outputs": [
    {
     "name": "stdin",
     "output_type": "stream",
     "text": [
      "Ingrese su telefono: 4210-7640\n"
     ]
    },
    {
     "data": {
      "text/plain": [
       "'Telefono valido.'"
      ]
     },
     "execution_count": 322,
     "metadata": {},
     "output_type": "execute_result"
    }
   ],
   "source": [
    "telefono_gt()"
   ]
  },
  {
   "cell_type": "code",
   "execution_count": 323,
   "metadata": {},
   "outputs": [
    {
     "name": "stdin",
     "output_type": "stream",
     "text": [
      "Ingrese su telefono: 52018150\n"
     ]
    },
    {
     "data": {
      "text/plain": [
       "'Telefono valido.'"
      ]
     },
     "execution_count": 323,
     "metadata": {},
     "output_type": "execute_result"
    }
   ],
   "source": [
    "telefono_gt()"
   ]
  },
  {
   "cell_type": "code",
   "execution_count": 324,
   "metadata": {},
   "outputs": [
    {
     "name": "stdin",
     "output_type": "stream",
     "text": [
      "Ingrese su telefono: 52018150\n"
     ]
    },
    {
     "data": {
      "text/plain": [
       "'Telefono valido.'"
      ]
     },
     "execution_count": 324,
     "metadata": {},
     "output_type": "execute_result"
    }
   ],
   "source": [
    "telefono_gt()"
   ]
  },
  {
   "cell_type": "code",
   "execution_count": 325,
   "metadata": {},
   "outputs": [
    {
     "name": "stdin",
     "output_type": "stream",
     "text": [
      "Ingrese su telefono: 11234569\n"
     ]
    },
    {
     "data": {
      "text/plain": [
       "'Telefono invalido.'"
      ]
     },
     "execution_count": 325,
     "metadata": {},
     "output_type": "execute_result"
    }
   ],
   "source": [
    "telefono_gt()"
   ]
  },
  {
   "cell_type": "code",
   "execution_count": 326,
   "metadata": {},
   "outputs": [
    {
     "name": "stdin",
     "output_type": "stream",
     "text": [
      "Ingrese su telefono: 50211234578\n"
     ]
    },
    {
     "data": {
      "text/plain": [
       "'Telefono invalido.'"
      ]
     },
     "execution_count": 326,
     "metadata": {},
     "output_type": "execute_result"
    }
   ],
   "source": [
    "telefono_gt()"
   ]
  },
  {
   "cell_type": "markdown",
   "metadata": {},
   "source": [
    "## **Inciso 7**"
   ]
  },
  {
   "cell_type": "markdown",
   "metadata": {},
   "source": [
    "Se asume que la dirección de correo solamente puede llevar \".\" o \"_\" como simbolos."
   ]
  },
  {
   "cell_type": "code",
   "execution_count": 2,
   "metadata": {},
   "outputs": [],
   "source": [
    "def correo_ufm():\n",
    "    correo = input(\"Ingrese su correo:\")\n",
    "    correo = correo.lower()\n",
    "    val = \"Correo invalido.\"\n",
    "    \n",
    "    pattern_ufm = re.compile(\"(\\w|\\w\\.|\\w\\_)+@ufm.edu$\") # (\\w+|\\w+\\.\\w+|\\w+\\_\\w+) + (\\w+|\\w+\\.\\w+|\\w+\\_\\w+)\n",
    "    if pattern_ufm.match(correo):\n",
    "        val = \"Correo valido.\"\n",
    "    return val"
   ]
  },
  {
   "cell_type": "code",
   "execution_count": 669,
   "metadata": {},
   "outputs": [
    {
     "name": "stdin",
     "output_type": "stream",
     "text": [
      "Ingrese su correo: josecer@ufm.edu\n"
     ]
    },
    {
     "data": {
      "text/plain": [
       "'Correo valido.'"
      ]
     },
     "execution_count": 669,
     "metadata": {},
     "output_type": "execute_result"
    }
   ],
   "source": [
    "correo_ufm()"
   ]
  },
  {
   "cell_type": "code",
   "execution_count": 670,
   "metadata": {},
   "outputs": [
    {
     "name": "stdin",
     "output_type": "stream",
     "text": [
      "Ingrese su correo: jo.c_e@ufm.edu\n"
     ]
    },
    {
     "data": {
      "text/plain": [
       "'Correo valido.'"
      ]
     },
     "execution_count": 670,
     "metadata": {},
     "output_type": "execute_result"
    }
   ],
   "source": [
    "correo_ufm()"
   ]
  },
  {
   "cell_type": "code",
   "execution_count": 665,
   "metadata": {},
   "outputs": [
    {
     "name": "stdin",
     "output_type": "stream",
     "text": [
      "Ingrese su correo: j.cer@ufm.edu\n"
     ]
    },
    {
     "data": {
      "text/plain": [
       "'Correo valido.'"
      ]
     },
     "execution_count": 665,
     "metadata": {},
     "output_type": "execute_result"
    }
   ],
   "source": [
    "correo_ufm()"
   ]
  },
  {
   "cell_type": "code",
   "execution_count": 5,
   "metadata": {},
   "outputs": [
    {
     "name": "stdin",
     "output_type": "stream",
     "text": [
      "Ingrese su correo: Progra3.galileo@ufm.edu\n"
     ]
    },
    {
     "data": {
      "text/plain": [
       "'Correo valido.'"
      ]
     },
     "execution_count": 5,
     "metadata": {},
     "output_type": "execute_result"
    }
   ],
   "source": [
    "correo_ufm()"
   ]
  },
  {
   "cell_type": "markdown",
   "metadata": {},
   "source": [
    "## **Inciso 8**"
   ]
  },
  {
   "cell_type": "code",
   "execution_count": 91,
   "metadata": {},
   "outputs": [],
   "source": [
    "def big_brother_id():\n",
    "    identificacion = input(\"Ingrese su número de identificación:\")\n",
    "    \n",
    "    val = \"Número de identificación inválido.\"    \n",
    "    pattern_big_brother = re.compile(\"^[a-z]{0,3}\\d{2,9}[A-Z][A-Z][A-Z]+$\")\n",
    "    if pattern_big_brother.match(identificacion):\n",
    "        val = \"Número de identificación válido.\"\n",
    "    return val"
   ]
  },
  {
   "cell_type": "markdown",
   "metadata": {},
   "source": [
    "**Pruebas**"
   ]
  },
  {
   "cell_type": "code",
   "execution_count": 98,
   "metadata": {},
   "outputs": [
    {
     "name": "stdin",
     "output_type": "stream",
     "text": [
      "Ingrese su número de identificación: abc012333ABC\n"
     ]
    },
    {
     "data": {
      "text/plain": [
       "'Número de identificación válido.'"
      ]
     },
     "execution_count": 98,
     "metadata": {},
     "output_type": "execute_result"
    }
   ],
   "source": [
    "big_brother_id()"
   ]
  }
 ],
 "metadata": {
  "kernelspec": {
   "display_name": "Python 3",
   "language": "python",
   "name": "python3"
  },
  "language_info": {
   "codemirror_mode": {
    "name": "ipython",
    "version": 3
   },
   "file_extension": ".py",
   "mimetype": "text/x-python",
   "name": "python",
   "nbconvert_exporter": "python",
   "pygments_lexer": "ipython3",
   "version": "3.8.1"
  }
 },
 "nbformat": 4,
 "nbformat_minor": 4
}
