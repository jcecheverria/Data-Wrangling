{
 "cells": [
  {
   "cell_type": "code",
   "execution_count": 202,
   "metadata": {},
   "outputs": [],
   "source": [
    "import numpy as np\n",
    "import pandas as pd\n",
    "import matplotlib.pyplot as plt\n",
    "import seaborn as sns\n",
    "from pandasql import sqldf\n",
    "from sklearn.linear_model import LinearRegression\n",
    "\n",
    "pysqldf = lambda q: sqldf(q, globals())\n",
    "%matplotlib inline\n",
    "\n",
    "import warnings\n",
    "from pandas.core.common import SettingWithCopyWarning\n",
    "warnings.simplefilter(action=\"ignore\", category=SettingWithCopyWarning)\n",
    "\n",
    "pd.set_option('display.float_format', lambda x: '%.5f' % x) # pandas\n",
    "np.set_printoptions(suppress=True) # numpy"
   ]
  },
  {
   "cell_type": "markdown",
   "metadata": {},
   "source": [
    "# **Data**"
   ]
  },
  {
   "cell_type": "code",
   "execution_count": 2,
   "metadata": {},
   "outputs": [
    {
     "name": "stdout",
     "output_type": "stream",
     "text": [
      "(183, 12)\n"
     ]
    }
   ],
   "source": [
    "titanic = pd.read_csv(\"titanic_MD.csv\")\n",
    "titanic_complete = pd.read_csv(\"titanic.csv\")\n",
    "\n",
    "print(titanic.shape)"
   ]
  },
  {
   "cell_type": "code",
   "execution_count": 3,
   "metadata": {},
   "outputs": [
    {
     "name": "stdout",
     "output_type": "stream",
     "text": [
      "<class 'pandas.core.frame.DataFrame'>\n",
      "RangeIndex: 183 entries, 0 to 182\n",
      "Data columns (total 12 columns):\n",
      " #   Column       Non-Null Count  Dtype  \n",
      "---  ------       --------------  -----  \n",
      " 0   passengerid  183 non-null    int64  \n",
      " 1   survived     183 non-null    int64  \n",
      " 2   pclass       183 non-null    int64  \n",
      " 3   name         183 non-null    object \n",
      " 4   sex          183 non-null    object \n",
      " 5   age          158 non-null    float64\n",
      " 6   sibsp        180 non-null    float64\n",
      " 7   parch        171 non-null    float64\n",
      " 8   ticket       183 non-null    object \n",
      " 9   fare         175 non-null    float64\n",
      " 10  cabin        183 non-null    object \n",
      " 11  embarked     171 non-null    object \n",
      "dtypes: float64(4), int64(3), object(5)\n",
      "memory usage: 17.3+ KB\n"
     ]
    }
   ],
   "source": [
    "# Columnas a lowercase\n",
    "titanic.columns = [col.lower() for col in titanic.columns]\n",
    "titanic_complete.columns = [col.lower() for col in titanic_complete.columns]\n",
    "\n",
    "titanic.info()"
   ]
  },
  {
   "cell_type": "markdown",
   "metadata": {},
   "source": [
    "# **Funciones**"
   ]
  },
  {
   "cell_type": "code",
   "execution_count": 4,
   "metadata": {},
   "outputs": [],
   "source": [
    "# DROPPING NULL VALUES    \n",
    "def pairwise(df,col_1,col_2):\n",
    "    df_dropped = df[(df[col_1].notnull())&(df[col_2].notnull())].reset_index(drop=True)\n",
    "    return df_dropped\n",
    "\n",
    "### IMPUTATION OF NULL VALUES\n",
    "def simple_imputation(df,col,numerical):\n",
    "    df_imputted = df[[col]]\n",
    "    if numerical:\n",
    "        # Mean\n",
    "        df_mean = df[col].mean()\n",
    "        df_imputted[col+\"_mean_imputted\"] = np.where(df[col].isnull(),df_mean,df[col])\n",
    "        \n",
    "        # Median\n",
    "        df_median = df[col].describe()[6]\n",
    "        df_imputted[col+\"_median_imputted\"] = np.where(df[col].isnull(),df_median,df[col])\n",
    "        \n",
    "        # Mode\n",
    "        df_mode = df[col].value_counts().index[0]\n",
    "        df_imputted[col+\"_mode_imputted\"] = np.where(df[col].isnull(),df_mode,df[col])\n",
    "    else:\n",
    "        # Mode\n",
    "        df_mode = df[col].value_counts().index[0]\n",
    "        df_imputted[col+\"_mode_imputted\"] = np.where(df[col].isnull(),df_mode,df[col])\n",
    "    return df_imputted\n",
    "\n",
    "def sectorized_imputation(df,sectors,col,numerical):\n",
    "    df_imputted = df[sectors+[col]]\n",
    "    if numerical:\n",
    "        # Mean\n",
    "        new_col = col + \"_sectorized_mean\"\n",
    "        df_sectors_mean = df.dropna().groupby(sectors,as_index=False)[col].mean().rename(columns={col:new_col})\n",
    "        df_imputted = df_imputted.merge(df_sectors_mean,on=sectors,how=\"left\")\n",
    "        df_imputted.loc[df_imputted[col].notnull(),new_col] = df_imputted[col]\n",
    "        \n",
    "        # Median\n",
    "        new_col = col + \"_sectorized_median\"\n",
    "        df_sectors_median = df.dropna().groupby(sectors,as_index=False)[col].agg(lambda x: x.describe()[6]).rename(columns={col:new_col})\n",
    "        df_imputted = df_imputted.merge(df_sectors_median,on=sectors,how=\"left\")\n",
    "        df_imputted.loc[df_imputted[col].notnull(),new_col] = df_imputted[col]\n",
    "        \n",
    "        # Mode\n",
    "        new_col = col + \"_sectorized_mode\"\n",
    "        df_sectors_mode = df.dropna().groupby(sectors,as_index=False)[col].agg(lambda x:x.value_counts().index[0]).rename(columns={col:new_col})\n",
    "        df_imputted = df_imputted.merge(df_sectors_mode,on=sectors,how=\"left\")\n",
    "        df_imputted.loc[df_imputted[col].notnull(),new_col] = df_imputted[col]\n",
    "    else:\n",
    "        # Mode\n",
    "        new_col = col + \"_sectorized_mode\"\n",
    "        df_sectors_mode = df.dropna().groupby(sectors,as_index=False)[col].agg(lambda x:x.value_counts().index[0]).rename(columns={col:new_col})\n",
    "        df_imputted = df_imputted.merge(df_sectors_mode,on=sectors,how=\"left\")\n",
    "        df_imputted.loc[df_imputted[col].notnull(),new_col] = df_imputted[col]\n",
    "    \n",
    "    return df_imputted   \n",
    "\n",
    "def lm_imputation(df,x,col):\n",
    "    df_imputted = df.dropna(subset=[x])[[x,col]]\n",
    "    \n",
    "    lm = LinearRegression()\n",
    "    df_model = df.dropna(subset=[x,col])\n",
    "    lm = lm.fit(df_model[[x]], df_model[col])\n",
    "    \n",
    "    df_imputted[col+\"_lm_imputation\"] = lm.predict(df_imputted[[x]])\n",
    "    df_imputted.loc[df_imputted[col].notnull(),col+\"_lm_imputation\"] = df_imputted[col]\n",
    "    \n",
    "    return df_imputted\n",
    "\n",
    "### OUTLIERS\n",
    "def outliers(df,col,z=2,low_perc = 5.0,upp_perc=95.0):\n",
    "    upper_std = df[col].mean() + z*df[col].std()\n",
    "    lower_std = df[col].mean() - z*df[col].std()\n",
    "\n",
    "    upper_perc = np.nanpercentile(df[col],upp_perc)\n",
    "    lower_perc = np.nanpercentile(df[col],low_perc)\n",
    "    df_std = df[(df[col]>=lower_std) & (df[col]<=upper_std)][[col]].reset_index(drop=True)\n",
    "    df_std.rename(columns={col:col+\"_std_outliers\"},inplace=True)\n",
    "   \n",
    "    df_perc = df[(df[col]>=lower_perc) & (df[col]<=upper_perc)][[col]].reset_index(drop=True)\n",
    "    df_perc.rename(columns={col:col+\"_perc_outliers\"},inplace=True)\n",
    "    \n",
    "    return (df_std,df_perc)\n",
    "\n",
    "### NORMALIZATION\n",
    "def minmax(df,col):\n",
    "    min_val = df[col].min()\n",
    "    max_val = df[col].max()\n",
    "    \n",
    "    df_norm = df.copy()\n",
    "    df_norm[col] = (df_norm[col] - min_val)/(max_val - min_val)\n",
    "    \n",
    "    return df_norm[col]\n",
    "\n",
    "def std_scaler(df,col):\n",
    "    mean = df[col].mean()\n",
    "    sigma = df[col].std()\n",
    "    \n",
    "    df_norm = df.copy()\n",
    "    df_norm[col] = (df_norm[col] - mean)/sigma\n",
    "    \n",
    "    return df_norm[col]\n",
    "\n",
    "def maxabs_scaler(df,col):\n",
    "    max_abs = abs(df[col]).max()\n",
    "    \n",
    "    df_norm = df.copy()\n",
    "    df_norm[col] = df_norm[col]/max_abs\n",
    "    \n",
    "    return df_norm[col]"
   ]
  },
  {
   "cell_type": "markdown",
   "metadata": {},
   "source": [
    "# **1era Parte**"
   ]
  },
  {
   "cell_type": "markdown",
   "metadata": {},
   "source": [
    "## **Missing Data**"
   ]
  },
  {
   "cell_type": "code",
   "execution_count": 7,
   "metadata": {},
   "outputs": [
    {
     "data": {
      "text/plain": [
       "passengerid     0\n",
       "survived        0\n",
       "pclass          0\n",
       "name            0\n",
       "sex             0\n",
       "age            25\n",
       "sibsp           3\n",
       "parch          12\n",
       "ticket          0\n",
       "fare            8\n",
       "cabin           0\n",
       "embarked       12\n",
       "dtype: int64"
      ]
     },
     "execution_count": 7,
     "metadata": {},
     "output_type": "execute_result"
    }
   ],
   "source": [
    "titanic.isnull().sum()"
   ]
  },
  {
   "cell_type": "code",
   "execution_count": 8,
   "metadata": {},
   "outputs": [
    {
     "data": {
      "text/plain": [
       "{'sex': '?'}"
      ]
     },
     "execution_count": 8,
     "metadata": {},
     "output_type": "execute_result"
    }
   ],
   "source": [
    "cols_md = {}\n",
    "for col in titanic.select_dtypes(include=\"object\").columns:\n",
    "    unique_vals = list(titanic[col].dropna().unique())\n",
    "    for na_str in [\"?\",\"NaN\",\"nan\",\"\"]:\n",
    "        if na_str in unique_vals:\n",
    "            cols_md[col] = na_str\n",
    "\n",
    "# titanic.sex.isnull().sum() # Output: 0\n",
    "titanic.replace(list(cols_md.values()),np.nan,inplace=True)\n",
    "# titanic.sex.isnull().sum() # Output: 51\n",
    "\n",
    "cols_md"
   ]
  },
  {
   "cell_type": "code",
   "execution_count": 9,
   "metadata": {},
   "outputs": [
    {
     "data": {
      "image/png": "[encoded data removed]",
      "text/plain": [
       "<Figure size 504x360 with 1 Axes>"
      ]
     },
     "metadata": {
      "needs_background": "light"
     },
     "output_type": "display_data"
    }
   ],
   "source": [
    "plt.figure(figsize=(7,5))\n",
    "plt.title(\"Visualizacion de Missing Values\")\n",
    "sns.heatmap(titanic.isnull(),cbar=False)\n",
    "plt.show()"
   ]
  },
  {
   "cell_type": "code",
   "execution_count": 11,
   "metadata": {},
   "outputs": [
    {
     "name": "stdout",
     "output_type": "stream",
     "text": [
      "Columnas Completas: 6\n",
      "Columnas Incompletas: 6 \n",
      "\n",
      "% de Missing Values por Columna\n"
     ]
    },
    {
     "data": {
      "text/plain": [
       "passengerid     0.0\n",
       "survived        0.0\n",
       "pclass          0.0\n",
       "name            0.0\n",
       "sex            27.9\n",
       "age            13.7\n",
       "sibsp           1.6\n",
       "parch           6.6\n",
       "ticket          0.0\n",
       "fare            4.4\n",
       "cabin           0.0\n",
       "embarked        6.6\n",
       "dtype: float64"
      ]
     },
     "execution_count": 11,
     "metadata": {},
     "output_type": "execute_result"
    }
   ],
   "source": [
    "# Faltantes en % para cada columna\n",
    "df_md_perc = round(titanic.isnull().sum()/titanic.shape[0]*100,1)\n",
    "print(\"Columnas Completas:\",df_md_perc[df_md_perc==0].shape[0])\n",
    "print(\"Columnas Incompletas:\",df_md_perc[df_md_perc!=0].shape[0],\"\\n\")\n",
    "print(\"% de Missing Values por Columna\")\n",
    "df_md_perc"
   ]
  },
  {
   "cell_type": "markdown",
   "metadata": {},
   "source": [
    "## **Descripcion Imputacion**"
   ]
  },
  {
   "cell_type": "markdown",
   "metadata": {},
   "source": [
    "**sex**"
   ]
  },
  {
   "cell_type": "code",
   "execution_count": 12,
   "metadata": {},
   "outputs": [
    {
     "data": {
      "text/plain": [
       "51"
      ]
     },
     "execution_count": 12,
     "metadata": {},
     "output_type": "execute_result"
    }
   ],
   "source": [
    "titanic.sex.isnull().sum()"
   ]
  },
  {
   "cell_type": "code",
   "execution_count": 13,
   "metadata": {},
   "outputs": [
    {
     "data": {
      "text/plain": [
       "array([nan, 'female', 'male'], dtype=object)"
      ]
     },
     "execution_count": 13,
     "metadata": {},
     "output_type": "execute_result"
    }
   ],
   "source": [
    "titanic.sex.unique()"
   ]
  },
  {
   "cell_type": "code",
   "execution_count": 14,
   "metadata": {},
   "outputs": [
    {
     "data": {
      "text/plain": [
       "male      68\n",
       "female    64\n",
       "Name: sex, dtype: int64"
      ]
     },
     "execution_count": 14,
     "metadata": {},
     "output_type": "execute_result"
    }
   ],
   "source": [
    "titanic.sex.value_counts()"
   ]
  },
  {
   "cell_type": "code",
   "execution_count": 15,
   "metadata": {},
   "outputs": [
    {
     "data": {
      "image/png": "[encoded data removed]",
      "text/plain": [
       "<Figure size 432x288 with 1 Axes>"
      ]
     },
     "metadata": {
      "needs_background": "light"
     },
     "output_type": "display_data"
    }
   ],
   "source": [
    "sns.countplot(titanic.sex)\n",
    "plt.show()"
   ]
  },
  {
   "cell_type": "markdown",
   "metadata": {},
   "source": [
    "Esta es la variable con mayor numero de missing values (casi un 30%) por esta razón imputarla de forma simple sesgaria demasiado mi data. En cambio ya a que esta variable puede depender de otros factores creo que la forma que elegiré para imputarla sera sectorized imputation. Adicionalmente, esta era la unica variable que tenia missing values pero como un string '?'. "
   ]
  },
  {
   "cell_type": "markdown",
   "metadata": {},
   "source": [
    "**age**"
   ]
  },
  {
   "cell_type": "code",
   "execution_count": 16,
   "metadata": {},
   "outputs": [
    {
     "data": {
      "text/plain": [
       "25"
      ]
     },
     "execution_count": 16,
     "metadata": {},
     "output_type": "execute_result"
    }
   ],
   "source": [
    "titanic.age.isnull().sum()"
   ]
  },
  {
   "cell_type": "code",
   "execution_count": 17,
   "metadata": {},
   "outputs": [
    {
     "data": {
      "text/plain": [
       "58"
      ]
     },
     "execution_count": 17,
     "metadata": {},
     "output_type": "execute_result"
    }
   ],
   "source": [
    "titanic.age.nunique()"
   ]
  },
  {
   "cell_type": "code",
   "execution_count": 18,
   "metadata": {},
   "outputs": [
    {
     "data": {
      "image/png": "[encoded data removed]",
      "text/plain": [
       "<Figure size 432x288 with 1 Axes>"
      ]
     },
     "metadata": {
      "needs_background": "light"
     },
     "output_type": "display_data"
    }
   ],
   "source": [
    "titanic.age.hist(grid=False,bins=20)\n",
    "plt.show()"
   ]
  },
  {
   "cell_type": "markdown",
   "metadata": {},
   "source": [
    "Es la segunda variable con más missing values (casi un 15%). La distribución parece tener una naturaleza acampanada por lo que eligire la media como metodo de imputación."
   ]
  },
  {
   "cell_type": "markdown",
   "metadata": {},
   "source": [
    "**sibsp**"
   ]
  },
  {
   "cell_type": "code",
   "execution_count": 19,
   "metadata": {},
   "outputs": [
    {
     "data": {
      "text/plain": [
       "3"
      ]
     },
     "execution_count": 19,
     "metadata": {},
     "output_type": "execute_result"
    }
   ],
   "source": [
    "titanic.sibsp.isnull().sum()"
   ]
  },
  {
   "cell_type": "code",
   "execution_count": 20,
   "metadata": {},
   "outputs": [
    {
     "data": {
      "text/plain": [
       "array([ 1.,  0., nan,  3.,  2.])"
      ]
     },
     "execution_count": 20,
     "metadata": {},
     "output_type": "execute_result"
    }
   ],
   "source": [
    "titanic.sibsp.unique()"
   ]
  },
  {
   "cell_type": "code",
   "execution_count": 21,
   "metadata": {},
   "outputs": [
    {
     "data": {
      "text/plain": [
       "dtype('float64')"
      ]
     },
     "execution_count": 21,
     "metadata": {},
     "output_type": "execute_result"
    }
   ],
   "source": [
    "titanic.sibsp.dtype"
   ]
  },
  {
   "cell_type": "code",
   "execution_count": 22,
   "metadata": {},
   "outputs": [
    {
     "data": {
      "text/plain": [
       "0.0    109\n",
       "1.0     62\n",
       "2.0      6\n",
       "3.0      3\n",
       "Name: sibsp, dtype: int64"
      ]
     },
     "execution_count": 22,
     "metadata": {},
     "output_type": "execute_result"
    }
   ],
   "source": [
    "titanic.sibsp.value_counts()"
   ]
  },
  {
   "cell_type": "code",
   "execution_count": 23,
   "metadata": {},
   "outputs": [
    {
     "data": {
      "image/png": "[encoded data removed]",
      "text/plain": [
       "<Figure size 432x288 with 1 Axes>"
      ]
     },
     "metadata": {
      "needs_background": "light"
     },
     "output_type": "display_data"
    }
   ],
   "source": [
    "sns.countplot(titanic.sibsp)\n",
    "plt.show()"
   ]
  },
  {
   "cell_type": "markdown",
   "metadata": {},
   "source": [
    "No sé qué significa esta variable pero es categorica, puedo ver que hay un clase en especifico que es la más frecuente. Debido a que solo el 2% de mi información no tiene este valor voy a imputar esos datos con la moda.  Ademas, esta es una variable categorica pero con dtype float. La cabmiamos a *object*"
   ]
  },
  {
   "cell_type": "code",
   "execution_count": 24,
   "metadata": {},
   "outputs": [],
   "source": [
    "titanic[\"sibsp\"] = titanic[\"sibsp\"].astype(\"object\")"
   ]
  },
  {
   "cell_type": "markdown",
   "metadata": {},
   "source": [
    "**parch**"
   ]
  },
  {
   "cell_type": "code",
   "execution_count": 25,
   "metadata": {},
   "outputs": [
    {
     "data": {
      "text/plain": [
       "12"
      ]
     },
     "execution_count": 25,
     "metadata": {},
     "output_type": "execute_result"
    }
   ],
   "source": [
    "titanic.parch.isnull().sum()"
   ]
  },
  {
   "cell_type": "code",
   "execution_count": 26,
   "metadata": {},
   "outputs": [
    {
     "data": {
      "text/plain": [
       "array([ 0., nan,  2.,  1.,  4.])"
      ]
     },
     "execution_count": 26,
     "metadata": {},
     "output_type": "execute_result"
    }
   ],
   "source": [
    "titanic.parch.unique()"
   ]
  },
  {
   "cell_type": "code",
   "execution_count": 27,
   "metadata": {},
   "outputs": [
    {
     "data": {
      "text/plain": [
       "dtype('float64')"
      ]
     },
     "execution_count": 27,
     "metadata": {},
     "output_type": "execute_result"
    }
   ],
   "source": [
    "titanic.parch.dtype"
   ]
  },
  {
   "cell_type": "code",
   "execution_count": 28,
   "metadata": {},
   "outputs": [
    {
     "data": {
      "text/plain": [
       "0.0    116\n",
       "1.0     33\n",
       "2.0     21\n",
       "4.0      1\n",
       "Name: parch, dtype: int64"
      ]
     },
     "execution_count": 28,
     "metadata": {},
     "output_type": "execute_result"
    }
   ],
   "source": [
    "titanic.parch.value_counts()"
   ]
  },
  {
   "cell_type": "code",
   "execution_count": 29,
   "metadata": {},
   "outputs": [
    {
     "data": {
      "image/png": "[encoded data removed]",
      "text/plain": [
       "<Figure size 432x288 with 1 Axes>"
      ]
     },
     "metadata": {
      "needs_background": "light"
     },
     "output_type": "display_data"
    }
   ],
   "source": [
    "sns.countplot(titanic.parch)\n",
    "plt.show()"
   ]
  },
  {
   "cell_type": "markdown",
   "metadata": {},
   "source": [
    "Al igual que la variable *sibsp* esta variable es categorica pero con dtype float. La cabmiamos a *object*. Aca unevamente vemos que una clase predomina pero es más evidente que en la variable pasada. A pesar que mis valores faltantes son mayores aca (~6%) vamos a seguir la misma técnica que la variable pasada, imputar con la moda ya que se trata de una variable categorica."
   ]
  },
  {
   "cell_type": "code",
   "execution_count": 30,
   "metadata": {},
   "outputs": [],
   "source": [
    "titanic[\"parch\"] = titanic[\"parch\"].astype(\"object\")"
   ]
  },
  {
   "cell_type": "markdown",
   "metadata": {},
   "source": [
    "**fare**"
   ]
  },
  {
   "cell_type": "code",
   "execution_count": 31,
   "metadata": {},
   "outputs": [
    {
     "data": {
      "text/plain": [
       "8"
      ]
     },
     "execution_count": 31,
     "metadata": {},
     "output_type": "execute_result"
    }
   ],
   "source": [
    "titanic.fare.isnull().sum()"
   ]
  },
  {
   "cell_type": "code",
   "execution_count": 32,
   "metadata": {},
   "outputs": [
    {
     "data": {
      "image/png": "[encoded data removed]",
      "text/plain": [
       "<Figure size 432x288 with 1 Axes>"
      ]
     },
     "metadata": {
      "needs_background": "light"
     },
     "output_type": "display_data"
    }
   ],
   "source": [
    "titanic.fare.hist(grid=False,bins=20)\n",
    "plt.show()"
   ]
  },
  {
   "cell_type": "markdown",
   "metadata": {},
   "source": [
    "A esta columna le hace falta el 4% de los datos. Puedo apreciar que es ua variable númerica pero a diferencia de mi otra columna númerica con missing values esta no exhibe un distribución acampanada. En su lugar, parece seguir una distribución exponencial por lo que voy a imputar esta variable con la mediana."
   ]
  },
  {
   "cell_type": "markdown",
   "metadata": {},
   "source": [
    "**embarked**"
   ]
  },
  {
   "cell_type": "code",
   "execution_count": 33,
   "metadata": {},
   "outputs": [
    {
     "data": {
      "text/plain": [
       "12"
      ]
     },
     "execution_count": 33,
     "metadata": {},
     "output_type": "execute_result"
    }
   ],
   "source": [
    "titanic.embarked.isnull().sum()"
   ]
  },
  {
   "cell_type": "code",
   "execution_count": 34,
   "metadata": {},
   "outputs": [
    {
     "data": {
      "text/plain": [
       "array(['C', 'S', nan, 'Q'], dtype=object)"
      ]
     },
     "execution_count": 34,
     "metadata": {},
     "output_type": "execute_result"
    }
   ],
   "source": [
    "titanic.embarked.unique()"
   ]
  },
  {
   "cell_type": "code",
   "execution_count": 35,
   "metadata": {},
   "outputs": [
    {
     "data": {
      "text/plain": [
       "S    110\n",
       "C     59\n",
       "Q      2\n",
       "Name: embarked, dtype: int64"
      ]
     },
     "execution_count": 35,
     "metadata": {},
     "output_type": "execute_result"
    }
   ],
   "source": [
    "titanic.embarked.value_counts()"
   ]
  },
  {
   "cell_type": "code",
   "execution_count": 36,
   "metadata": {},
   "outputs": [
    {
     "data": {
      "image/png": "[encoded data removed]",
      "text/plain": [
       "<Figure size 432x288 with 1 Axes>"
      ]
     },
     "metadata": {
      "needs_background": "light"
     },
     "output_type": "display_data"
    }
   ],
   "source": [
    "sns.countplot(titanic.embarked)\n",
    "plt.show()"
   ]
  },
  {
   "cell_type": "markdown",
   "metadata": {},
   "source": [
    "Esta es una variable categorica en donde la clase *S* predomina. Como se trata del 6% de mi data imputaré con la moda, es decir con *S*."
   ]
  },
  {
   "cell_type": "markdown",
   "metadata": {},
   "source": [
    "## **Descripcion Columnas Completas**"
   ]
  },
  {
   "cell_type": "code",
   "execution_count": 208,
   "metadata": {},
   "outputs": [
    {
     "data": {
      "text/plain": [
       "Index(['passengerid', 'survived', 'pclass', 'name', 'sex', 'age', 'sibsp',\n",
       "       'parch', 'ticket', 'fare', 'cabin', 'embarked'],\n",
       "      dtype='object')"
      ]
     },
     "execution_count": 208,
     "metadata": {},
     "output_type": "execute_result"
    }
   ],
   "source": [
    "titanic.columns"
   ]
  },
  {
   "cell_type": "markdown",
   "metadata": {},
   "source": [
    "**passengerid**"
   ]
  },
  {
   "cell_type": "code",
   "execution_count": 209,
   "metadata": {},
   "outputs": [
    {
     "data": {
      "text/plain": [
       "183"
      ]
     },
     "execution_count": 209,
     "metadata": {},
     "output_type": "execute_result"
    }
   ],
   "source": [
    "titanic.passengerid.nunique()"
   ]
  },
  {
   "cell_type": "markdown",
   "metadata": {},
   "source": [
    "ID unico para cada observacion"
   ]
  },
  {
   "cell_type": "markdown",
   "metadata": {},
   "source": [
    "**survived**"
   ]
  },
  {
   "cell_type": "code",
   "execution_count": 214,
   "metadata": {},
   "outputs": [
    {
     "data": {
      "text/plain": [
       "array([1, 0], dtype=int64)"
      ]
     },
     "execution_count": 214,
     "metadata": {},
     "output_type": "execute_result"
    }
   ],
   "source": [
    "titanic.survived.unique()"
   ]
  },
  {
   "cell_type": "code",
   "execution_count": 215,
   "metadata": {},
   "outputs": [
    {
     "data": {
      "text/plain": [
       "<matplotlib.axes._subplots.AxesSubplot at 0x1e477a1c910>"
      ]
     },
     "execution_count": 215,
     "metadata": {},
     "output_type": "execute_result"
    },
    {
     "data": {
      "image/png": "[encoded data removed]",
      "text/plain": [
       "<Figure size 432x288 with 1 Axes>"
      ]
     },
     "metadata": {
      "needs_background": "light"
     },
     "output_type": "display_data"
    }
   ],
   "source": [
    "sns.countplot(titanic.survived)"
   ]
  },
  {
   "cell_type": "markdown",
   "metadata": {},
   "source": [
    "Variable que parece decirnos quienes sobrevivieron y quienes no lo hicieron. Es categorica."
   ]
  },
  {
   "cell_type": "markdown",
   "metadata": {},
   "source": [
    "**pclass**"
   ]
  },
  {
   "cell_type": "code",
   "execution_count": 218,
   "metadata": {},
   "outputs": [
    {
     "data": {
      "text/plain": [
       "array([1, 3, 2], dtype=int64)"
      ]
     },
     "execution_count": 218,
     "metadata": {},
     "output_type": "execute_result"
    }
   ],
   "source": [
    "titanic.pclass.unique()"
   ]
  },
  {
   "cell_type": "code",
   "execution_count": 219,
   "metadata": {},
   "outputs": [
    {
     "data": {
      "text/plain": [
       "<matplotlib.axes._subplots.AxesSubplot at 0x1e477943fa0>"
      ]
     },
     "execution_count": 219,
     "metadata": {},
     "output_type": "execute_result"
    },
    {
     "data": {
      "image/png": "[encoded data removed]",
      "text/plain": [
       "<Figure size 432x288 with 1 Axes>"
      ]
     },
     "metadata": {
      "needs_background": "light"
     },
     "output_type": "display_data"
    }
   ],
   "source": [
    "sns.countplot(titanic.pclass)"
   ]
  },
  {
   "cell_type": "markdown",
   "metadata": {},
   "source": [
    "Variable categorica que describe la clase en el barco para cada pasajero."
   ]
  },
  {
   "cell_type": "markdown",
   "metadata": {},
   "source": [
    "**name**"
   ]
  },
  {
   "cell_type": "code",
   "execution_count": 221,
   "metadata": {},
   "outputs": [
    {
     "data": {
      "text/plain": [
       "0      Cumings, Mrs. John Bradley (Florence Briggs Th...\n",
       "1           Futrelle, Mrs. Jacques Heath (Lily May Peel)\n",
       "2                                McCarthy, Mr. Timothy J\n",
       "3                        Sandstrom, Miss. Marguerite Rut\n",
       "4                               Bonnell, Miss. Elizabeth\n",
       "                             ...                        \n",
       "178     Beckwith, Mrs. Richard Leonard (Sallie Monypeny)\n",
       "179                             Carlsson, Mr. Frans Olof\n",
       "180        Potter, Mrs. Thomas Jr (Lily Alexenia Wilson)\n",
       "181                         Graham, Miss. Margaret Edith\n",
       "182                                Behr, Mr. Karl Howell\n",
       "Name: name, Length: 183, dtype: object"
      ]
     },
     "execution_count": 221,
     "metadata": {},
     "output_type": "execute_result"
    }
   ],
   "source": [
    "titanic.name"
   ]
  },
  {
   "cell_type": "code",
   "execution_count": 222,
   "metadata": {},
   "outputs": [
    {
     "data": {
      "text/plain": [
       "183"
      ]
     },
     "execution_count": 222,
     "metadata": {},
     "output_type": "execute_result"
    }
   ],
   "source": [
    "titanic.name.nunique()"
   ]
  },
  {
   "cell_type": "markdown",
   "metadata": {},
   "source": [
    "Nombre para cada uno de mis pasajeros. Es una variable tipo *string*. No hay nadie con nombre repetido."
   ]
  },
  {
   "cell_type": "markdown",
   "metadata": {},
   "source": [
    "**cabin**"
   ]
  },
  {
   "cell_type": "code",
   "execution_count": 224,
   "metadata": {},
   "outputs": [
    {
     "data": {
      "text/plain": [
       "133"
      ]
     },
     "execution_count": 224,
     "metadata": {},
     "output_type": "execute_result"
    }
   ],
   "source": [
    "titanic.cabin.nunique()"
   ]
  },
  {
   "cell_type": "code",
   "execution_count": 226,
   "metadata": {},
   "outputs": [
    {
     "data": {
      "text/plain": [
       "0     C85\n",
       "1    C123\n",
       "2     E46\n",
       "3      G6\n",
       "4    C103\n",
       "Name: cabin, dtype: object"
      ]
     },
     "execution_count": 226,
     "metadata": {},
     "output_type": "execute_result"
    }
   ],
   "source": [
    "titanic.cabin.head()"
   ]
  },
  {
   "cell_type": "markdown",
   "metadata": {},
   "source": [
    "Codigo de la cabina, asumo que en esta caso es la habitacion. No es unico, lo que hace sentido porque algunas personas puede que compartieran habitacion."
   ]
  },
  {
   "cell_type": "markdown",
   "metadata": {},
   "source": [
    "**ticket**"
   ]
  },
  {
   "cell_type": "code",
   "execution_count": 228,
   "metadata": {},
   "outputs": [
    {
     "data": {
      "text/plain": [
       "127"
      ]
     },
     "execution_count": 228,
     "metadata": {},
     "output_type": "execute_result"
    }
   ],
   "source": [
    "titanic.ticket.nunique()"
   ]
  },
  {
   "cell_type": "code",
   "execution_count": 230,
   "metadata": {},
   "outputs": [
    {
     "data": {
      "text/plain": [
       "0    PC 17599\n",
       "1      113803\n",
       "2       17463\n",
       "3     PP 9549\n",
       "4      113783\n",
       "Name: ticket, dtype: object"
      ]
     },
     "execution_count": 230,
     "metadata": {},
     "output_type": "execute_result"
    }
   ],
   "source": [
    "titanic.ticket.head()"
   ]
  },
  {
   "cell_type": "markdown",
   "metadata": {},
   "source": [
    "El codigo del ticket para los pasajeros, interesantemente tengo tickets repetidos lo que me hace pensar que probablemente algunos tickets podian usarse para más personas. Posiblemente familias."
   ]
  },
  {
   "cell_type": "markdown",
   "metadata": {},
   "source": [
    "## Aplicando Metodos"
   ]
  },
  {
   "cell_type": "code",
   "execution_count": 37,
   "metadata": {},
   "outputs": [],
   "source": [
    "# Diccionario con Parametros de Columnas x Imputar\n",
    "md_columns = {\n",
    "                \"sex\":{\"pair\":\"age\"},\n",
    "                \"age\":{\"pair\":\"sex\",\"lm\":\"fare\"},\n",
    "                \"sibsp\":{\"pair\":\"parch\"},\n",
    "                \"parch\":{\"pair\":\"sibsp\"},\n",
    "                \"fare\":{\"pair\":\"embarked\",\"lm\":\"age\"},\n",
    "                \"embarked\":{\"pair\":\"fare\"},\n",
    "            }"
   ]
  },
  {
   "cell_type": "code",
   "execution_count": 171,
   "metadata": {},
   "outputs": [],
   "source": [
    "results = {}\n",
    "sectors = [\"pclass\",\"survived\"] # Variables a usar en imputacion sectorizada\n",
    "# Metodos para cada columna\n",
    "for md_col in md_columns.keys():\n",
    "    results[md_col] = {}\n",
    "    numerical = False if titanic[md_col].dtype == \"O\" else True\n",
    "    pair = md_columns[md_col][\"pair\"]\n",
    "    results[md_col][\"pairwise\"] = pairwise(titanic,md_col,pair)\n",
    "    results[md_col][\"simple\"] = simple_imputation(titanic,md_col,numerical)\n",
    "    results[md_col][\"sectorized\"] = sectorized_imputation(titanic,sectors,md_col,numerical)\n",
    "    if numerical:\n",
    "        x_var = md_columns[md_col][\"lm\"]\n",
    "        results[md_col][\"lm\"] = lm_imputation(titanic,x_var,md_col)\n",
    "        results[md_col][\"outliers\"] = outliers(titanic,md_col)"
   ]
  },
  {
   "cell_type": "markdown",
   "metadata": {},
   "source": [
    "## **Comparacion Imputaciones**"
   ]
  },
  {
   "cell_type": "markdown",
   "metadata": {
    "collapsed": "true"
   },
   "source": [
    "## **Pairwise:**"
   ]
  },
  {
   "cell_type": "code",
   "execution_count": 62,
   "metadata": {},
   "outputs": [],
   "source": [
    "metodo = \"pairwise\""
   ]
  },
  {
   "cell_type": "markdown",
   "metadata": {},
   "source": [
    "### Age"
   ]
  },
  {
   "cell_type": "code",
   "execution_count": 63,
   "metadata": {},
   "outputs": [],
   "source": [
    "variable = \"age\""
   ]
  },
  {
   "cell_type": "code",
   "execution_count": 68,
   "metadata": {},
   "outputs": [
    {
     "name": "stdout",
     "output_type": "stream",
     "text": [
      "count    183.000000\n",
      "mean      35.674426\n",
      "std       15.643866\n",
      "min        0.920000\n",
      "25%       24.000000\n",
      "50%       36.000000\n",
      "75%       47.500000\n",
      "max       80.000000\n",
      "Name: age, dtype: float64 \n",
      "\n"
     ]
    },
    {
     "data": {
      "image/png": "[encoded data removed]",
      "text/plain": [
       "<Figure size 432x288 with 1 Axes>"
      ]
     },
     "metadata": {
      "needs_background": "light"
     },
     "output_type": "display_data"
    }
   ],
   "source": [
    "print(titanic_complete[variable].describe(),\"\\n\")\n",
    "titanic_complete[variable].hist(grid=False,bins=20)\n",
    "plt.show()"
   ]
  },
  {
   "cell_type": "code",
   "execution_count": 70,
   "metadata": {},
   "outputs": [
    {
     "name": "stdout",
     "output_type": "stream",
     "text": [
      "count    118.000000\n",
      "mean      36.444237\n",
      "std       15.198563\n",
      "min        0.920000\n",
      "25%       25.000000\n",
      "50%       36.000000\n",
      "75%       48.000000\n",
      "max       80.000000\n",
      "Name: age, dtype: float64 \n",
      "\n"
     ]
    },
    {
     "data": {
      "image/png": "[encoded data removed]",
      "text/plain": [
       "<Figure size 432x288 with 1 Axes>"
      ]
     },
     "metadata": {
      "needs_background": "light"
     },
     "output_type": "display_data"
    }
   ],
   "source": [
    "print(results[variable][metodo][variable].describe(),\"\\n\")\n",
    "results[variable][metodo][variable]hist(grid=False,bins=20)\n",
    "plt.show()"
   ]
  },
  {
   "cell_type": "markdown",
   "metadata": {},
   "source": [
    "### Fare"
   ]
  },
  {
   "cell_type": "code",
   "execution_count": 71,
   "metadata": {},
   "outputs": [],
   "source": [
    "variable = \"fare\""
   ]
  },
  {
   "cell_type": "code",
   "execution_count": 73,
   "metadata": {},
   "outputs": [
    {
     "name": "stdout",
     "output_type": "stream",
     "text": [
      "count    183.000000\n",
      "mean      78.682469\n",
      "std       76.347843\n",
      "min        0.000000\n",
      "25%       29.700000\n",
      "50%       57.000000\n",
      "75%       90.000000\n",
      "max      512.329200\n",
      "Name: fare, dtype: float64 \n",
      "\n"
     ]
    },
    {
     "data": {
      "image/png": "[encoded data removed]",
      "text/plain": [
       "<Figure size 432x288 with 1 Axes>"
      ]
     },
     "metadata": {
      "needs_background": "light"
     },
     "output_type": "display_data"
    }
   ],
   "source": [
    "print(titanic_complete[variable].describe(),\"\\n\")\n",
    "titanic_complete[variable].hist(grid=False,bins=20)\n",
    "plt.show()"
   ]
  },
  {
   "cell_type": "code",
   "execution_count": 76,
   "metadata": {},
   "outputs": [
    {
     "name": "stdout",
     "output_type": "stream",
     "text": [
      "count    165.000000\n",
      "mean      79.271238\n",
      "std       78.803324\n",
      "min        0.000000\n",
      "25%       29.700000\n",
      "50%       55.900000\n",
      "75%       90.000000\n",
      "max      512.329200\n",
      "Name: fare, dtype: float64 \n",
      "\n"
     ]
    },
    {
     "data": {
      "image/png": "[encoded data removed]",
      "text/plain": [
       "<Figure size 432x288 with 1 Axes>"
      ]
     },
     "metadata": {
      "needs_background": "light"
     },
     "output_type": "display_data"
    }
   ],
   "source": [
    "print(results[variable][metodo][variable].describe(),\"\\n\")\n",
    "results[variable][metodo][variable].hist(grid=False,bins=20)\n",
    "plt.show()"
   ]
  },
  {
   "cell_type": "markdown",
   "metadata": {},
   "source": [
    "### Sexo"
   ]
  },
  {
   "cell_type": "code",
   "execution_count": 80,
   "metadata": {},
   "outputs": [],
   "source": [
    "variable = \"sex\""
   ]
  },
  {
   "cell_type": "code",
   "execution_count": 81,
   "metadata": {},
   "outputs": [
    {
     "name": "stdout",
     "output_type": "stream",
     "text": [
      "male      95\n",
      "female    88\n",
      "Name: sex, dtype: int64 \n",
      "\n"
     ]
    },
    {
     "data": {
      "image/png": "[encoded data removed]",
      "text/plain": [
       "<Figure size 432x288 with 1 Axes>"
      ]
     },
     "metadata": {
      "needs_background": "light"
     },
     "output_type": "display_data"
    }
   ],
   "source": [
    "print(titanic_complete[variable].value_counts(),\"\\n\")\n",
    "sns.countplot(titanic_complete[variable])\n",
    "plt.show()"
   ]
  },
  {
   "cell_type": "code",
   "execution_count": 82,
   "metadata": {},
   "outputs": [
    {
     "name": "stdout",
     "output_type": "stream",
     "text": [
      "male      63\n",
      "female    55\n",
      "Name: sex, dtype: int64 \n",
      "\n"
     ]
    },
    {
     "data": {
      "image/png": "[encoded data removed]",
      "text/plain": [
       "<Figure size 432x288 with 1 Axes>"
      ]
     },
     "metadata": {
      "needs_background": "light"
     },
     "output_type": "display_data"
    }
   ],
   "source": [
    "print(results[variable][metodo][variable].value_counts(),\"\\n\")\n",
    "sns.countplot(results[variable][metodo][variable])\n",
    "plt.show()"
   ]
  },
  {
   "cell_type": "markdown",
   "metadata": {},
   "source": [
    "### Sibsp"
   ]
  },
  {
   "cell_type": "code",
   "execution_count": 83,
   "metadata": {},
   "outputs": [],
   "source": [
    "variable = \"sibsp\""
   ]
  },
  {
   "cell_type": "code",
   "execution_count": 84,
   "metadata": {},
   "outputs": [
    {
     "name": "stdout",
     "output_type": "stream",
     "text": [
      "0    110\n",
      "1     64\n",
      "2      6\n",
      "3      3\n",
      "Name: sibsp, dtype: int64 \n",
      "\n"
     ]
    },
    {
     "data": {
      "image/png": "[encoded data removed]",
      "text/plain": [
       "<Figure size 432x288 with 1 Axes>"
      ]
     },
     "metadata": {
      "needs_background": "light"
     },
     "output_type": "display_data"
    }
   ],
   "source": [
    "print(titanic_complete[variable].value_counts(),\"\\n\")\n",
    "sns.countplot(titanic_complete[variable])\n",
    "plt.show()"
   ]
  },
  {
   "cell_type": "code",
   "execution_count": 82,
   "metadata": {},
   "outputs": [
    {
     "name": "stdout",
     "output_type": "stream",
     "text": [
      "male      63\n",
      "female    55\n",
      "Name: sex, dtype: int64 \n",
      "\n"
     ]
    },
    {
     "data": {
      "image/png": "[encoded data removed]",
      "text/plain": [
       "<Figure size 432x288 with 1 Axes>"
      ]
     },
     "metadata": {
      "needs_background": "light"
     },
     "output_type": "display_data"
    }
   ],
   "source": [
    "print(results[variable][metodo][variable].value_counts(),\"\\n\")\n",
    "sns.countplot(results[variable][metodo][variable])\n",
    "plt.show()"
   ]
  },
  {
   "cell_type": "markdown",
   "metadata": {},
   "source": [
    "### Parch"
   ]
  },
  {
   "cell_type": "code",
   "execution_count": 86,
   "metadata": {},
   "outputs": [],
   "source": [
    "variable = \"parch\""
   ]
  },
  {
   "cell_type": "code",
   "execution_count": 87,
   "metadata": {},
   "outputs": [
    {
     "name": "stdout",
     "output_type": "stream",
     "text": [
      "0    122\n",
      "1     37\n",
      "2     23\n",
      "4      1\n",
      "Name: parch, dtype: int64 \n",
      "\n"
     ]
    },
    {
     "data": {
      "image/png": "[encoded data removed]",
      "text/plain": [
       "<Figure size 432x288 with 1 Axes>"
      ]
     },
     "metadata": {
      "needs_background": "light"
     },
     "output_type": "display_data"
    }
   ],
   "source": [
    "print(titanic_complete[variable].value_counts(),\"\\n\")\n",
    "sns.countplot(titanic_complete[variable])\n",
    "plt.show()"
   ]
  },
  {
   "cell_type": "code",
   "execution_count": 88,
   "metadata": {},
   "outputs": [
    {
     "name": "stdout",
     "output_type": "stream",
     "text": [
      "0.0    113\n",
      "1.0     33\n",
      "2.0     21\n",
      "4.0      1\n",
      "Name: parch, dtype: int64 \n",
      "\n"
     ]
    },
    {
     "data": {
      "image/png": "[encoded data removed]",
      "text/plain": [
       "<Figure size 432x288 with 1 Axes>"
      ]
     },
     "metadata": {
      "needs_background": "light"
     },
     "output_type": "display_data"
    }
   ],
   "source": [
    "print(results[variable][metodo][variable].value_counts(),\"\\n\")\n",
    "sns.countplot(results[variable][metodo][variable])\n",
    "plt.show()"
   ]
  },
  {
   "cell_type": "markdown",
   "metadata": {},
   "source": [
    "### Embarked"
   ]
  },
  {
   "cell_type": "code",
   "execution_count": 89,
   "metadata": {},
   "outputs": [],
   "source": [
    "variable = \"embarked\""
   ]
  },
  {
   "cell_type": "code",
   "execution_count": 90,
   "metadata": {},
   "outputs": [
    {
     "name": "stdout",
     "output_type": "stream",
     "text": [
      "S    116\n",
      "C     65\n",
      "Q      2\n",
      "Name: embarked, dtype: int64 \n",
      "\n"
     ]
    },
    {
     "data": {
      "image/png": "[encoded data removed]",
      "text/plain": [
       "<Figure size 432x288 with 1 Axes>"
      ]
     },
     "metadata": {
      "needs_background": "light"
     },
     "output_type": "display_data"
    }
   ],
   "source": [
    "print(titanic_complete[variable].value_counts(),\"\\n\")\n",
    "sns.countplot(titanic_complete[variable])\n",
    "plt.show()"
   ]
  },
  {
   "cell_type": "code",
   "execution_count": 91,
   "metadata": {},
   "outputs": [
    {
     "name": "stdout",
     "output_type": "stream",
     "text": [
      "S    105\n",
      "C     58\n",
      "Q      2\n",
      "Name: embarked, dtype: int64 \n",
      "\n"
     ]
    },
    {
     "data": {
      "image/png": "[encoded data removed]",
      "text/plain": [
       "<Figure size 432x288 with 1 Axes>"
      ]
     },
     "metadata": {
      "needs_background": "light"
     },
     "output_type": "display_data"
    }
   ],
   "source": [
    "print(results[variable][metodo][variable].value_counts(),\"\\n\")\n",
    "sns.countplot(results[variable][metodo][variable])\n",
    "plt.show()"
   ]
  },
  {
   "cell_type": "markdown",
   "metadata": {
    "collapsed": "true"
   },
   "source": [
    "## **Imputacion generalizada:**"
   ]
  },
  {
   "cell_type": "code",
   "execution_count": 92,
   "metadata": {},
   "outputs": [],
   "source": [
    "metodo = \"simple\""
   ]
  },
  {
   "cell_type": "markdown",
   "metadata": {},
   "source": [
    "### Age"
   ]
  },
  {
   "cell_type": "code",
   "execution_count": 93,
   "metadata": {},
   "outputs": [],
   "source": [
    "variable = \"age\""
   ]
  },
  {
   "cell_type": "code",
   "execution_count": 94,
   "metadata": {},
   "outputs": [
    {
     "name": "stdout",
     "output_type": "stream",
     "text": [
      "count    183.000000\n",
      "mean      35.674426\n",
      "std       15.643866\n",
      "min        0.920000\n",
      "25%       24.000000\n",
      "50%       36.000000\n",
      "75%       47.500000\n",
      "max       80.000000\n",
      "Name: age, dtype: float64 \n",
      "\n"
     ]
    },
    {
     "data": {
      "image/png": "[encoded data removed]",
      "text/plain": [
       "<Figure size 432x288 with 1 Axes>"
      ]
     },
     "metadata": {
      "needs_background": "light"
     },
     "output_type": "display_data"
    }
   ],
   "source": [
    "print(titanic_complete[variable].describe(),\"\\n\")\n",
    "titanic_complete[variable].hist(grid=False,bins=20)\n",
    "plt.show()"
   ]
  },
  {
   "cell_type": "code",
   "execution_count": 96,
   "metadata": {},
   "outputs": [
    {
     "name": "stdout",
     "output_type": "stream",
     "text": [
      "count    183.000000\n",
      "mean      35.692532\n",
      "std       14.526959\n",
      "min        0.920000\n",
      "25%       25.000000\n",
      "50%       35.692532\n",
      "75%       46.500000\n",
      "max       80.000000\n",
      "Name: age_mean_imputted, dtype: float64 \n",
      "\n"
     ]
    },
    {
     "data": {
      "image/png": "[encoded data removed]",
      "text/plain": [
       "<Figure size 432x288 with 1 Axes>"
      ]
     },
     "metadata": {
      "needs_background": "light"
     },
     "output_type": "display_data"
    }
   ],
   "source": [
    "print(results[variable][metodo][variable+\"_mean_imputted\"].describe(),\"\\n\")\n",
    "results[variable][metodo][variable+\"_mean_imputted\"].hist(grid=False,bins=20) # Analizo solamente la que escogi previamente\n",
    "plt.show()"
   ]
  },
  {
   "cell_type": "markdown",
   "metadata": {},
   "source": [
    "### Fare"
   ]
  },
  {
   "cell_type": "code",
   "execution_count": 112,
   "metadata": {},
   "outputs": [],
   "source": [
    "variable = \"fare\""
   ]
  },
  {
   "cell_type": "code",
   "execution_count": 113,
   "metadata": {},
   "outputs": [
    {
     "name": "stdout",
     "output_type": "stream",
     "text": [
      "count    183.000000\n",
      "mean      78.682469\n",
      "std       76.347843\n",
      "min        0.000000\n",
      "25%       29.700000\n",
      "50%       57.000000\n",
      "75%       90.000000\n",
      "max      512.329200\n",
      "Name: fare, dtype: float64 \n",
      "\n"
     ]
    },
    {
     "data": {
      "image/png": "[encoded data removed]",
      "text/plain": [
       "<Figure size 432x288 with 1 Axes>"
      ]
     },
     "metadata": {
      "needs_background": "light"
     },
     "output_type": "display_data"
    }
   ],
   "source": [
    "print(titanic_complete[variable].describe(),\"\\n\")\n",
    "titanic_complete[variable].hist(grid=False,bins=20)\n",
    "plt.show()"
   ]
  },
  {
   "cell_type": "code",
   "execution_count": 114,
   "metadata": {},
   "outputs": [
    {
     "name": "stdout",
     "output_type": "stream",
     "text": [
      "count    183.000000\n",
      "mean      79.465438\n",
      "std       75.351832\n",
      "min        0.000000\n",
      "25%       30.000000\n",
      "50%       61.175000\n",
      "75%       90.539600\n",
      "max      512.329200\n",
      "Name: fare_median_imputted, dtype: float64 \n",
      "\n"
     ]
    },
    {
     "data": {
      "image/png": "[encoded data removed]",
      "text/plain": [
       "<Figure size 432x288 with 1 Axes>"
      ]
     },
     "metadata": {
      "needs_background": "light"
     },
     "output_type": "display_data"
    }
   ],
   "source": [
    "print(results[variable][metodo][variable+\"_median_imputted\"].describe(),\"\\n\")\n",
    "results[variable][metodo][variable+\"_median_imputted\"].hist(grid=False,bins=20)\n",
    "plt.show()"
   ]
  },
  {
   "cell_type": "markdown",
   "metadata": {},
   "source": [
    "### Sexo"
   ]
  },
  {
   "cell_type": "code",
   "execution_count": 115,
   "metadata": {},
   "outputs": [],
   "source": [
    "variable = \"sex\""
   ]
  },
  {
   "cell_type": "code",
   "execution_count": 116,
   "metadata": {},
   "outputs": [
    {
     "name": "stdout",
     "output_type": "stream",
     "text": [
      "male      95\n",
      "female    88\n",
      "Name: sex, dtype: int64 \n",
      "\n"
     ]
    },
    {
     "data": {
      "image/png": "[encoded data removed]",
      "text/plain": [
       "<Figure size 432x288 with 1 Axes>"
      ]
     },
     "metadata": {
      "needs_background": "light"
     },
     "output_type": "display_data"
    }
   ],
   "source": [
    "print(titanic_complete[variable].value_counts(),\"\\n\")\n",
    "sns.countplot(titanic_complete[variable])\n",
    "plt.show()"
   ]
  },
  {
   "cell_type": "code",
   "execution_count": 117,
   "metadata": {},
   "outputs": [
    {
     "name": "stdout",
     "output_type": "stream",
     "text": [
      "male      119\n",
      "female     64\n",
      "Name: sex_mode_imputted, dtype: int64 \n",
      "\n"
     ]
    },
    {
     "data": {
      "image/png": "[encoded data removed]",
      "text/plain": [
       "<Figure size 432x288 with 1 Axes>"
      ]
     },
     "metadata": {
      "needs_background": "light"
     },
     "output_type": "display_data"
    }
   ],
   "source": [
    "print(results[variable][metodo][variable+\"_mode_imputted\"].value_counts(),\"\\n\")\n",
    "sns.countplot(results[variable][metodo][variable+\"_mode_imputted\"]) # Metodo que escogi\n",
    "plt.show()"
   ]
  },
  {
   "cell_type": "markdown",
   "metadata": {},
   "source": [
    "### Sibsp"
   ]
  },
  {
   "cell_type": "code",
   "execution_count": 118,
   "metadata": {},
   "outputs": [],
   "source": [
    "variable = \"sibsp\""
   ]
  },
  {
   "cell_type": "code",
   "execution_count": 119,
   "metadata": {},
   "outputs": [
    {
     "name": "stdout",
     "output_type": "stream",
     "text": [
      "0    110\n",
      "1     64\n",
      "2      6\n",
      "3      3\n",
      "Name: sibsp, dtype: int64 \n",
      "\n"
     ]
    },
    {
     "data": {
      "image/png": "[encoded data removed]",
      "text/plain": [
       "<Figure size 432x288 with 1 Axes>"
      ]
     },
     "metadata": {
      "needs_background": "light"
     },
     "output_type": "display_data"
    }
   ],
   "source": [
    "print(titanic_complete[variable].value_counts(),\"\\n\")\n",
    "sns.countplot(titanic_complete[variable])\n",
    "plt.show()"
   ]
  },
  {
   "cell_type": "code",
   "execution_count": 120,
   "metadata": {},
   "outputs": [
    {
     "name": "stdout",
     "output_type": "stream",
     "text": [
      "0.0    112\n",
      "1.0     62\n",
      "2.0      6\n",
      "3.0      3\n",
      "Name: sibsp_mode_imputted, dtype: int64 \n",
      "\n"
     ]
    },
    {
     "data": {
      "image/png": "[encoded data removed]",
      "text/plain": [
       "<Figure size 432x288 with 1 Axes>"
      ]
     },
     "metadata": {
      "needs_background": "light"
     },
     "output_type": "display_data"
    }
   ],
   "source": [
    "print(results[variable][metodo][variable+\"_mode_imputted\"].value_counts(),\"\\n\")\n",
    "sns.countplot(results[variable][metodo][variable+\"_mode_imputted\"]) # Metodo que elegi\n",
    "plt.show()"
   ]
  },
  {
   "cell_type": "markdown",
   "metadata": {},
   "source": [
    "### Parch"
   ]
  },
  {
   "cell_type": "code",
   "execution_count": 121,
   "metadata": {},
   "outputs": [],
   "source": [
    "variable = \"parch\""
   ]
  },
  {
   "cell_type": "code",
   "execution_count": 122,
   "metadata": {},
   "outputs": [
    {
     "name": "stdout",
     "output_type": "stream",
     "text": [
      "0    122\n",
      "1     37\n",
      "2     23\n",
      "4      1\n",
      "Name: parch, dtype: int64 \n",
      "\n"
     ]
    },
    {
     "data": {
      "image/png": "[encoded data removed]",
      "text/plain": [
       "<Figure size 432x288 with 1 Axes>"
      ]
     },
     "metadata": {
      "needs_background": "light"
     },
     "output_type": "display_data"
    }
   ],
   "source": [
    "print(titanic_complete[variable].value_counts(),\"\\n\")\n",
    "sns.countplot(titanic_complete[variable])\n",
    "plt.show()"
   ]
  },
  {
   "cell_type": "code",
   "execution_count": 123,
   "metadata": {},
   "outputs": [
    {
     "name": "stdout",
     "output_type": "stream",
     "text": [
      "0.0    128\n",
      "1.0     33\n",
      "2.0     21\n",
      "4.0      1\n",
      "Name: parch_mode_imputted, dtype: int64 \n",
      "\n"
     ]
    },
    {
     "data": {
      "image/png": "[encoded data removed]",
      "text/plain": [
       "<Figure size 432x288 with 1 Axes>"
      ]
     },
     "metadata": {
      "needs_background": "light"
     },
     "output_type": "display_data"
    }
   ],
   "source": [
    "print(results[variable][metodo][variable+\"_mode_imputted\"].value_counts(),\"\\n\")\n",
    "sns.countplot(results[variable][metodo][variable+\"_mode_imputted\"]) # Elegida\n",
    "plt.show()"
   ]
  },
  {
   "cell_type": "markdown",
   "metadata": {},
   "source": [
    "### Embarked"
   ]
  },
  {
   "cell_type": "code",
   "execution_count": 124,
   "metadata": {},
   "outputs": [],
   "source": [
    "variable = \"embarked\""
   ]
  },
  {
   "cell_type": "code",
   "execution_count": 125,
   "metadata": {},
   "outputs": [
    {
     "name": "stdout",
     "output_type": "stream",
     "text": [
      "S    116\n",
      "C     65\n",
      "Q      2\n",
      "Name: embarked, dtype: int64 \n",
      "\n"
     ]
    },
    {
     "data": {
      "image/png": "[encoded data removed]",
      "text/plain": [
       "<Figure size 432x288 with 1 Axes>"
      ]
     },
     "metadata": {
      "needs_background": "light"
     },
     "output_type": "display_data"
    }
   ],
   "source": [
    "print(titanic_complete[variable].value_counts(),\"\\n\")\n",
    "sns.countplot(titanic_complete[variable])\n",
    "plt.show()"
   ]
  },
  {
   "cell_type": "code",
   "execution_count": 128,
   "metadata": {},
   "outputs": [
    {
     "name": "stdout",
     "output_type": "stream",
     "text": [
      "S    122\n",
      "C     59\n",
      "Q      2\n",
      "Name: embarked_mode_imputted, dtype: int64 \n",
      "\n"
     ]
    },
    {
     "data": {
      "image/png": "[encoded data removed]",
      "text/plain": [
       "<Figure size 432x288 with 1 Axes>"
      ]
     },
     "metadata": {
      "needs_background": "light"
     },
     "output_type": "display_data"
    }
   ],
   "source": [
    "print(results[variable][metodo][variable+\"_mode_imputted\"].value_counts(),\"\\n\")\n",
    "sns.countplot(results[variable][metodo][variable+\"_mode_imputted\"]) # Elegida\n",
    "plt.show()"
   ]
  },
  {
   "cell_type": "markdown",
   "metadata": {
    "collapsed": "true"
   },
   "source": [
    "## **Imputacion sectorizada:**"
   ]
  },
  {
   "cell_type": "code",
   "execution_count": 129,
   "metadata": {},
   "outputs": [],
   "source": [
    "metodo = \"sectorized\""
   ]
  },
  {
   "cell_type": "markdown",
   "metadata": {},
   "source": [
    "### Age"
   ]
  },
  {
   "cell_type": "code",
   "execution_count": 131,
   "metadata": {},
   "outputs": [],
   "source": [
    "variable = \"age\""
   ]
  },
  {
   "cell_type": "code",
   "execution_count": 132,
   "metadata": {},
   "outputs": [
    {
     "name": "stdout",
     "output_type": "stream",
     "text": [
      "count    183.000000\n",
      "mean      35.674426\n",
      "std       15.643866\n",
      "min        0.920000\n",
      "25%       24.000000\n",
      "50%       36.000000\n",
      "75%       47.500000\n",
      "max       80.000000\n",
      "Name: age, dtype: float64 \n",
      "\n"
     ]
    },
    {
     "data": {
      "image/png": "[encoded data removed]",
      "text/plain": [
       "<Figure size 432x288 with 1 Axes>"
      ]
     },
     "metadata": {
      "needs_background": "light"
     },
     "output_type": "display_data"
    }
   ],
   "source": [
    "print(titanic_complete[variable].describe(),\"\\n\")\n",
    "titanic_complete[variable].hist(grid=False,bins=20)\n",
    "plt.show()"
   ]
  },
  {
   "cell_type": "code",
   "execution_count": 135,
   "metadata": {},
   "outputs": [
    {
     "name": "stdout",
     "output_type": "stream",
     "text": [
      "count    183.000000\n",
      "mean      35.173914\n",
      "std       14.796713\n",
      "min        0.920000\n",
      "25%       24.000000\n",
      "50%       33.168302\n",
      "75%       46.500000\n",
      "max       80.000000\n",
      "Name: age_sectorized_mean, dtype: float64 \n",
      "\n"
     ]
    },
    {
     "data": {
      "image/png": "[encoded data removed]",
      "text/plain": [
       "<Figure size 432x288 with 1 Axes>"
      ]
     },
     "metadata": {
      "needs_background": "light"
     },
     "output_type": "display_data"
    }
   ],
   "source": [
    "print(results[variable][metodo][variable+\"_sectorized_mean\"].describe(),\"\\n\")\n",
    "results[variable][metodo][variable+\"_sectorized_mean\"].hist(grid=False,bins=20) # Analizo solamente la que escogi previamente para la simple\n",
    "plt.show()"
   ]
  },
  {
   "cell_type": "markdown",
   "metadata": {},
   "source": [
    "### Fare"
   ]
  },
  {
   "cell_type": "code",
   "execution_count": 136,
   "metadata": {},
   "outputs": [],
   "source": [
    "variable = \"fare\""
   ]
  },
  {
   "cell_type": "code",
   "execution_count": 137,
   "metadata": {},
   "outputs": [
    {
     "name": "stdout",
     "output_type": "stream",
     "text": [
      "count    183.000000\n",
      "mean      78.682469\n",
      "std       76.347843\n",
      "min        0.000000\n",
      "25%       29.700000\n",
      "50%       57.000000\n",
      "75%       90.000000\n",
      "max      512.329200\n",
      "Name: fare, dtype: float64 \n",
      "\n"
     ]
    },
    {
     "data": {
      "image/png": "[encoded data removed]",
      "text/plain": [
       "<Figure size 432x288 with 1 Axes>"
      ]
     },
     "metadata": {
      "needs_background": "light"
     },
     "output_type": "display_data"
    }
   ],
   "source": [
    "print(titanic_complete[variable].describe(),\"\\n\")\n",
    "titanic_complete[variable].hist(grid=False,bins=20)\n",
    "plt.show()"
   ]
  },
  {
   "cell_type": "code",
   "execution_count": 138,
   "metadata": {},
   "outputs": [
    {
     "name": "stdout",
     "output_type": "stream",
     "text": [
      "count    183.000000\n",
      "mean      78.738946\n",
      "std       75.660438\n",
      "min        0.000000\n",
      "25%       29.700000\n",
      "50%       57.979200\n",
      "75%       93.500000\n",
      "max      512.329200\n",
      "Name: fare_sectorized_median, dtype: float64 \n",
      "\n"
     ]
    },
    {
     "data": {
      "image/png": "[encoded data removed]",
      "text/plain": [
       "<Figure size 432x288 with 1 Axes>"
      ]
     },
     "metadata": {
      "needs_background": "light"
     },
     "output_type": "display_data"
    }
   ],
   "source": [
    "print(results[variable][metodo][variable+\"_sectorized_median\"].describe(),\"\\n\")\n",
    "results[variable][metodo][variable+\"_sectorized_median\"].hist(grid=False,bins=20) # SOlamente la que escogi en la simple\n",
    "plt.show()"
   ]
  },
  {
   "cell_type": "markdown",
   "metadata": {},
   "source": [
    "### Sexo"
   ]
  },
  {
   "cell_type": "code",
   "execution_count": 139,
   "metadata": {},
   "outputs": [],
   "source": [
    "variable = \"sex\""
   ]
  },
  {
   "cell_type": "code",
   "execution_count": 140,
   "metadata": {},
   "outputs": [
    {
     "name": "stdout",
     "output_type": "stream",
     "text": [
      "male      95\n",
      "female    88\n",
      "Name: sex, dtype: int64 \n",
      "\n"
     ]
    },
    {
     "data": {
      "image/png": "[encoded data removed]",
      "text/plain": [
       "<Figure size 432x288 with 1 Axes>"
      ]
     },
     "metadata": {
      "needs_background": "light"
     },
     "output_type": "display_data"
    }
   ],
   "source": [
    "print(titanic_complete[variable].value_counts(),\"\\n\")\n",
    "sns.countplot(titanic_complete[variable])\n",
    "plt.show()"
   ]
  },
  {
   "cell_type": "code",
   "execution_count": 141,
   "metadata": {},
   "outputs": [
    {
     "name": "stdout",
     "output_type": "stream",
     "text": [
      "female    100\n",
      "male       83\n",
      "Name: sex_sectorized_mode, dtype: int64 \n",
      "\n"
     ]
    },
    {
     "data": {
      "image/png": "[encoded data removed]",
      "text/plain": [
       "<Figure size 432x288 with 1 Axes>"
      ]
     },
     "metadata": {
      "needs_background": "light"
     },
     "output_type": "display_data"
    }
   ],
   "source": [
    "print(results[variable][metodo][variable+\"_sectorized_mode\"].value_counts(),\"\\n\")\n",
    "sns.countplot(results[variable][metodo][variable+\"_sectorized_mode\"]) # Metodo que escogi\n",
    "plt.show()"
   ]
  },
  {
   "cell_type": "markdown",
   "metadata": {},
   "source": [
    "### Sibsp"
   ]
  },
  {
   "cell_type": "code",
   "execution_count": 142,
   "metadata": {},
   "outputs": [],
   "source": [
    "variable = \"sibsp\""
   ]
  },
  {
   "cell_type": "code",
   "execution_count": 143,
   "metadata": {},
   "outputs": [
    {
     "name": "stdout",
     "output_type": "stream",
     "text": [
      "0    110\n",
      "1     64\n",
      "2      6\n",
      "3      3\n",
      "Name: sibsp, dtype: int64 \n",
      "\n"
     ]
    },
    {
     "data": {
      "image/png": "[encoded data removed]",
      "text/plain": [
       "<Figure size 432x288 with 1 Axes>"
      ]
     },
     "metadata": {
      "needs_background": "light"
     },
     "output_type": "display_data"
    }
   ],
   "source": [
    "print(titanic_complete[variable].value_counts(),\"\\n\")\n",
    "sns.countplot(titanic_complete[variable])\n",
    "plt.show()"
   ]
  },
  {
   "cell_type": "code",
   "execution_count": 144,
   "metadata": {},
   "outputs": [
    {
     "name": "stdout",
     "output_type": "stream",
     "text": [
      "0.0    110\n",
      "1.0     64\n",
      "2.0      6\n",
      "3.0      3\n",
      "Name: sibsp_sectorized_mode, dtype: int64 \n",
      "\n"
     ]
    },
    {
     "data": {
      "image/png": "[encoded data removed]",
      "text/plain": [
       "<Figure size 432x288 with 1 Axes>"
      ]
     },
     "metadata": {
      "needs_background": "light"
     },
     "output_type": "display_data"
    }
   ],
   "source": [
    "print(results[variable][metodo][variable+\"_sectorized_mode\"].value_counts(),\"\\n\")\n",
    "sns.countplot(results[variable][metodo][variable+\"_sectorized_mode\"]) # Metodo que elegi\n",
    "plt.show()"
   ]
  },
  {
   "cell_type": "markdown",
   "metadata": {},
   "source": [
    "### Parch"
   ]
  },
  {
   "cell_type": "code",
   "execution_count": 145,
   "metadata": {},
   "outputs": [],
   "source": [
    "variable = \"parch\""
   ]
  },
  {
   "cell_type": "code",
   "execution_count": 146,
   "metadata": {},
   "outputs": [
    {
     "name": "stdout",
     "output_type": "stream",
     "text": [
      "0    122\n",
      "1     37\n",
      "2     23\n",
      "4      1\n",
      "Name: parch, dtype: int64 \n",
      "\n"
     ]
    },
    {
     "data": {
      "image/png": "[encoded data removed]",
      "text/plain": [
       "<Figure size 432x288 with 1 Axes>"
      ]
     },
     "metadata": {
      "needs_background": "light"
     },
     "output_type": "display_data"
    }
   ],
   "source": [
    "print(titanic_complete[variable].value_counts(),\"\\n\")\n",
    "sns.countplot(titanic_complete[variable])\n",
    "plt.show()"
   ]
  },
  {
   "cell_type": "code",
   "execution_count": 147,
   "metadata": {},
   "outputs": [
    {
     "name": "stdout",
     "output_type": "stream",
     "text": [
      "0.0    127\n",
      "1.0     34\n",
      "2.0     21\n",
      "4.0      1\n",
      "Name: parch_sectorized_mode, dtype: int64 \n",
      "\n"
     ]
    },
    {
     "data": {
      "image/png": "[encoded data removed]",
      "text/plain": [
       "<Figure size 432x288 with 1 Axes>"
      ]
     },
     "metadata": {
      "needs_background": "light"
     },
     "output_type": "display_data"
    }
   ],
   "source": [
    "print(results[variable][metodo][variable+\"_sectorized_mode\"].value_counts(),\"\\n\")\n",
    "sns.countplot(results[variable][metodo][variable+\"_sectorized_mode\"]) # Elegida\n",
    "plt.show()"
   ]
  },
  {
   "cell_type": "markdown",
   "metadata": {},
   "source": [
    "### Embarked"
   ]
  },
  {
   "cell_type": "code",
   "execution_count": 148,
   "metadata": {},
   "outputs": [],
   "source": [
    "variable = \"embarked\""
   ]
  },
  {
   "cell_type": "code",
   "execution_count": 149,
   "metadata": {},
   "outputs": [
    {
     "name": "stdout",
     "output_type": "stream",
     "text": [
      "S    116\n",
      "C     65\n",
      "Q      2\n",
      "Name: embarked, dtype: int64 \n",
      "\n"
     ]
    },
    {
     "data": {
      "image/png": "[encoded data removed]",
      "text/plain": [
       "<Figure size 432x288 with 1 Axes>"
      ]
     },
     "metadata": {
      "needs_background": "light"
     },
     "output_type": "display_data"
    }
   ],
   "source": [
    "print(titanic_complete[variable].value_counts(),\"\\n\")\n",
    "sns.countplot(titanic_complete[variable])\n",
    "plt.show()"
   ]
  },
  {
   "cell_type": "code",
   "execution_count": 151,
   "metadata": {},
   "outputs": [
    {
     "name": "stdout",
     "output_type": "stream",
     "text": [
      "S    122\n",
      "C     59\n",
      "Q      2\n",
      "Name: embarked_sectorized_mode, dtype: int64 \n",
      "\n"
     ]
    },
    {
     "data": {
      "image/png": "[encoded data removed]",
      "text/plain": [
       "<Figure size 432x288 with 1 Axes>"
      ]
     },
     "metadata": {
      "needs_background": "light"
     },
     "output_type": "display_data"
    }
   ],
   "source": [
    "print(results[variable][metodo][variable+\"_sectorized_mode\"].value_counts(),\"\\n\")\n",
    "sns.countplot(results[variable][metodo][variable+\"_sectorized_mode\"]) # Elegida\n",
    "plt.show()"
   ]
  },
  {
   "cell_type": "markdown",
   "metadata": {
    "collapsed": "true"
   },
   "source": [
    "## **Imputacion Regresion Lineal Simle:**"
   ]
  },
  {
   "cell_type": "code",
   "execution_count": 153,
   "metadata": {},
   "outputs": [],
   "source": [
    "metodo = \"lm\""
   ]
  },
  {
   "cell_type": "markdown",
   "metadata": {},
   "source": [
    "### Age"
   ]
  },
  {
   "cell_type": "code",
   "execution_count": 154,
   "metadata": {},
   "outputs": [],
   "source": [
    "variable = \"age\""
   ]
  },
  {
   "cell_type": "code",
   "execution_count": 155,
   "metadata": {},
   "outputs": [
    {
     "name": "stdout",
     "output_type": "stream",
     "text": [
      "count    183.000000\n",
      "mean      35.674426\n",
      "std       15.643866\n",
      "min        0.920000\n",
      "25%       24.000000\n",
      "50%       36.000000\n",
      "75%       47.500000\n",
      "max       80.000000\n",
      "Name: age, dtype: float64 \n",
      "\n"
     ]
    },
    {
     "data": {
      "image/png": "[encoded data removed]",
      "text/plain": [
       "<Figure size 432x288 with 1 Axes>"
      ]
     },
     "metadata": {
      "needs_background": "light"
     },
     "output_type": "display_data"
    }
   ],
   "source": [
    "print(titanic_complete[variable].describe(),\"\\n\")\n",
    "titanic_complete[variable].hist(grid=False,bins=20)\n",
    "plt.show()"
   ]
  },
  {
   "cell_type": "code",
   "execution_count": 157,
   "metadata": {},
   "outputs": [
    {
     "name": "stdout",
     "output_type": "stream",
     "text": [
      "count    175.000000\n",
      "mean      35.893086\n",
      "std       14.738124\n",
      "min        0.920000\n",
      "25%       25.000000\n",
      "50%       36.000000\n",
      "75%       47.000000\n",
      "max       80.000000\n",
      "Name: age_lm_imputation, dtype: float64 \n",
      "\n"
     ]
    },
    {
     "data": {
      "image/png": "[encoded data removed]",
      "text/plain": [
       "<Figure size 432x288 with 1 Axes>"
      ]
     },
     "metadata": {
      "needs_background": "light"
     },
     "output_type": "display_data"
    }
   ],
   "source": [
    "print(results[variable][metodo][variable+\"_lm_imputation\"].describe(),\"\\n\")\n",
    "# Como me faltan unas cols de la var. dep. no esta compl. imputado\n",
    "results[variable][metodo][variable+\"_lm_imputation\"].hist(grid=False,bins=20) \n",
    "plt.show()"
   ]
  },
  {
   "cell_type": "markdown",
   "metadata": {},
   "source": [
    "### Fare"
   ]
  },
  {
   "cell_type": "code",
   "execution_count": 158,
   "metadata": {},
   "outputs": [],
   "source": [
    "variable = \"fare\""
   ]
  },
  {
   "cell_type": "code",
   "execution_count": 159,
   "metadata": {},
   "outputs": [
    {
     "name": "stdout",
     "output_type": "stream",
     "text": [
      "count    183.000000\n",
      "mean      78.682469\n",
      "std       76.347843\n",
      "min        0.000000\n",
      "25%       29.700000\n",
      "50%       57.000000\n",
      "75%       90.000000\n",
      "max      512.329200\n",
      "Name: fare, dtype: float64 \n",
      "\n"
     ]
    },
    {
     "data": {
      "image/png": "[encoded data removed]",
      "text/plain": [
       "<Figure size 432x288 with 1 Axes>"
      ]
     },
     "metadata": {
      "needs_background": "light"
     },
     "output_type": "display_data"
    }
   ],
   "source": [
    "print(titanic_complete[variable].describe(),\"\\n\")\n",
    "titanic_complete[variable].hist(grid=False,bins=20)\n",
    "plt.show()"
   ]
  },
  {
   "cell_type": "code",
   "execution_count": 161,
   "metadata": {},
   "outputs": [
    {
     "name": "stdout",
     "output_type": "stream",
     "text": [
      "count    158.000000\n",
      "mean      81.604292\n",
      "std       76.471325\n",
      "min        0.000000\n",
      "25%       30.548950\n",
      "50%       66.600000\n",
      "75%       91.079200\n",
      "max      512.329200\n",
      "Name: fare_lm_imputation, dtype: float64 \n",
      "\n"
     ]
    },
    {
     "data": {
      "image/png": "[encoded data removed]",
      "text/plain": [
       "<Figure size 432x288 with 1 Axes>"
      ]
     },
     "metadata": {
      "needs_background": "light"
     },
     "output_type": "display_data"
    }
   ],
   "source": [
    "print(results[variable][metodo][variable+\"_lm_imputation\"].describe(),\"\\n\")\n",
    "# Como me faltan unas cols de la var. dep. no esta compl. imputado\n",
    "results[variable][metodo][variable+\"_lm_imputation\"].hist(grid=False,bins=20) # SOlamente la que escogi en la simple\n",
    "plt.show()"
   ]
  },
  {
   "cell_type": "markdown",
   "metadata": {},
   "source": [
    "# **Conclusiones 1er Parte**"
   ]
  },
  {
   "cell_type": "markdown",
   "metadata": {},
   "source": [
    "Observando estadisticos de tendencia central y observando las distribuciones de las variables completas y las imputadas puedo concluir que:\n",
    "- **Imputacion Simple** funciono para las variables *sibsp*, *parch* y *embarked*. El hecho que la cantidad de NULLS aca fuera bajo y que hubiera una tendencia marcada (moda) permitio que una forma tan simple imputara bien cada variable.\n",
    "- La variable de *sex* fue mejor imputada de **forma sectorizada**, lo cual hace mucho sentido y era lo que yo habia propuesto inicialmente.\n",
    "- La variable de *fare* fue mejor imputada por el **metodo sectorizado**.\n",
    "- La variable de *age* fue mejor imputada por el **modelo lineal** sin embargo una desventaja de esto es que si no cuento con la variable de edad y la variable independiente entonces no puedo imputar todas mis observaciones en algunos casos."
   ]
  },
  {
   "cell_type": "markdown",
   "metadata": {},
   "source": [
    "# **2nda Parte**"
   ]
  },
  {
   "cell_type": "code",
   "execution_count": 169,
   "metadata": {},
   "outputs": [],
   "source": [
    "### NORMALIZATION\n",
    "def minmax(df,col):\n",
    "    min_val = df[col].min()\n",
    "    max_val = df[col].max()\n",
    "    \n",
    "    df_norm = df.copy()\n",
    "    df_norm[col] = (df_norm[col] - min_val)/(max_val - min_val)\n",
    "    \n",
    "    return df_norm[col]\n",
    "\n",
    "def std_scaler(df,col):\n",
    "    mean = df[col].mean()\n",
    "    sigma = df[col].std()\n",
    "    \n",
    "    df_norm = df.copy()\n",
    "    df_norm[col] = (df_norm[col] - mean)/sigma\n",
    "    \n",
    "    return df_norm[col]\n",
    "\n",
    "def maxabs_scaler(df,col):\n",
    "    max_abs = abs(df[col]).max()\n",
    "    \n",
    "    df_norm = df.copy()\n",
    "    df_norm[col] = df_norm[col]/max_abs\n",
    "    \n",
    "    return df_norm[col]"
   ]
  },
  {
   "cell_type": "markdown",
   "metadata": {},
   "source": [
    "## Normalizacion Age"
   ]
  },
  {
   "cell_type": "code",
   "execution_count": 184,
   "metadata": {},
   "outputs": [
    {
     "name": "stdout",
     "output_type": "stream",
     "text": [
      "count    183.000000\n",
      "mean      35.674426\n",
      "std       15.643866\n",
      "min        0.920000\n",
      "25%       24.000000\n",
      "50%       36.000000\n",
      "75%       47.500000\n",
      "max       80.000000\n",
      "Name: age, dtype: float64 \n",
      "\n"
     ]
    },
    {
     "data": {
      "image/png": "[encoded data removed]",
      "text/plain": [
       "<Figure size 432x288 with 1 Axes>"
      ]
     },
     "metadata": {
      "needs_background": "light"
     },
     "output_type": "display_data"
    }
   ],
   "source": [
    "print(titanic_complete.age.describe(),\"\\n\")\n",
    "titanic_complete.age.hist(grid=False,bins=20)\n",
    "plt.title(\"Real\")\n",
    "plt.show()"
   ]
  },
  {
   "cell_type": "code",
   "execution_count": 190,
   "metadata": {},
   "outputs": [
    {
     "name": "stdout",
     "output_type": "stream",
     "text": [
      "count    175.000000\n",
      "mean       0.442249\n",
      "std        0.186370\n",
      "min        0.000000\n",
      "25%        0.304502\n",
      "50%        0.443601\n",
      "75%        0.582701\n",
      "max        1.000000\n",
      "Name: age_lm_imputation, dtype: float64 \n",
      "\n"
     ]
    },
    {
     "data": {
      "image/png": "[encoded data removed]",
      "text/plain": [
       "<Figure size 432x288 with 1 Axes>"
      ]
     },
     "metadata": {
      "needs_background": "light"
     },
     "output_type": "display_data"
    }
   ],
   "source": [
    "df_minmax = minmax(results[\"age\"][\"lm\"],\"age_lm_imputation\")\n",
    "print(df_minmax.describe(),\"\\n\")\n",
    "df_minmax.hist(grid=False,bins=20)\n",
    "plt.title(\"Min Max Scaler\")\n",
    "plt.show()"
   ]
  },
  {
   "cell_type": "code",
   "execution_count": 189,
   "metadata": {},
   "outputs": [
    {
     "name": "stdout",
     "output_type": "stream",
     "text": [
      "count    1.750000e+02\n",
      "mean    -2.283887e-17\n",
      "std      1.000000e+00\n",
      "min     -2.372967e+00\n",
      "25%     -7.391094e-01\n",
      "50%      7.254262e-03\n",
      "75%      7.536179e-01\n",
      "max      2.992709e+00\n",
      "Name: age_lm_imputation, dtype: float64 \n",
      "\n"
     ]
    },
    {
     "data": {
      "image/png": "[encoded data removed]",
      "text/plain": [
       "<Figure size 432x288 with 1 Axes>"
      ]
     },
     "metadata": {
      "needs_background": "light"
     },
     "output_type": "display_data"
    }
   ],
   "source": [
    "std_df = std_scaler(results[\"age\"][\"lm\"],\"age_lm_imputation\")\n",
    "print(std_df.describe(),\"\\n\")\n",
    "std_df.hist(grid=False,bins=20)\n",
    "plt.title(\"Standard Scaler\")\n",
    "plt.show()"
   ]
  },
  {
   "cell_type": "code",
   "execution_count": 206,
   "metadata": {},
   "outputs": [
    {
     "data": {
      "image/png": "[encoded data removed]",
      "text/plain": [
       "<Figure size 432x288 with 1 Axes>"
      ]
     },
     "metadata": {
      "needs_background": "light"
     },
     "output_type": "display_data"
    }
   ],
   "source": [
    "maxabs_scaler(results[\"age\"][\"lm\"],\"age_lm_imputation\").hist(grid=False,bins=20)\n",
    "plt.title(\"MaxAbs Scaler\")\n",
    "plt.show()"
   ]
  },
  {
   "cell_type": "markdown",
   "metadata": {},
   "source": [
    "## Normalizacion Fare"
   ]
  },
  {
   "cell_type": "code",
   "execution_count": 191,
   "metadata": {},
   "outputs": [
    {
     "name": "stdout",
     "output_type": "stream",
     "text": [
      "count    183.000000\n",
      "mean      78.682469\n",
      "std       76.347843\n",
      "min        0.000000\n",
      "25%       29.700000\n",
      "50%       57.000000\n",
      "75%       90.000000\n",
      "max      512.329200\n",
      "Name: fare, dtype: float64 \n",
      "\n"
     ]
    },
    {
     "data": {
      "image/png": "[encoded data removed]",
      "text/plain": [
       "<Figure size 432x288 with 1 Axes>"
      ]
     },
     "metadata": {
      "needs_background": "light"
     },
     "output_type": "display_data"
    }
   ],
   "source": [
    "print(titanic_complete.fare.describe(),\"\\n\")\n",
    "titanic_complete.fare.hist(grid=False,bins=20)\n",
    "plt.title(\"Real\")\n",
    "plt.show()"
   ]
  },
  {
   "cell_type": "code",
   "execution_count": 198,
   "metadata": {},
   "outputs": [
    {
     "data": {
      "text/plain": [
       "0      71.2833\n",
       "1      53.1000\n",
       "2      51.8625\n",
       "3      16.7000\n",
       "4      26.5500\n",
       "        ...   \n",
       "178    93.5000\n",
       "179     5.0000\n",
       "180    83.1583\n",
       "181    30.0000\n",
       "182    30.0000\n",
       "Name: fare_sectorized_median, Length: 183, dtype: float64"
      ]
     },
     "execution_count": 198,
     "metadata": {},
     "output_type": "execute_result"
    }
   ],
   "source": [
    "results[\"fare\"][\"sectorized\"][\"fare_sectorized_median\"]"
   ]
  },
  {
   "cell_type": "code",
   "execution_count": 199,
   "metadata": {},
   "outputs": [
    {
     "name": "stdout",
     "output_type": "stream",
     "text": [
      "count    183.000000\n",
      "mean       0.153688\n",
      "std        0.147679\n",
      "min        0.000000\n",
      "25%        0.057971\n",
      "50%        0.113168\n",
      "75%        0.182500\n",
      "max        1.000000\n",
      "Name: fare_sectorized_median, dtype: float64 \n",
      "\n"
     ]
    },
    {
     "data": {
      "image/png": "[encoded data removed]",
      "text/plain": [
       "<Figure size 432x288 with 1 Axes>"
      ]
     },
     "metadata": {
      "needs_background": "light"
     },
     "output_type": "display_data"
    }
   ],
   "source": [
    "df_minmax = minmax(results[\"fare\"][\"sectorized\"],\"fare_sectorized_median\")\n",
    "print(df_minmax.describe(),\"\\n\")\n",
    "df_minmax.hist(grid=False,bins=20)\n",
    "plt.title(\"Min Max Scaler\")\n",
    "plt.show()"
   ]
  },
  {
   "cell_type": "code",
   "execution_count": 203,
   "metadata": {},
   "outputs": [
    {
     "name": "stdout",
     "output_type": "stream",
     "text": [
      "count   183.00000\n",
      "mean      0.00000\n",
      "std       1.00000\n",
      "min      -1.04069\n",
      "25%      -0.64815\n",
      "50%      -0.27438\n",
      "75%       0.19510\n",
      "max       5.73074\n",
      "Name: fare_sectorized_median, dtype: float64 \n",
      "\n"
     ]
    },
    {
     "data": {
      "image/png": "[encoded data removed]",
      "text/plain": [
       "<Figure size 432x288 with 1 Axes>"
      ]
     },
     "metadata": {
      "needs_background": "light"
     },
     "output_type": "display_data"
    }
   ],
   "source": [
    "std_df = std_scaler(results[\"fare\"][\"sectorized\"],\"fare_sectorized_median\")\n",
    "print(std_df.describe(),\"\\n\")\n",
    "std_df.hist(grid=False,bins=20)\n",
    "plt.title(\"Standard Scaler\")\n",
    "plt.show()"
   ]
  },
  {
   "cell_type": "code",
   "execution_count": 205,
   "metadata": {},
   "outputs": [
    {
     "name": "stdout",
     "output_type": "stream",
     "text": [
      "count   183.00000\n",
      "mean      0.15369\n",
      "std       0.14768\n",
      "min       0.00000\n",
      "25%       0.05797\n",
      "50%       0.11317\n",
      "75%       0.18250\n",
      "max       1.00000\n",
      "Name: fare_sectorized_median, dtype: float64 \n",
      "\n"
     ]
    },
    {
     "data": {
      "image/png": "[encoded data removed]",
      "text/plain": [
       "<Figure size 432x288 with 1 Axes>"
      ]
     },
     "metadata": {
      "needs_background": "light"
     },
     "output_type": "display_data"
    }
   ],
   "source": [
    "maxabs_df = maxabs_scaler(results[\"fare\"][\"sectorized\"],\"fare_sectorized_median\")\n",
    "print(maxabs_df.describe(),\"\\n\")\n",
    "maxabs_df.hist(grid=False,bins=20)\n",
    "plt.title(\"MaxAbs Scaler\")\n",
    "plt.show()"
   ]
  },
  {
   "cell_type": "markdown",
   "metadata": {},
   "source": [
    "# **Conclusiones 2nda Parte**"
   ]
  },
  {
   "cell_type": "markdown",
   "metadata": {},
   "source": [
    "Al comparar las normalizaciones puedo cuncluir que realmente no existe diferencia evidente en este caso para los tres metodos que emplee. Realmente las variaciones en los estadisticos se deben al metodo empleado para imputar para cada variable asi como el rango de valores. Sin embargo, la normalizacion solamente cambio el rango de las variables (la finalidad de normalizar). Tanto MinMax como MaxAbs son muy parecidos ya que no estamos tratando con variables numericas que tenga valores negativos y ademas el minimo de mis variables era muy cercano a 0 por lo que al emplear MinMax estaba dividiendo cada valor,perturbado por el valor minimo que era cercano a cero, por un aproximado del maximo absoluto solamente perturbado por el valor minimo nuevamente. A menos a que mi modelo no pueda usar valores negativos como variable dependiente no veo preferenica clara entre MinMax/MaxAbs y Std."
   ]
  }
 ],
 "metadata": {
  "kernelspec": {
   "display_name": "Python 3",
   "language": "python",
   "name": "python3"
  },
  "language_info": {
   "codemirror_mode": {
    "name": "ipython",
    "version": 3
   },
   "file_extension": ".py",
   "mimetype": "text/x-python",
   "name": "python",
   "nbconvert_exporter": "python",
   "pygments_lexer": "ipython3",
   "version": "3.8.1"
  }
 },
 "nbformat": 4,
 "nbformat_minor": 4
}
